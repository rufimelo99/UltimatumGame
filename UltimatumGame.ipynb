{
  "nbformat": 4,
  "nbformat_minor": 0,
  "metadata": {
    "colab": {
      "name": "UltimatumGame.ipynb",
      "provenance": [],
      "collapsed_sections": [],
      "authorship_tag": "ABX9TyMlUrxMgXYFiRBt1/F0zo6Y",
      "include_colab_link": true
    },
    "kernelspec": {
      "name": "python3",
      "display_name": "Python 3"
    },
    "language_info": {
      "name": "python"
    }
  },
  "cells": [
    {
      "cell_type": "markdown",
      "metadata": {
        "id": "view-in-github",
        "colab_type": "text"
      },
      "source": [
        "<a href=\"https://colab.research.google.com/github/rufimelo99/UltimatumGame/blob/main/UltimatumGame.ipynb\" target=\"_parent\"><img src=\"https://colab.research.google.com/assets/colab-badge.svg\" alt=\"Open In Colab\"/></a>"
      ]
    },
    {
      "cell_type": "markdown",
      "metadata": {
        "id": "s3-6wDuzSLsp"
      },
      "source": [
        "#Classes"
      ]
    },
    {
      "cell_type": "markdown",
      "metadata": {
        "id": "l_361YcDR8EP"
      },
      "source": [
        "## Player Class"
      ]
    },
    {
      "cell_type": "code",
      "metadata": {
        "id": "VdfOGMUVCPxi"
      },
      "source": [
        "import random\n",
        "import numpy as np\n",
        "import numpy.random as rnd\n",
        "import math\n",
        "from enum import Enum\n",
        "bargainValues = [0,0.05,0.1,0.15,0.2,0.25,0.3,0.35,0.4,0.45,0.5,0.55,0.6,0.65,0.7,0.75,0.8,0.85, 0.9,0.95,1.0]\n",
        "mapValuesIndex = {0: 0, 0.05: 1, 0.1: 2, 0.15: 3, 0.2:4, 0.25: 5, 0.3: 6, 0.35: 7, 0.4: 8, 0.45: 9, 0.5: 10, 0.55: 11, 0.6: 12, 0.65: 13, 0.7: 14, 0.75: 15, 0.8: 16, 0.85: 17, 0.9: 18, 0.95: 19, 1: 20}\n",
        "mapIndexValues = {0: 0, 1: 0.05, 2: 0.1, 3: 0.15, 4:0.2, 5: 0.25, 6: 0.3, 7: 0.35, 8: 0.4, 9: 0.45, 10: 5, 11: 5.5, 12: 6, 13: 6.5, 14: 7, 15: 7.5, 16: 8, 17: 8.5, 18: 9, 19: 9.5, 20: 1}\n",
        "\n",
        "class PlayerRole(Enum):\n",
        "    EMPATHIC = 1\n",
        "    PRAGMATIC = 2\n",
        "    INDEPENDENT = 3\n",
        "\n",
        "class Player:\n",
        "    def __init__(self, id, PlayerRole) -> None:\n",
        "        self.id=id\n",
        "        self.neighbours = []\n",
        "        self.ComulativePayoff = 0\n",
        "\n",
        "        self.pValue=0\n",
        "        self.qValue=0\n",
        "        self.PlayerRole=PlayerRole\n",
        "\n",
        "    def attributeStrategy(self):\n",
        "      if self.PlayerRole == PlayerRole.EMPATHIC :\n",
        "        self.pValue = random.choice(bargainValues)\n",
        "        self.qValue = self.pValue\n",
        "      elif self.PlayerRole == PlayerRole.PRAGMATIC :\n",
        "        self.pValue = random.choice(bargainValues)\n",
        "        self.qValue = 1-self.pValue\n",
        "      elif self.PlayerRole == PlayerRole.INDEPENDENT :\n",
        "        self.pValue = random.choice(bargainValues)\n",
        "        self.qValue = random.choice(bargainValues)\n",
        "\n",
        "\n",
        "\n",
        "    def makeOffer(self):\n",
        "        #returns index of bargain proposal \n",
        "        #offer from Proposer\n",
        "        return mapValuesIndex[self.pValue]\n",
        "\n",
        "    def bargainDecision(self, bargainValueIndex):\n",
        "        if mapIndexValues[bargainValueIndex]>=self.qValue:\n",
        "          return 1\n",
        "        else:\n",
        "          return 0 \n"
      ],
      "execution_count": 85,
      "outputs": []
    },
    {
      "cell_type": "markdown",
      "metadata": {
        "id": "roC5WK7ISDhd"
      },
      "source": [
        "## Ultimaum Game Class"
      ]
    },
    {
      "cell_type": "code",
      "metadata": {
        "id": "EKuFQuV2CRgC"
      },
      "source": [
        "import networkx as nx\n",
        "import matplotlib.pyplot as plt\n",
        "\n",
        "stopsForGraphs = [1,100,1000,10000, 20000]\n",
        "\n",
        "class ultimatumGame:\n",
        "  \n",
        "    def __init__(self, Nplayers, PlayerRole, ScaleFree=False) -> None:\n",
        "        \n",
        "        if ScaleFree:\n",
        "          #Scale-Free\n",
        "          #self.graph = nx.complete_graph(Nplayers)\n",
        "          #ver aqui o argumento n\n",
        "          self.graph = nx.barabasi_albert_graph(Nplayers, 2)\n",
        "        else:\n",
        "          #Erdos-Renyi\n",
        "          self.graph = nx.erdos_renyi_graph(Nplayers, 0.4)\n",
        "\n",
        "        self.Players = {}\n",
        "        \n",
        "        #uniforms distributions i gueess TODO\n",
        "        pValuesForAll = random.choices (bargainValues,k=Nplayers)\n",
        "        #if needed\n",
        "        qValuesForAll = random.choices (bargainValues,k=Nplayers)\n",
        "\n",
        "        #create all players\n",
        "        for i in range(Nplayers):\n",
        "            player = Player(i, PlayerRole)\n",
        "            player.neighbours = list(self.graph.adj[i])\n",
        "\n",
        "            if PlayerRole == PlayerRole.EMPATHIC :\n",
        "              player.pValue = pValuesForAll[i]\n",
        "              player.qValue = player.pValue\n",
        "            elif PlayerRole == PlayerRole.PRAGMATIC :\n",
        "              player.pValue = pValuesForAll[i]\n",
        "              player.qValue = 1-player.pValue\n",
        "            elif PlayerRole == PlayerRole.INDEPENDENT :\n",
        "              player.pValue = pValuesForAll[i]\n",
        "              player.qValue = qValuesForAll[i]\n",
        "\n",
        "\n",
        "            self.Players[i]=player\n",
        "        print(\"Network created\")  \n",
        "\n",
        "    def printGraph(self):\n",
        "        #nx.draw_shell(self.graph, with_labels = True)\n",
        "        #nx.draw(self.graph, with_labels = True)\n",
        "        \n",
        "        fig = plt.figure(figsize=(40, 40)) \n",
        "        nx.draw(self.graph, node_size=150, with_labels = True) \n",
        "        plt.axis('equal') \n",
        "        plt.show() \n",
        "        plt.show()\n",
        "\n",
        "    def runEpisode(self, actualIteration,offersDicInitial,offerDic,stopsForGraphs, SocialPenalty=True):\n",
        "      for playerId in range(len(self.Players)):\n",
        "\n",
        "        #natural selection -> see if there is a better policy in a random j neighbour and define a probability to use j's strategy \n",
        "        player = self.Players[playerId]\n",
        "        if player.neighbours!=[]:\n",
        "          #see if my random neighbour has a better startegy\n",
        "          randomNeighbourIndex = rnd.choice(len(player.neighbours))\n",
        "          randomNeighbour = self.Players[player.neighbours[randomNeighbourIndex]]\n",
        "          if randomNeighbour.ComulativePayoff > player.ComulativePayoff and actualIteration != 1:\n",
        "            #see here\n",
        "            #usar max\n",
        "            higherDegree=np.max([len(player.neighbours),len(randomNeighbour.neighbours)])\n",
        "\n",
        "            probUsingNeighbourStategy = round(((randomNeighbour.ComulativePayoff-player.ComulativePayoff)/ (2*higherDegree)),3)\n",
        "            prob = probUsingNeighbourStategy\n",
        "            usingExternalPolicy = rnd.choice([0, 1], p = [1-prob, prob])\n",
        "            if usingExternalPolicy:\n",
        "              player.qValue = randomNeighbour.qValue\n",
        "              player.pValue = randomNeighbour.pValue\n",
        "\n",
        "        #episode itself   -> play the game  \n",
        "        for neighbourId in self.Players[playerId].neighbours:\n",
        "          player = self.Players[playerId]\n",
        "          neighbour = self.Players[neighbourId]\n",
        "          \n",
        "          playerBargainIndex=player.makeOffer()\n",
        "          rewardAcceptedOrNot = neighbour.bargainDecision(playerBargainIndex)\n",
        "          \n",
        "          playerReward = bargainValues[-(playerBargainIndex+1)]\n",
        "          neighbourReward = bargainValues[playerBargainIndex]\n",
        "          \n",
        "          #add payoffs to player  \n",
        "          player.ComulativePayoff+=rewardAcceptedOrNot*playerReward\n",
        "          neighbour.ComulativePayoff+=rewardAcceptedOrNot*neighbourReward\n",
        "\n",
        "          #save info for graphics\n",
        "          if actualIteration in stopsForGraphs:\n",
        "            offersDicInitial[bargainValues[playerBargainIndex]]+=1\n",
        "      \n",
        "\n",
        "      #save data for graphs\n",
        "      if actualIteration in stopsForGraphs:\n",
        "        offerDic[actualIteration]=offersDicInitial.copy()\n",
        "        offersDicInitial.update({}.fromkeys(offersDicInitial,0))\n",
        "      \n",
        "\n",
        "      #get the comulative payoffs after a round-robin round\n",
        "      lowerPayoff = len(self.Players) #just a awful large number\n",
        "      lowerPayoffId = 0\n",
        "      for playerId in range(len(self.Players)):\n",
        "        player = self.Players[playerId]\n",
        "        if player.neighbours!=[]:\n",
        "          \n",
        "          #reseting payoffs of that round\n",
        "          player.ComulativePayoff = 0\n",
        "          #updating lowerPayoff if necessary\n",
        "          if player.ComulativePayoff<lowerPayoff:\n",
        "            lowerPayoff=player.ComulativePayoff\n",
        "            lowerPayoffId=player.id\n",
        "            \n",
        "        \n",
        "      #Social penalty\n",
        "      #see neigbours policy->comunidaades\n",
        "      if SocialPenalty:\n",
        "        playerToBeRemoved = self.Players[lowerPayoffId]\n",
        "        #handle its neighbours\n",
        "        for i in playerToBeRemoved.neighbours:\n",
        "          #update its q and p values     \n",
        "          self.Players[i].attributeStrategy()\n",
        "\n",
        "        #update q and p Values\n",
        "        playerToBeRemoved.attributeStrategy()\n",
        "\n",
        "\n",
        "      return offersDicInitial,offerDic\n",
        "          "
      ],
      "execution_count": 96,
      "outputs": []
    },
    {
      "cell_type": "markdown",
      "metadata": {
        "id": "SkFDGZVjSPdD"
      },
      "source": [
        "# Execution"
      ]
    },
    {
      "cell_type": "markdown",
      "metadata": {
        "id": "QeYsT1lVVAuk"
      },
      "source": [
        "## Game Creation\n"
      ]
    },
    {
      "cell_type": "markdown",
      "metadata": {
        "id": "sQjjDkm8VGiV"
      },
      "source": [
        "## Running Game"
      ]
    },
    {
      "cell_type": "markdown",
      "metadata": {
        "id": "Bn4k1_H_TiwI"
      },
      "source": [
        "### Test"
      ]
    },
    {
      "cell_type": "code",
      "metadata": {
        "colab": {
          "base_uri": "https://localhost:8080/",
          "height": 683
        },
        "id": "JMrIWUSpLVeC",
        "outputId": "6b59cce8-5074-4878-c024-5b34114dc423"
      },
      "source": [
        "NPLAYERS =  1000\n",
        "NITERATIONS = 101\n",
        "\n",
        "game = ultimatumGame(NPLAYERS, PlayerRole.PRAGMATIC, ScaleFree=False)\n",
        "\n",
        "offersDicInitial = mapValuesIndex.copy()\n",
        "offerDic = {}\n",
        "\n",
        "#run episodes\n",
        "for iteration in range(NITERATIONS):\n",
        "  if iteration%(NITERATIONS//20)==0:\n",
        "    print(\"iteration: \"+str(iteration))\n",
        "  offersDicInitial,offerDic = game.runEpisode(iteration,offersDicInitial,offerDic,stopsForGraphs, SocialPenalty=False)\n",
        "\n",
        "plt.plot(bargainValues, np.array(list(offerDic[1].values()))/sum(np.array(list(offerDic[1].values()))) , label = \"1\" )\n",
        "plt.plot(bargainValues, np.array(list(offerDic[100].values()))/sum(np.array(list(offerDic[100].values()))) , label = \"100\" )\n",
        "#plt.plot(bargainValues, np.array(list(offerDic[1000].values()))/sum(np.array(list(offerDic[1000].values()))) , label = \"1000\" )\n",
        "\n",
        "\n",
        "# naming the x axis\n",
        "plt.xlabel('p')\n",
        "# naming the y axis\n",
        "plt.ylabel('d(p)')\n",
        "# show a legend on the plot\n",
        "plt.legend()\n",
        "plt.ylim(bottom=0)\n",
        "plt.ylim(top=1)\n",
        "plt.show()\n",
        "\n"
      ],
      "execution_count": 97,
      "outputs": [
        {
          "output_type": "stream",
          "name": "stdout",
          "text": [
            "Network created\n",
            "iteration: 0\n",
            "iteration: 5\n",
            "iteration: 10\n",
            "iteration: 15\n",
            "iteration: 20\n",
            "iteration: 25\n",
            "iteration: 30\n",
            "iteration: 35\n",
            "iteration: 40\n",
            "iteration: 45\n",
            "iteration: 50\n",
            "iteration: 55\n",
            "iteration: 60\n",
            "iteration: 65\n",
            "iteration: 70\n",
            "iteration: 75\n",
            "iteration: 80\n",
            "iteration: 85\n",
            "iteration: 90\n",
            "iteration: 95\n",
            "iteration: 100\n"
          ]
        },
        {
          "output_type": "display_data",
          "data": {
            "image/png": "[encoded data removed]",
            "text/plain": [
              "<Figure size 432x288 with 1 Axes>"
            ]
          },
          "metadata": {
            "needs_background": "light"
          }
        }
      ]
    },
    {
      "cell_type": "markdown",
      "metadata": {
        "id": "Wjx8hs1kRSBK"
      },
      "source": [
        "# extra"
      ]
    },
    {
      "cell_type": "code",
      "metadata": {
        "colab": {
          "base_uri": "https://localhost:8080/"
        },
        "id": "WSpu3yeZQI_4",
        "outputId": "82749f28-b96a-4f8e-b338-802f3a882720"
      },
      "source": [
        "print(np.array(list(offerDic[1].values())))\n",
        "print(np.array(list(offerDic[100].values())))\n",
        "\n",
        "#print(np.array(list(offerDic[1].values())) /sum(np.array(list(offerDic[1].values()))))\n",
        "#print(np.array(list(offerDic[100].values())) /sum(np.array(list(offerDic[100].values()))))"
      ],
      "execution_count": 78,
      "outputs": [
        {
          "output_type": "stream",
          "name": "stdout",
          "text": [
            "[311 311 215 361 349 227 175 348 360 217 234 397 347 303 318 294 221 303\n",
            " 316 388 173]\n",
            "[300 302 200 351 334 232 180 351 344 200 219 400 347 274 312 286 224 296\n",
            " 288 366 152]\n"
          ]
        }
      ]
    },
    {
      "cell_type": "code",
      "metadata": {
        "colab": {
          "base_uri": "https://localhost:8080/",
          "height": 271
        },
        "id": "NXR-xhgxv0FX",
        "outputId": "bfef9e1d-10af-438e-a10b-c946a2987e51"
      },
      "source": [
        "degree_sequence = sorted([d for n, d in game.graph.degree()], reverse=True)\n",
        "dmax = max(degree_sequence)\n",
        "\n",
        "fig = plt.figure(\"Degree of a random graph\", figsize=(8, 8))\n",
        "axgrid = fig.add_gridspec(5, 4)\n",
        "\n",
        "ax2 = fig.add_subplot(axgrid[3:, 2:])\n",
        "ax2.plot(*np.unique(degree_sequence, return_counts=True))\n",
        "ax2.set_title(\"Degree histogram\")\n",
        "ax2.set_xlabel(\"Degree\")\n",
        "ax2.set_ylabel(\"# of Nodes\")\n",
        "\n",
        "fig.tight_layout()\n",
        "plt.show()"
      ],
      "execution_count": 59,
      "outputs": [
        {
          "output_type": "display_data",
          "data": {
            "image/png": "[encoded data removed]",
            "text/plain": [
              "<Figure size 576x576 with 1 Axes>"
            ]
          },
          "metadata": {
            "needs_background": "light"
          }
        }
      ]
    },
    {
      "cell_type": "code",
      "metadata": {
        "id": "wXYSeWZZStnh"
      },
      "source": [
        "for playerId in range(len(game.Players)):\n",
        "  player = game.Players[playerId]\n",
        "  print(\"player id: \"+str(player.id))\n",
        "  print(\"qinitProposer\")\n",
        "  print(player.qinitProposer)\n",
        "  print(\"qinitCorrespondent\")\n",
        "  print(player.qinitCorrespondent)\n",
        "\n",
        "print(list(offerDic[1].values()))"
      ],
      "execution_count": null,
      "outputs": []
    },
    {
      "cell_type": "code",
      "metadata": {
        "colab": {
          "base_uri": "https://localhost:8080/",
          "height": 513
        },
        "id": "SVK_8DX5xXEb",
        "outputId": "fe1dec1d-9077-4784-ddee-df7a14ea3416"
      },
      "source": [
        "s = np.random.uniform(0,1,1000)\n",
        "ola = [round(i,1) for i in list(s) ]\n",
        "count, bins, ignored = plt.hist(ola, 15, density=True)\n",
        "plt.plot(bins, np.ones_like(bins), linewidth=2, color='r')\n",
        "plt.show()\n",
        "\n",
        "count, bins, ignored = plt.hist(s, 15, density=True)\n",
        "plt.plot(bins, np.ones_like(bins), linewidth=2, color='r')\n",
        "plt.show()"
      ],
      "execution_count": null,
      "outputs": [
        {
          "output_type": "display_data",
          "data": {
            "image/png": "[encoded data removed]",
            "text/plain": [
              "<Figure size 432x288 with 1 Axes>"
            ]
          },
          "metadata": {
            "needs_background": "light"
          }
        },
        {
          "output_type": "display_data",
          "data": {
            "image/png": "[encoded data removed]",
            "text/plain": [
              "<Figure size 432x288 with 1 Axes>"
            ]
          },
          "metadata": {
            "needs_background": "light"
          }
        }
      ]
    },
    {
      "cell_type": "code",
      "metadata": {
        "colab": {
          "base_uri": "https://localhost:8080/",
          "height": 305
        },
        "id": "h9--kWWC0ZKA",
        "outputId": "55531103-e52b-457d-c259-1a7553219283"
      },
      "source": [
        "from collections import Counter\n",
        "import pandas\n",
        "ran = random.choices (bargainValues,k=1000)\n",
        "count = Counter(ran)\n",
        "print(count)\n",
        "df = pandas.DataFrame.from_dict(count, orient='index')\n",
        "df.plot(kind='bar')"
      ],
      "execution_count": null,
      "outputs": [
        {
          "output_type": "stream",
          "name": "stdout",
          "text": [
            "Counter({0.3: 110, 0.5: 103, 0: 97, 0.6: 94, 1.0: 91, 0.9: 90, 0.1: 89, 0.7: 87, 0.8: 86, 0.4: 79, 0.2: 74})\n"
          ]
        },
        {
          "output_type": "execute_result",
          "data": {
            "text/plain": [
              "<matplotlib.axes._subplots.AxesSubplot at 0x7f3b058377d0>"
            ]
          },
          "metadata": {},
          "execution_count": 259
        },
        {
          "output_type": "display_data",
          "data": {
            "image/png": "[encoded data removed]",
            "text/plain": [
              "<Figure size 432x288 with 1 Axes>"
            ]
          },
          "metadata": {
            "needs_background": "light"
          }
        }
      ]
    }
  ]
}