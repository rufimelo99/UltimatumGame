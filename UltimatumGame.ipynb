{
  "nbformat": 4,
  "nbformat_minor": 0,
  "metadata": {
    "colab": {
      "name": "UltimatumGame.ipynb",
      "provenance": [],
      "collapsed_sections": [
        "EUZBeM1l-nVI"
      ],
      "authorship_tag": "ABX9TyNkRbX7RA/13by/lXKzZ0rA",
      "include_colab_link": true
    },
    "kernelspec": {
      "name": "python3",
      "display_name": "Python 3"
    },
    "language_info": {
      "name": "python"
    }
  },
  "cells": [
    {
      "cell_type": "markdown",
      "metadata": {
        "id": "view-in-github",
        "colab_type": "text"
      },
      "source": [
        "<a href=\"https://colab.research.google.com/github/rufimelo99/UltimatumGame/blob/main/UltimatumGame.ipynb\" target=\"_parent\"><img src=\"https://colab.research.google.com/assets/colab-badge.svg\" alt=\"Open In Colab\"/></a>"
      ]
    },
    {
      "cell_type": "markdown",
      "metadata": {
        "id": "s3-6wDuzSLsp"
      },
      "source": [
        "#Classes"
      ]
    },
    {
      "cell_type": "markdown",
      "metadata": {
        "id": "l_361YcDR8EP"
      },
      "source": [
        "## Player Class"
      ]
    },
    {
      "cell_type": "code",
      "metadata": {
        "id": "VdfOGMUVCPxi"
      },
      "source": [
        "import random\n",
        "import numpy as np\n",
        "import numpy.random as rnd\n",
        "import math\n",
        "from enum import Enum\n",
        "bargainValues = [0,0.1,0.2,0.3,0.4,0.5,0.6,0.7,0.8,0.9,1.0]\n",
        "mapValuesIndex = {0: 0, 0.1: 1, 0.2: 2, 0.3: 3, 0.4:4, 0.5: 5, 0.6: 6, 0.7: 7, 0.8: 8, 0.9: 9, 1: 10}\n",
        "mapIndexValues = {0: 0, 1: 0.1, 2: 0.2, 3: 0.3, 4:0.4, 5: 0.5, 6: 0.6, 7: 0.7, 8: 0.8, 9: 0.9, 10: 1}\n",
        "\n",
        "class PlayerRole(Enum):\n",
        "    EMPATHIC = 1\n",
        "    PRAGMATIC = 2\n",
        "    INDEPENDENT = 3\n",
        "\n",
        "class Player:\n",
        "    def __init__(self, id, Neigbours, PlayerRole) -> None:\n",
        "        self.id=id\n",
        "        self.neighbours = []\n",
        "        self.AvgComulativePayoff = 0\n",
        "        self.ComulativePayoff = 0\n",
        "        self.gamesPlayed = 0\n",
        "\n",
        "        self.pValue=0\n",
        "        self.qValue=0\n",
        "        self.PlayerRole=PlayerRole\n",
        "\n",
        "        self.probUsingNeighbourStategy=0\n",
        "        self.usingNeighbourStategy = False\n",
        "        self.NeighbourPValue = 0\n",
        "        self.NeighbourQValue = 0\n",
        "\n",
        "    def attributeStrategy(self):\n",
        "      if PlayerRole== self.PlayerRole.EMPATHIC :\n",
        "        self.pValue = random.choice(bargainValues)\n",
        "        self.qValue = self.pValue\n",
        "      elif PlayerRole== self.PlayerRole.PRAGMATIC :\n",
        "        self.pValue = random.choice(bargainValues)\n",
        "        self.qValue = 1-selfpValue\n",
        "      elif PlayerRole== self.PlayerRole.INDEPENDENT :\n",
        "        self.pValue = random.choice(bargainValues)\n",
        "        self.qValue = random.choice(bargainValues)\n",
        "\n",
        "\n",
        "\n",
        "    def makeOffer(self):\n",
        "        #returns index of bargain proposal \n",
        "        #offer from Proposer\n",
        "        if self.usingNeighbourStategy:\n",
        "          usingExternalPolicy = random.choice[1-probUsingNeighbourStategy, probUsingNeighbourStategy]\n",
        "          if usingExternalPolicy:\n",
        "            return mapValuesIndex[self.NeighbourPValue]\n",
        "          else:\n",
        "            return mapValuesIndex[self.pValue]\n",
        "        else:\n",
        "          return mapValuesIndex[self.pValue]\n",
        "\n",
        "    def bargainDecision(self, bargainValueIndex):\n",
        "        if self.usingNeighbourStategy:\n",
        "          usingExternalPolicy = random.choice[1-probUsingNeighbourStategy, probUsingNeighbourStategy]\n",
        "          if usingExternalPolicy:\n",
        "            if mapIndexValues[bargainValueIndex]>=self.NeighbourQValue:\n",
        "              return 1\n",
        "            else:\n",
        "              return 0\n",
        "        else:\n",
        "          if mapIndexValues[bargainValueIndex]>=self.qValue:\n",
        "            return 1\n",
        "          else:\n",
        "            return 0\n",
        "        if mapIndexValues[bargainValueIndex]>=self.qValue:\n",
        "          return 1\n",
        "        else:\n",
        "          return 0 \n"
      ],
      "execution_count": 304,
      "outputs": []
    },
    {
      "cell_type": "markdown",
      "metadata": {
        "id": "roC5WK7ISDhd"
      },
      "source": [
        "## Ultimaum Game Class"
      ]
    },
    {
      "cell_type": "code",
      "metadata": {
        "id": "EKuFQuV2CRgC"
      },
      "source": [
        "import networkx as nx\n",
        "import matplotlib.pyplot as plt\n",
        "\n",
        "stopsForGraphs = [1,10,100,1000,10000]\n",
        "\n",
        "class ultimatumGame:\n",
        "  \n",
        "    def __init__(self, Nplayers, PlayerRole, ScaleFree=False) -> None:\n",
        "        \n",
        "        if ScaleFree:\n",
        "          #Scale-Free\n",
        "          #self.graph = nx.complete_graph(Nplayers)\n",
        "          self.graph = nx.scale_free_graph(Nplayers)\n",
        "        else:\n",
        "          #Erdos-Renyi\n",
        "          self.graph = nx.erdos_renyi_graph(Nplayers, 0.15)\n",
        "\n",
        "        self.Players = {}\n",
        "        \n",
        "        #uniforms distributions i gueess TODO\n",
        "        pValuesForAll = random.choices (bargainValues,k=Nplayers)\n",
        "        #if needed\n",
        "        qValuesForAll = random.choices (bargainValues,k=Nplayers)\n",
        "\n",
        "        #create all players\n",
        "        for i in range(Nplayers):\n",
        "            player = Player(i, list(self.graph.adj[i]), PlayerRole)\n",
        "            player.neighbours = list(self.graph.adj[i])\n",
        "\n",
        "            if PlayerRole == PlayerRole.EMPATHIC :\n",
        "              player.pValue = pValuesForAll[i]\n",
        "              player.qValue = player.pValue\n",
        "            elif PlayerRole == PlayerRole.PRAGMATIC :\n",
        "              player.pValue = pValuesForAll[i]\n",
        "              player.qValue = 1-player.pValue\n",
        "            elif PlayerRole == PlayerRole.INDEPENDENT :\n",
        "              player.pValue = pValuesForAll[i]\n",
        "              player.qValue = qValuesForAll[i]\n",
        "\n",
        "\n",
        "            self.Players[i]=player\n",
        "\n",
        "    def printGraph(self):\n",
        "        #nx.draw_shell(self.graph, with_labels = True)\n",
        "        #nx.draw(self.graph, with_labels = True)\n",
        "        \n",
        "        fig = plt.figure(figsize=(40, 40)) \n",
        "        nx.draw(self.graph, node_size=70) \n",
        "        plt.axis('equal') \n",
        "        plt.show() \n",
        "        plt.show()\n",
        "\n",
        "    def runEpisode(self, actualIteration,offersDicInitial,offerDic,stopsForGraphs, SocialPenalty=True):\n",
        "      for playerId in range(len(self.Players)):\n",
        "        #natural selection -> see if there is a better policy\n",
        "        player = self.Players[playerId]\n",
        "        if player.neighbours!=[]:\n",
        "          randomNeighbourIndex = rnd.choice(len(player.neighbours))\n",
        "          randomNeighbourId = player.neighbours[randomNeighbourIndex]\n",
        "          randomNeighbour = self.Players[randomNeighbourId]\n",
        "          if randomNeighbour.AvgComulativePayoff > player.AvgComulativePayoff and actualIteration!=1:\n",
        "            print(\"yo\")\n",
        "            print(\"copying from \"+str(randomNeighbourId)+\" to \"+str(playerId) +\" at iteration: \"+str(actualIteration))\n",
        "            higherDegree = 0\n",
        "            if len(player.neighbours)>len(randomNeighbour.neighbours):\n",
        "              higherDegree=len(player.neighbours)\n",
        "            else:\n",
        "              higherDegree=len(randomNeighbour.neighbours)\n",
        "            probUsingNeighbourStategy = ((randomNeighbour.AvgComulativePayoff-player.AvgComulativePayoff)/ (2*higherDegree))\n",
        "            player.usingNeighbourStategy = True\n",
        "            player.probUsingNeighbourStategy = probUsingNeighbourStategy\n",
        "            player.NeighbourQValue = randomNeighbour.qValue\n",
        "            player.NeighbourPValue = randomNeighbour.pValue\n",
        "            \n",
        "        for neighbourId in self.Players[playerId].neighbours:\n",
        "          player = self.Players[playerId]\n",
        "          neighbour = self.Players[neighbourId]\n",
        "          \n",
        "          playerBargainIndex=player.makeOffer()\n",
        "          rewardAcceptedOrNot = neighbour.bargainDecision(playerBargainIndex)\n",
        "          playerWhoMadeOfferRewardIndex = bargainValues.index(bargainValues[-(playerBargainIndex+1)])\n",
        "\n",
        "          playerReward = bargainValues[-(playerBargainIndex+1)]\n",
        "          neighbourReward = bargainValues[playerBargainIndex]\n",
        "          \n",
        "          #add payoffs to player  \n",
        "          player.ComulativePayoff+=rewardAcceptedOrNot*playerReward\n",
        "          neighbour.ComulativePayoff+=rewardAcceptedOrNot*neighbourReward\n",
        "          player.gamesPlayed += 1\n",
        "          neighbour.gamesPlayed += 1\n",
        "\n",
        "          #offer made\n",
        "          #TODO might be wrong.. must be.. jesus\n",
        "          offersDicInitial[neighbourReward]+=1\n",
        "\n",
        "      #save data for graphs\n",
        "      if actualIteration in stopsForGraphs:\n",
        "        offerDic[actualIteration]=offersDicInitial.copy()\n",
        "        offersDicInitial.update({}.fromkeys(offersDicInitial,0))\n",
        "      \n",
        "\n",
        "      #get the comulative payoffs after a round-robin round\n",
        "      lowerPayoff = 1.0\n",
        "      lowerPayoffId = 0\n",
        "      for playerId in range(len(self.Players)):\n",
        "        player = self.Players[playerId]\n",
        "        if player.neighbours!=[]:\n",
        "          player.AvgComulativePayoff = player.ComulativePayoff/player.gamesPlayed\n",
        "          \n",
        "          #reseting payoffs of that round\n",
        "          player.ComulativePayoff = 0\n",
        "          player.gamesPlayed = 0\n",
        "          #updating lowerPayoff if necessary\n",
        "          if player.AvgComulativePayoff<lowerPayoff:\n",
        "            lowerPayoff=player.AvgComulativePayoff\n",
        "            lowerPayoffId=player.id\n",
        "\n",
        "        \n",
        "      #Social penalty\n",
        "      #TODO\n",
        "      #see neigbours policy->comunidaades\n",
        "      if SocialPenalty:\n",
        "        playerToBeRemoved = self.Players[lowerPayoffId]\n",
        "        #handle its neighbours\n",
        "        for i in playerToBeRemoved.neighbours:\n",
        "          #update its q and p values     \n",
        "          self.Players[i].attributeStrategy()\n",
        "\n",
        "        #update q and p Values\n",
        "        playerToBeRemoved.attributeStrategy()\n",
        "      \n",
        "      #reset natural Selection\n",
        "      for playerId in range(len(self.Players)):\n",
        "        self.Players[playerId].usingNeighbourStategy = False\n",
        "\n",
        "\n",
        "      return offersDicInitial,offerDic\n",
        "          "
      ],
      "execution_count": 305,
      "outputs": []
    },
    {
      "cell_type": "markdown",
      "metadata": {
        "id": "SkFDGZVjSPdD"
      },
      "source": [
        "# Execution"
      ]
    },
    {
      "cell_type": "markdown",
      "metadata": {
        "id": "QeYsT1lVVAuk"
      },
      "source": [
        "## Game Creation\n"
      ]
    },
    {
      "cell_type": "markdown",
      "metadata": {
        "id": "sQjjDkm8VGiV"
      },
      "source": [
        "## Running Game"
      ]
    },
    {
      "cell_type": "markdown",
      "metadata": {
        "id": "EUZBeM1l-nVI"
      },
      "source": [
        "### Emphatic & Scale Free"
      ]
    },
    {
      "cell_type": "code",
      "metadata": {
        "colab": {
          "base_uri": "https://localhost:8080/",
          "height": 279
        },
        "id": "lpRcWhibS3XT",
        "outputId": "0db5e3e3-6737-4279-c196-1d3dd468ce58"
      },
      "source": [
        "NPLAYERS =  10000\n",
        "NITERATIONS = 20001\n",
        "\n",
        "game = ultimatumGame(NPLAYERS, PlayerRole.EMPATHIC, ScaleFree=True)\n",
        "\n",
        "\n",
        "offersDicInitial={0:0, 0.1:0, 0.2:0, 0.3:0, 0.4:0, 0.5:0, 0.6:0, 0.7:0, 0.8:0, 0.9:0, 1:0}\n",
        "offerDic = {}\n",
        "stopsForGraphs = [1,10,100,1000,10000,20000]\n",
        "\n",
        "#run episodes\n",
        "for iteration in range(NITERATIONS):\n",
        "  offersDicInitial,offerDic = game.runEpisode(iteration,offersDicInitial,offerDic,stopsForGraphs, SocialPenalty=True)\n",
        "\n",
        "plt.plot([0,0.1,0.2,0.3,0.4,0.5,0.6,0.7,0.8,0.9,1.0], np.array(list(offerDic[1].values())) /sum(np.array(list(offerDic[1].values()))) , label = \"1\" ) \n",
        "plt.plot([0,0.1,0.2,0.3,0.4,0.5,0.6,0.7,0.8,0.9,1.0], np.array(list(offerDic[10].values()))/sum(np.array(list(offerDic[10].values()))), label = \"10\")\n",
        "plt.plot([0,0.1,0.2,0.3,0.4,0.5,0.6,0.7,0.8,0.9,1.0], np.array(list(offerDic[100].values()))/sum(np.array(list(offerDic[100].values()))), label = \"100\")\n",
        "plt.plot([0,0.1,0.2,0.3,0.4,0.5,0.6,0.7,0.8,0.9,1.0], np.array(list(offerDic[1000].values()))/sum(np.array(list(offerDic[1000].values()))), label = \"1000\")\n",
        "plt.plot([0,0.1,0.2,0.3,0.4,0.5,0.6,0.7,0.8,0.9,1.0], np.array(list(offerDic[10000].values()))/sum(np.array(list(offerDic[10000].values()))), label = \"10000\")\n",
        "plt.plot([0,0.1,0.2,0.3,0.4,0.5,0.6,0.7,0.8,0.9,1.0], np.array(list(offerDic[20000].values()))/sum(np.array(list(offerDic[20000].values()))), label = \"20000\")\n",
        "\n",
        "\n",
        "# naming the x axis\n",
        "plt.xlabel('p')\n",
        "# naming the y axis\n",
        "plt.ylabel('d(p)')\n",
        "# show a legend on the plot\n",
        "plt.legend()\n",
        "plt.show()\n",
        "\n"
      ],
      "execution_count": 233,
      "outputs": [
        {
          "output_type": "display_data",
          "data": {
            "image/png": "[encoded data removed]",
            "text/plain": [
              "<Figure size 432x288 with 1 Axes>"
            ]
          },
          "metadata": {
            "needs_background": "light"
          }
        }
      ]
    },
    {
      "cell_type": "markdown",
      "metadata": {
        "id": "Bn4k1_H_TiwI"
      },
      "source": [
        "### Test"
      ]
    },
    {
      "cell_type": "code",
      "metadata": {
        "colab": {
          "base_uri": "https://localhost:8080/",
          "height": 314
        },
        "id": "JMrIWUSpLVeC",
        "outputId": "78fd9db4-8da2-4ca1-d4a6-edb61607e8ad"
      },
      "source": [
        "NPLAYERS =  1000\n",
        "NITERATIONS = 2\n",
        "\n",
        "game = ultimatumGame(NPLAYERS, PlayerRole.EMPATHIC, ScaleFree=True)\n",
        "\n",
        "\n",
        "offersDicInitial={0:0, 0.1:0, 0.2:0, 0.3:0, 0.4:0, 0.5:0, 0.6:0, 0.7:0, 0.8:0, 0.9:0, 1:0}\n",
        "offerDic = {}\n",
        "stopsForGraphs = [1,10,100,1000,10000,20000]\n",
        "\n",
        "#run episodes\n",
        "for iteration in range(NITERATIONS):\n",
        "  offersDicInitial,offerDic = game.runEpisode(iteration,offersDicInitial,offerDic,stopsForGraphs, SocialPenalty=True)\n",
        "\n",
        "plt.plot([0,0.1,0.2,0.3,0.4,0.5,0.6,0.7,0.8,0.9,1.0], np.array(list(offerDic[1].values())) /sum(np.array(list(offerDic[1].values()))) , label = \"1\" ) \n",
        "#plt.plot([0,0.1,0.2,0.3,0.4,0.5,0.6,0.7,0.8,0.9,1.0], np.array(list(offerDic[10].values()))/sum(np.array(list(offerDic[10].values()))), label = \"10\")\n",
        "#plt.plot([0,0.1,0.2,0.3,0.4,0.5,0.6,0.7,0.8,0.9,1.0], np.array(list(offerDic[100].values()))/sum(np.array(list(offerDic[100].values()))), label = \"100\")\n",
        "#plt.plot([0,0.1,0.2,0.3,0.4,0.5,0.6,0.7,0.8,0.9,1.0], np.array(list(offerDic[1000].values()))/sum(np.array(list(offerDic[1000].values()))), label = \"1000\")\n",
        "#plt.plot([0,0.1,0.2,0.3,0.4,0.5,0.6,0.7,0.8,0.9,1.0], np.array(list(offerDic[10000].values()))/sum(np.array(list(offerDic[10000].values()))), label = \"10000\")\n",
        "#plt.plot([0,0.1,0.2,0.3,0.4,0.5,0.6,0.7,0.8,0.9,1.0], np.array(list(offerDic[20000].values()))/sum(np.array(list(offerDic[20000].values()))), label = \"20000\")\n",
        "\n",
        "\n",
        "# naming the x axis\n",
        "plt.xlabel('p')\n",
        "# naming the y axis\n",
        "plt.ylabel('d(p)')\n",
        "# show a legend on the plot\n",
        "plt.legend()\n",
        "plt.show()\n",
        "#print(list(game.Players[p].qValue for p in game.Players))\n",
        "count = Counter(list(game.Players[p].qValue for p in game.Players))\n",
        "\n",
        "print(list(offerDic[1].values()))\n",
        "print(count)\n"
      ],
      "execution_count": 311,
      "outputs": [
        {
          "output_type": "display_data",
          "data": {
            "image/png": "[encoded data removed]",
            "text/plain": [
              "<Figure size 432x288 with 1 Axes>"
            ]
          },
          "metadata": {
            "needs_background": "light"
          }
        },
        {
          "output_type": "stream",
          "name": "stdout",
          "text": [
            "[298, 294, 258, 350, 296, 268, 268, 272, 380, 364, 292]\n",
            "Counter({0.3: 111, 0.5: 106, 0: 104, 0.9: 102, 0.8: 89, 0.1: 86, 0.7: 83, 0.2: 83, 1.0: 79, 0.6: 79, 0.4: 78})\n"
          ]
        }
      ]
    },
    {
      "cell_type": "markdown",
      "metadata": {
        "id": "Wjx8hs1kRSBK"
      },
      "source": [
        "# extra"
      ]
    },
    {
      "cell_type": "code",
      "metadata": {
        "colab": {
          "base_uri": "https://localhost:8080/",
          "height": 271
        },
        "id": "NXR-xhgxv0FX",
        "outputId": "ad92b160-7b09-4036-e5ef-30e3c49a49e7"
      },
      "source": [
        "degree_sequence = sorted([d for n, d in game.graph.degree()], reverse=True)\n",
        "dmax = max(degree_sequence)\n",
        "\n",
        "fig = plt.figure(\"Degree of a random graph\", figsize=(8, 8))\n",
        "axgrid = fig.add_gridspec(5, 4)\n",
        "\n",
        "ax2 = fig.add_subplot(axgrid[3:, 2:])\n",
        "ax2.bar(*np.unique(degree_sequence, return_counts=True))\n",
        "ax2.set_title(\"Degree histogram\")\n",
        "ax2.set_xlabel(\"Degree\")\n",
        "ax2.set_ylabel(\"# of Nodes\")\n",
        "\n",
        "fig.tight_layout()\n",
        "plt.show()"
      ],
      "execution_count": 107,
      "outputs": [
        {
          "output_type": "display_data",
          "data": {
            "image/png": "[encoded data removed]",
            "text/plain": [
              "<Figure size 576x576 with 1 Axes>"
            ]
          },
          "metadata": {
            "needs_background": "light"
          }
        }
      ]
    },
    {
      "cell_type": "code",
      "metadata": {
        "id": "wXYSeWZZStnh"
      },
      "source": [
        "for playerId in range(len(game.Players)):\n",
        "  player = game.Players[playerId]\n",
        "  print(\"player id: \"+str(player.id))\n",
        "  print(\"qinitProposer\")\n",
        "  print(player.qinitProposer)\n",
        "  print(\"qinitCorrespondent\")\n",
        "  print(player.qinitCorrespondent)\n",
        "\n",
        "print(list(offerDic[1].values()))"
      ],
      "execution_count": null,
      "outputs": []
    },
    {
      "cell_type": "code",
      "metadata": {
        "colab": {
          "base_uri": "https://localhost:8080/",
          "height": 513
        },
        "id": "SVK_8DX5xXEb",
        "outputId": "d952f734-3953-4e9d-83e3-0cc5984ea439"
      },
      "source": [
        "s = np.random.uniform(0,1,1000)\n",
        "ola = [round(i,1) for i in list(s) ]\n",
        "count, bins, ignored = plt.hist(ola, 15, density=True)\n",
        "plt.plot(bins, np.ones_like(bins), linewidth=2, color='r')\n",
        "plt.show()\n",
        "\n",
        "count, bins, ignored = plt.hist(s, 15, density=True)\n",
        "plt.plot(bins, np.ones_like(bins), linewidth=2, color='r')\n",
        "plt.show()"
      ],
      "execution_count": 240,
      "outputs": [
        {
          "output_type": "display_data",
          "data": {
            "image/png": "[encoded data removed]",
            "text/plain": [
              "<Figure size 432x288 with 1 Axes>"
            ]
          },
          "metadata": {
            "needs_background": "light"
          }
        },
        {
          "output_type": "display_data",
          "data": {
            "image/png": "[encoded data removed]",
            "text/plain": [
              "<Figure size 432x288 with 1 Axes>"
            ]
          },
          "metadata": {
            "needs_background": "light"
          }
        }
      ]
    },
    {
      "cell_type": "code",
      "metadata": {
        "colab": {
          "base_uri": "https://localhost:8080/",
          "height": 305
        },
        "id": "h9--kWWC0ZKA",
        "outputId": "55531103-e52b-457d-c259-1a7553219283"
      },
      "source": [
        "from collections import Counter\n",
        "import pandas\n",
        "ran = random.choices (bargainValues,k=1000)\n",
        "count = Counter(ran)\n",
        "print(count)\n",
        "df = pandas.DataFrame.from_dict(count, orient='index')\n",
        "df.plot(kind='bar')"
      ],
      "execution_count": 259,
      "outputs": [
        {
          "output_type": "stream",
          "name": "stdout",
          "text": [
            "Counter({0.3: 110, 0.5: 103, 0: 97, 0.6: 94, 1.0: 91, 0.9: 90, 0.1: 89, 0.7: 87, 0.8: 86, 0.4: 79, 0.2: 74})\n"
          ]
        },
        {
          "output_type": "execute_result",
          "data": {
            "text/plain": [
              "<matplotlib.axes._subplots.AxesSubplot at 0x7f3b058377d0>"
            ]
          },
          "metadata": {},
          "execution_count": 259
        },
        {
          "output_type": "display_data",
          "data": {
            "image/png": "[encoded data removed]",
            "text/plain": [
              "<Figure size 432x288 with 1 Axes>"
            ]
          },
          "metadata": {
            "needs_background": "light"
          }
        }
      ]
    }
  ]
}