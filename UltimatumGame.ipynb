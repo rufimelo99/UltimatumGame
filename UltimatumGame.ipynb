{
  "nbformat": 4,
  "nbformat_minor": 0,
  "metadata": {
    "colab": {
      "name": "UltimatumGame.ipynb",
      "provenance": [],
      "collapsed_sections": [
        "l_361YcDR8EP",
        "roC5WK7ISDhd",
        "i7pVmlyqULx_"
      ],
      "toc_visible": true,
      "authorship_tag": "ABX9TyPySJz+yH3tICYbkVnN8lIU",
      "include_colab_link": true
    },
    "kernelspec": {
      "display_name": "Python 3",
      "name": "python3"
    },
    "language_info": {
      "name": "python"
    }
  },
  "cells": [
    {
      "cell_type": "markdown",
      "metadata": {
        "id": "view-in-github",
        "colab_type": "text"
      },
      "source": [
        "<a href=\"https://colab.research.google.com/github/rufimelo99/UltimatumGame/blob/main/UltimatumGame.ipynb\" target=\"_parent\"><img src=\"https://colab.research.google.com/assets/colab-badge.svg\" alt=\"Open In Colab\"/></a>"
      ]
    },
    {
      "cell_type": "markdown",
      "metadata": {
        "id": "s3-6wDuzSLsp"
      },
      "source": [
        "#Classes"
      ]
    },
    {
      "cell_type": "markdown",
      "metadata": {
        "id": "l_361YcDR8EP"
      },
      "source": [
        "##Player Class"
      ]
    },
    {
      "cell_type": "code",
      "metadata": {
        "id": "VdfOGMUVCPxi"
      },
      "source": [
        "import random\n",
        "import numpy as np\n",
        "import numpy.random as rnd\n",
        "import math\n",
        "from enum import Enum\n",
        "bargainValues = [0,0.05,0.1,0.15,0.2,0.25,0.3,0.35,0.4,0.45,0.5,0.55,0.6,0.65,0.7,0.75,0.8,0.85, 0.9,0.95,1.0]\n",
        "mapValuesCounter = {0: 0, 0.05: 0, 0.1: 0, 0.15: 0, 0.2:0, 0.25: 0, 0.3: 0, 0.35: 0, 0.4: 0, 0.45: 0, 0.5: 0, 0.55: 0, 0.6: 0, 0.65: 0, 0.7: 0, 0.75: 0, 0.8: 0, 0.85: 0, 0.9: 0, 0.95: 0, 1: 0}\n",
        "mapValuesIndex = {0: 0, 0.05: 1, 0.1: 2, 0.15: 3, 0.2:4, 0.25: 5, 0.3: 6, 0.35: 7, 0.4: 8, 0.45: 9, 0.5: 10, 0.55: 11, 0.6: 12, 0.65: 13, 0.7: 14, 0.75: 15, 0.8: 16, 0.85: 17, 0.9: 18, 0.95: 19, 1: 20}\n",
        "mapIndexValues = {0: 0, 1: 0.05, 2: 0.1, 3: 0.15, 4:0.2, 5: 0.25, 6: 0.3, 7: 0.35, 8: 0.4, 9: 0.45, 10: 5, 11: 5.5, 12: 6, 13: 6.5, 14: 7, 15: 7.5, 16: 8, 17: 8.5, 18: 9, 19: 9.5, 20: 1}\n",
        "\n",
        "class PlayerRole(Enum):\n",
        "    EMPATHETIC = 1\n",
        "    PRAGMATIC = 2\n",
        "    INDEPENDENT = 3\n",
        "\n",
        "class Player:\n",
        "    def __init__(self, id, PlayerRole) -> None:\n",
        "        self.id=id\n",
        "        self.neighbours = []\n",
        "        self.ComulativePayoff = 0\n",
        "\n",
        "        self.pValue=0\n",
        "        self.qValue=0\n",
        "        self.PlayerRole=PlayerRole\n",
        "\n",
        "        \n",
        "        self.AvgPayoff=0\n",
        "        self.gamesPlayed=0\n",
        "\n",
        "    def attributeStrategy(self):\n",
        "      if self.PlayerRole == PlayerRole.EMPATHETIC :\n",
        "        self.pValue = random.choice(bargainValues)\n",
        "        self.qValue = self.pValue\n",
        "      elif self.PlayerRole == PlayerRole.PRAGMATIC :\n",
        "        self.pValue = random.choice(bargainValues)\n",
        "        self.qValue = bargainValues[-(mapValuesIndex[self.pValue]+1)]\n",
        "      elif self.PlayerRole == PlayerRole.INDEPENDENT :\n",
        "        self.pValue = random.choice(bargainValues)\n",
        "        self.qValue = random.choice(bargainValues)\n",
        "\n",
        "\n",
        "\n",
        "    def makeOffer(self):\n",
        "        #returns index of bargain proposal \n",
        "        #offer from Proposer\n",
        "        return mapValuesIndex[self.pValue]\n",
        "\n",
        "    def bargainDecision(self, bargainValueIndex):\n",
        "        if mapIndexValues[bargainValueIndex]>=self.qValue:\n",
        "          return 1\n",
        "        else:\n",
        "          return 0 \n"
      ],
      "execution_count": 1,
      "outputs": []
    },
    {
      "cell_type": "markdown",
      "metadata": {
        "id": "roC5WK7ISDhd"
      },
      "source": [
        "## Ultimatum Game Class"
      ]
    },
    {
      "cell_type": "code",
      "metadata": {
        "id": "EKuFQuV2CRgC"
      },
      "source": [
        "import networkx as nx\n",
        "import matplotlib.pyplot as plt\n",
        "from networkx.algorithms import community\n",
        "\n",
        "stopsForGraphs = [1,100,500,1000,10000,20000,50000,100000,1000000]\n",
        "\n",
        "class ultimatumGame:\n",
        "  \n",
        "    def __init__(self, Nplayers, PlayerRole, ScaleFree=False) -> None:\n",
        "        \n",
        "        if ScaleFree:\n",
        "          #Scale-Free\n",
        "          #self.graph = nx.complete_graph(Nplayers)\n",
        "          #ver aqui o argumento n\n",
        "          self.graph = nx.barabasi_albert_graph(Nplayers, 2)\n",
        "        else:\n",
        "          #Erdos-Renyi\n",
        "          self.graph = nx.erdos_renyi_graph(Nplayers, 0.4)\n",
        "\n",
        "        self.Players = {}\n",
        "        \n",
        "        #uniforms distributions i gueess TODO\n",
        "        pValuesForAll = random.choices (bargainValues,k=Nplayers)\n",
        "        #if needed\n",
        "        qValuesForAll = random.choices (bargainValues,k=Nplayers)\n",
        "\n",
        "        #create all players\n",
        "        for i in range(Nplayers):\n",
        "            player = Player(i, PlayerRole)\n",
        "            player.neighbours = list(self.graph.adj[i])\n",
        "\n",
        "            if PlayerRole == PlayerRole.EMPATHETIC :\n",
        "              player.pValue = pValuesForAll[i]\n",
        "              player.qValue = player.pValue\n",
        "            elif PlayerRole == PlayerRole.PRAGMATIC :\n",
        "              player.pValue = pValuesForAll[i]\n",
        "              player.qValue = bargainValues[-(mapValuesIndex[player.pValue]+1)]\n",
        "            elif PlayerRole == PlayerRole.INDEPENDENT :\n",
        "              player.pValue = pValuesForAll[i]\n",
        "              player.qValue = qValuesForAll[i]\n",
        "\n",
        "            self.Players[i]=player\n",
        "        print(\"Network created\")  \n",
        "\n",
        "\n",
        "\n",
        "    def printGraph(self):\n",
        "        #nx.draw_shell(self.graph, with_labels = True)\n",
        "        #nx.draw(self.graph, with_labels = True)\n",
        "        \n",
        "        fig = plt.figure(figsize=(40, 40)) \n",
        "        nx.draw(self.graph, node_size=150, with_labels = True) \n",
        "        plt.axis('equal') \n",
        "        plt.show() \n",
        "        plt.show()\n",
        "\n",
        "    def runEpisode(self, actualIteration,offersDicInitial,offerDic,thresholdDicInitial,thresholdDic,stopsForGraphs,NaturalSelection=True,SocialPenalty=True):\n",
        "      for playerId in range(len(self.Players)):\n",
        "        if NaturalSelection:\n",
        "          #natural selection -> see if there is a better policy in a random j neighbour and define a probability to use j's strategy \n",
        "          player = self.Players[playerId]\n",
        "          if player.neighbours!=[]:\n",
        "            #see if my random neighbour has a better startegy\n",
        "            randomNeighbourIndex = rnd.choice(len(player.neighbours))\n",
        "            randomNeighbour = self.Players[player.neighbours[randomNeighbourIndex]]\n",
        "            if randomNeighbour.ComulativePayoff > player.ComulativePayoff and actualIteration != 1:\n",
        "              #see here\n",
        "              #usar max\n",
        "              higherDegree=np.max([len(player.neighbours),len(randomNeighbour.neighbours)])\n",
        "\n",
        "              probUsingNeighbourStategy = round(((randomNeighbour.ComulativePayoff-player.ComulativePayoff)/ (2*higherDegree)),3)\n",
        "              prob = probUsingNeighbourStategy\n",
        "              usingExternalPolicy = rnd.choice([0, 1], p = [1-prob, prob])\n",
        "              if usingExternalPolicy:\n",
        "                player.qValue = randomNeighbour.qValue\n",
        "                player.pValue = randomNeighbour.pValue\n",
        "\n",
        "        #episode itself   -> play the game  \n",
        "        for neighbourId in self.Players[playerId].neighbours:\n",
        "          player = self.Players[playerId]\n",
        "          neighbour = self.Players[neighbourId]\n",
        "          \n",
        "          playerBargainIndex=player.makeOffer()\n",
        "          rewardAcceptedOrNot = neighbour.bargainDecision(playerBargainIndex)\n",
        "          \n",
        "          playerReward = bargainValues[-(playerBargainIndex+1)]\n",
        "          neighbourReward = bargainValues[playerBargainIndex]\n",
        "          \n",
        "          #add payoffs to player  \n",
        "          player.ComulativePayoff+=rewardAcceptedOrNot*playerReward\n",
        "          neighbour.ComulativePayoff+=rewardAcceptedOrNot*neighbourReward\n",
        "          \n",
        "          player.gamesPlayed += 1\n",
        "          neighbour.gamesPlayed += 1\n",
        "\n",
        "          #save info for graphics\n",
        "          if actualIteration in stopsForGraphs:\n",
        "            offersDicInitial[bargainValues[playerBargainIndex]]+=1\n",
        "            thresholdDicInitial[player.qValue]+=1\n",
        "      \n",
        "\n",
        "      #save data for graphs\n",
        "      if actualIteration in stopsForGraphs:\n",
        "        offerDic[actualIteration]=offersDicInitial.copy()\n",
        "        offersDicInitial.update({}.fromkeys(offersDicInitial,0))\n",
        "        thresholdDic[actualIteration]=thresholdDicInitial.copy()\n",
        "        thresholdDicInitial.update({}.fromkeys(thresholdDicInitial,0))\n",
        "      \n",
        "\n",
        "      #get the comulative payoffs after a round-robin round\n",
        "      lowerPayoff = len(self.Players) #just a awful large number\n",
        "      lowerPayoffId = 0\n",
        "      for playerId in range(len(self.Players)):\n",
        "        player = self.Players[playerId]\n",
        "        if player.neighbours!=[]:\n",
        "          \n",
        "          player.AvgPayoff = player.ComulativePayoff/player.gamesPlayed\n",
        "\n",
        "          #updating lowerPayoff if necessary\n",
        "          if player.ComulativePayoff<lowerPayoff:\n",
        "            lowerPayoff=player.ComulativePayoff\n",
        "            lowerPayoffId=player.id\n",
        "\n",
        "          #reseting payoffs of that round\n",
        "          player.ComulativePayoff = 0\n",
        "          player.gamesPlayed = 0 \n",
        "        \n",
        "      #Social penalty\n",
        "      #see neigbours policy->comunidaades\n",
        "      if SocialPenalty:\n",
        "        playerToBeRemoved = self.Players[lowerPayoffId]\n",
        "        #handle its neighbours\n",
        "        for i in playerToBeRemoved.neighbours:\n",
        "          #update its q and p values     \n",
        "          self.Players[i].attributeStrategy()\n",
        "\n",
        "        #update q and p Values\n",
        "        playerToBeRemoved.attributeStrategy()\n",
        "\n",
        "\n",
        "      return offersDicInitial,offerDic,thresholdDicInitial,thresholdDic\n",
        "          "
      ],
      "execution_count": 2,
      "outputs": []
    },
    {
      "cell_type": "markdown",
      "metadata": {
        "id": "SkFDGZVjSPdD"
      },
      "source": [
        "# Execution"
      ]
    },
    {
      "cell_type": "markdown",
      "metadata": {
        "id": "sQjjDkm8VGiV"
      },
      "source": [
        "## Natural Selection"
      ]
    },
    {
      "cell_type": "markdown",
      "metadata": {
        "id": "Bn4k1_H_TiwI"
      },
      "source": [
        "### Empathetic Erdos-Renyi"
      ]
    },
    {
      "cell_type": "code",
      "metadata": {
        "colab": {
          "base_uri": "https://localhost:8080/"
        },
        "id": "JMrIWUSpLVeC",
        "outputId": "60a2ca99-1639-40c5-b7b8-f4d05c02dd04"
      },
      "source": [
        "NPLAYERS =  500\n",
        "NITERATIONS = 10001\n",
        "\n",
        "game = ultimatumGame(NPLAYERS, PlayerRole.EMPATHETIC, ScaleFree=False)\n",
        "\n",
        "#pValues\n",
        "offersDicInitial = mapValuesCounter.copy()\n",
        "#qValues\n",
        "thresholdDicInitial = mapValuesCounter.copy()\n",
        "\n",
        "offerDic = {}\n",
        "thresholdDic = {}\n",
        "\n",
        "#run episodes\n",
        "for iteration in range(NITERATIONS):\n",
        "  if iteration%(NITERATIONS//50)==0:\n",
        "    print(\"iteration: \"+str(iteration))\n",
        "  offersDicInitial,offerDic,thresholdDicInitial,thresholdDic = game.runEpisode(iteration,offersDicInitial,offerDic,thresholdDicInitial,thresholdDic,stopsForGraphs, NaturalSelection=True, SocialPenalty=False)\n",
        "\n",
        "\n",
        "plt.plot(bargainValues, np.array(list(offerDic[1].values()))/sum(np.array(list(offerDic[1].values()))) , label = \"1\" )\n",
        "plt.plot(bargainValues, np.array(list(offerDic[100].values()))/sum(np.array(list(offerDic[100].values()))) , label = \"100\" )\n",
        "plt.plot(bargainValues, np.array(list(offerDic[500].values()))/sum(np.array(list(offerDic[500].values()))) , label = \"500\" )\n",
        "plt.plot(bargainValues, np.array(list(offerDic[1000].values()))/sum(np.array(list(offerDic[1000].values()))) , label = \"1000\" )\n",
        "plt.plot(bargainValues, np.array(list(offerDic[10000].values()))/sum(np.array(list(offerDic[1000].values()))) , label = \"10000\" )\n",
        "\n",
        "# naming the x axis\n",
        "plt.xlabel('p')\n",
        "# naming the y axis\n",
        "plt.ylabel('d(p)')\n",
        "# show a legend on the plot\n",
        "plt.legend()\n",
        "plt.ylim(bottom=0)\n",
        "plt.ylim(top=1)\n",
        "plt.show()\n",
        "\n",
        "plt.plot(bargainValues, np.array(list(thresholdDic[1].values()))/sum(np.array(list(thresholdDic[1].values()))) , label = \"1\" )\n",
        "plt.plot(bargainValues, np.array(list(thresholdDic[100].values()))/sum(np.array(list(thresholdDic[100].values()))) , label = \"100\" )\n",
        "plt.plot(bargainValues, np.array(list(thresholdDic[500].values()))/sum(np.array(list(thresholdDic[500].values()))) , label = \"500\" )\n",
        "plt.plot(bargainValues, np.array(list(thresholdDic[1000].values()))/sum(np.array(list(thresholdDic[1000].values()))) , label = \"1000\" )\n",
        "plt.plot(bargainValues, np.array(list(thresholdDic[10000].values()))/sum(np.array(list(thresholdDic[1000].values()))) , label = \"10000\" )\n",
        "\n",
        "# naming the x axis\n",
        "\n",
        "# naming the x axis\n",
        "plt.xlabel('q')\n",
        "# naming the y axis\n",
        "plt.ylabel('d(q)')\n",
        "# show a legend on the plot\n",
        "plt.legend()\n",
        "plt.ylim(bottom=0)\n",
        "plt.ylim(top=1)\n",
        "plt.show()\n",
        "\n",
        "\n"
      ],
      "execution_count": null,
      "outputs": [
        {
          "output_type": "stream",
          "name": "stdout",
          "text": [
            "Network created\n",
            "iteration: 0\n",
            "iteration: 200\n",
            "iteration: 400\n",
            "iteration: 600\n",
            "iteration: 800\n",
            "iteration: 1000\n",
            "iteration: 1200\n",
            "iteration: 1400\n",
            "iteration: 1600\n",
            "iteration: 1800\n",
            "iteration: 2000\n",
            "iteration: 2200\n",
            "iteration: 2400\n",
            "iteration: 2600\n",
            "iteration: 2800\n",
            "iteration: 3000\n",
            "iteration: 3200\n",
            "iteration: 3400\n",
            "iteration: 3600\n",
            "iteration: 3800\n",
            "iteration: 4000\n",
            "iteration: 4200\n",
            "iteration: 4400\n",
            "iteration: 4600\n",
            "iteration: 4800\n",
            "iteration: 5000\n",
            "iteration: 5200\n",
            "iteration: 5400\n",
            "iteration: 5600\n",
            "iteration: 5800\n",
            "iteration: 6000\n",
            "iteration: 6200\n",
            "iteration: 6400\n",
            "iteration: 6600\n",
            "iteration: 6800\n",
            "iteration: 7000\n",
            "iteration: 7200\n",
            "iteration: 7400\n",
            "iteration: 7600\n",
            "iteration: 7800\n",
            "iteration: 8000\n",
            "iteration: 8200\n",
            "iteration: 8400\n",
            "iteration: 8600\n",
            "iteration: 8800\n",
            "iteration: 9000\n",
            "iteration: 9200\n",
            "iteration: 9400\n",
            "iteration: 9600\n",
            "iteration: 9800\n",
            "iteration: 10000\n"
          ]
        },
        {
          "output_type": "display_data",
          "data": {
            "image/png": "[encoded data removed]",
            "text/plain": [
              "<Figure size 432x288 with 1 Axes>"
            ]
          },
          "metadata": {
            "needs_background": "light"
          }
        },
        {
          "output_type": "display_data",
          "data": {
            "image/png": "[encoded data removed]",
            "text/plain": [
              "<Figure size 432x288 with 1 Axes>"
            ]
          },
          "metadata": {
            "needs_background": "light"
          }
        }
      ]
    },
    {
      "cell_type": "markdown",
      "metadata": {
        "id": "lsjzkW6NIp3w"
      },
      "source": [
        "### Empathetic Scale Free"
      ]
    },
    {
      "cell_type": "code",
      "metadata": {
        "colab": {
          "base_uri": "https://localhost:8080/"
        },
        "id": "S5BEStkMIp34",
        "outputId": "dfa7dc10-9f28-4e71-9424-28cdca9c995e"
      },
      "source": [
        "NPLAYERS =  500\n",
        "NITERATIONS = 10001\n",
        "\n",
        "game = ultimatumGame(NPLAYERS, PlayerRole.EMPATHETIC, ScaleFree=True)\n",
        "\n",
        "#pValues\n",
        "offersDicInitial = mapValuesCounter.copy()\n",
        "#qValues\n",
        "thresholdDicInitial = mapValuesCounter.copy()\n",
        "\n",
        "offerDic = {}\n",
        "thresholdDic = {}\n",
        "\n",
        "#run episodes\n",
        "for iteration in range(NITERATIONS):\n",
        "  if iteration%(NITERATIONS//20)==0:\n",
        "    print(\"iteration: \"+str(iteration))\n",
        "  offersDicInitial,offerDic,thresholdDicInitial,thresholdDic = game.runEpisode(iteration,offersDicInitial,offerDic,thresholdDicInitial,thresholdDic,stopsForGraphs, NaturalSelection=True, SocialPenalty=False)\n",
        "\n",
        "\n",
        "\n",
        "plt.plot(bargainValues, np.array(list(offerDic[1].values()))/sum(np.array(list(offerDic[1].values()))) , label = \"1\" )\n",
        "plt.plot(bargainValues, np.array(list(offerDic[100].values()))/sum(np.array(list(offerDic[100].values()))) , label = \"100\" )\n",
        "plt.plot(bargainValues, np.array(list(offerDic[500].values()))/sum(np.array(list(offerDic[500].values()))) , label = \"500\" )\n",
        "plt.plot(bargainValues, np.array(list(offerDic[1000].values()))/sum(np.array(list(offerDic[1000].values()))) , label = \"1000\" )\n",
        "plt.plot(bargainValues, np.array(list(offerDic[10000].values()))/sum(np.array(list(offerDic[10000].values()))) , label = \"10000\" )\n",
        "\n",
        "# naming the x axis\n",
        "plt.xlabel('p')\n",
        "# naming the y axis\n",
        "plt.ylabel('d(p)')\n",
        "# show a legend on the plot\n",
        "plt.legend()\n",
        "plt.ylim(bottom=0)\n",
        "plt.ylim(top=1)\n",
        "plt.show()\n",
        "\n",
        "plt.plot(bargainValues, np.array(list(thresholdDic[1].values()))/sum(np.array(list(thresholdDic[1].values()))) , label = \"1\" )\n",
        "plt.plot(bargainValues, np.array(list(thresholdDic[100].values()))/sum(np.array(list(thresholdDic[100].values()))) , label = \"100\" )\n",
        "plt.plot(bargainValues, np.array(list(thresholdDic[500].values()))/sum(np.array(list(thresholdDic[500].values()))) , label = \"500\" )\n",
        "plt.plot(bargainValues, np.array(list(thresholdDic[1000].values()))/sum(np.array(list(thresholdDic[1000].values()))) , label = \"1000\" )\n",
        "plt.plot(bargainValues, np.array(list(thresholdDic[10000].values()))/sum(np.array(list(thresholdDic[10000].values()))) , label = \"10000\" )\n",
        "\n",
        "# naming the x axis\n",
        "plt.xlabel('q')\n",
        "# naming the y axis\n",
        "plt.ylabel('d(q)')\n",
        "# show a legend on the plot\n",
        "plt.legend()\n",
        "plt.ylim(bottom=0)\n",
        "plt.ylim(top=1)\n",
        "plt.show()\n",
        "\n",
        "\n"
      ],
      "execution_count": null,
      "outputs": [
        {
          "output_type": "stream",
          "name": "stdout",
          "text": [
            "Network created\n",
            "iteration: 0\n",
            "iteration: 500\n",
            "iteration: 1000\n",
            "iteration: 1500\n",
            "iteration: 2000\n",
            "iteration: 2500\n",
            "iteration: 3000\n",
            "iteration: 3500\n"
          ]
        }
      ]
    },
    {
      "cell_type": "markdown",
      "metadata": {
        "id": "sWUFRou4I6iz"
      },
      "source": [
        "### Pragmatic Erdos-Renyi"
      ]
    },
    {
      "cell_type": "code",
      "metadata": {
        "id": "h7iEXJRCI6iz"
      },
      "source": [
        "NPLAYERS =  500\n",
        "NITERATIONS = 10001\n",
        "\n",
        "game = ultimatumGame(NPLAYERS, PlayerRole.PRAGMATIC, ScaleFree=False)\n",
        "\n",
        "#pValues\n",
        "offersDicInitial = mapValuesCounter.copy()\n",
        "#qValues\n",
        "thresholdDicInitial = mapValuesCounter.copy()\n",
        "\n",
        "offerDic = {}\n",
        "thresholdDic = {}\n",
        "\n",
        "#run episodes\n",
        "for iteration in range(NITERATIONS):\n",
        "  if iteration%(NITERATIONS//20)==0:\n",
        "    print(\"iteration: \"+str(iteration))\n",
        "  offersDicInitial,offerDic,thresholdDicInitial,thresholdDic = game.runEpisode(iteration,offersDicInitial,offerDic,thresholdDicInitial,thresholdDic,stopsForGraphs, NaturalSelection=True, SocialPenalty=False)\n",
        "\n",
        "\n",
        "plt.plot(bargainValues, np.array(list(offerDic[1].values()))/sum(np.array(list(offerDic[1].values()))) , label = \"1\" )\n",
        "plt.plot(bargainValues, np.array(list(offerDic[100].values()))/sum(np.array(list(offerDic[100].values()))) , label = \"100\" )\n",
        "plt.plot(bargainValues, np.array(list(offerDic[500].values()))/sum(np.array(list(offerDic[500].values()))) , label = \"500\" )\n",
        "plt.plot(bargainValues, np.array(list(offerDic[1000].values()))/sum(np.array(list(offerDic[1000].values()))) , label = \"1000\" )\n",
        "plt.plot(bargainValues, np.array(list(offerDic[10000].values()))/sum(np.array(list(offerDic[10000].values()))) , label = \"10000\" )\n",
        "\n",
        "# naming the x axis\n",
        "plt.xlabel('p')\n",
        "# naming the y axis\n",
        "plt.ylabel('d(p)')\n",
        "# show a legend on the plot\n",
        "plt.legend()\n",
        "plt.ylim(bottom=0)\n",
        "plt.ylim(top=1)\n",
        "plt.show()\n",
        "\n",
        "plt.plot(bargainValues, np.array(list(thresholdDic[1].values()))/sum(np.array(list(thresholdDic[1].values()))) , label = \"1\" )\n",
        "plt.plot(bargainValues, np.array(list(thresholdDic[100].values()))/sum(np.array(list(thresholdDic[100].values()))) , label = \"100\" )\n",
        "plt.plot(bargainValues, np.array(list(thresholdDic[500].values()))/sum(np.array(list(thresholdDic[500].values()))) , label = \"500\" )\n",
        "plt.plot(bargainValues, np.array(list(thresholdDic[1000].values()))/sum(np.array(list(thresholdDic[1000].values()))) , label = \"1000\" )\n",
        "plt.plot(bargainValues, np.array(list(thresholdDic[10000].values()))/sum(np.array(list(thresholdDic[10000].values()))) , label = \"10000\" )\n",
        "\n",
        "# naming the x axis\n",
        "# naming the x axis\n",
        "plt.xlabel('q')\n",
        "# naming the y axis\n",
        "plt.ylabel('d(q)')\n",
        "# show a legend on the plot\n",
        "plt.legend()\n",
        "plt.ylim(bottom=0)\n",
        "plt.ylim(top=1)\n",
        "plt.show()\n",
        "\n",
        "\n"
      ],
      "execution_count": null,
      "outputs": []
    },
    {
      "cell_type": "markdown",
      "metadata": {
        "id": "HkOeeVnPI1Tb"
      },
      "source": [
        "### Pragmatic Scale Free"
      ]
    },
    {
      "cell_type": "code",
      "metadata": {
        "id": "H6av4M2UI1Tb"
      },
      "source": [
        "NPLAYERS =  500\n",
        "NITERATIONS = 10001\n",
        "game = ultimatumGame(NPLAYERS, PlayerRole.PRAGMATIC, ScaleFree=True)\n",
        "\n",
        "#pValues\n",
        "offersDicInitial = mapValuesCounter.copy()\n",
        "#qValues\n",
        "thresholdDicInitial = mapValuesCounter.copy()\n",
        "\n",
        "offerDic = {}\n",
        "thresholdDic = {}\n",
        "\n",
        "#run episodes\n",
        "for iteration in range(NITERATIONS):\n",
        "  if iteration%(NITERATIONS//20)==0:\n",
        "    print(\"iteration: \"+str(iteration))\n",
        "  offersDicInitial,offerDic,thresholdDicInitial,thresholdDic = game.runEpisode(iteration,offersDicInitial,offerDic,thresholdDicInitial,thresholdDic,stopsForGraphs, NaturalSelection=True, SocialPenalty=False)\n",
        "\n",
        "\n",
        "\n",
        "\n",
        "plt.plot(bargainValues, np.array(list(offerDic[1].values()))/sum(np.array(list(offerDic[1].values()))) , label = \"1\" )\n",
        "plt.plot(bargainValues, np.array(list(offerDic[100].values()))/sum(np.array(list(offerDic[100].values()))) , label = \"100\" )\n",
        "plt.plot(bargainValues, np.array(list(offerDic[500].values()))/sum(np.array(list(offerDic[500].values()))) , label = \"500\" )\n",
        "plt.plot(bargainValues, np.array(list(offerDic[1000].values()))/sum(np.array(list(offerDic[1000].values()))) , label = \"1000\" )\n",
        "plt.plot(bargainValues, np.array(list(offerDic[10000].values()))/sum(np.array(list(offerDic[10000].values()))) , label = \"10000\" )\n",
        "\n",
        "# naming the x axis\n",
        "plt.xlabel('p')\n",
        "# naming the y axis\n",
        "plt.ylabel('d(p)')\n",
        "# show a legend on the plot\n",
        "plt.legend()\n",
        "plt.ylim(bottom=0)\n",
        "plt.ylim(top=1)\n",
        "plt.show()\n",
        "\n",
        "plt.plot(bargainValues, np.array(list(thresholdDic[1].values()))/sum(np.array(list(thresholdDic[1].values()))) , label = \"1\" )\n",
        "plt.plot(bargainValues, np.array(list(thresholdDic[100].values()))/sum(np.array(list(thresholdDic[100].values()))) , label = \"100\" )\n",
        "plt.plot(bargainValues, np.array(list(thresholdDic[500].values()))/sum(np.array(list(thresholdDic[500].values()))) , label = \"500\" )\n",
        "plt.plot(bargainValues, np.array(list(thresholdDic[1000].values()))/sum(np.array(list(thresholdDic[1000].values()))) , label = \"1000\" )\n",
        "plt.plot(bargainValues, np.array(list(thresholdDic[10000].values()))/sum(np.array(list(thresholdDic[10000].values()))) , label = \"10000\" )\n",
        "\n",
        "# naming the x axis\n",
        "# naming the x axis\n",
        "plt.xlabel('q')\n",
        "# naming the y axis\n",
        "plt.ylabel('d(q)')\n",
        "# show a legend on the plot\n",
        "plt.legend()\n",
        "plt.ylim(bottom=0)\n",
        "plt.ylim(top=1)\n",
        "plt.show()\n",
        "\n",
        "\n"
      ],
      "execution_count": null,
      "outputs": []
    },
    {
      "cell_type": "markdown",
      "metadata": {
        "id": "IOScjMe9M-bm"
      },
      "source": [
        "### Independent Erdos-Renyi"
      ]
    },
    {
      "cell_type": "code",
      "metadata": {
        "id": "bYrv9WhOM-bm"
      },
      "source": [
        "NPLAYERS =  500\n",
        "NITERATIONS = 10001\n",
        "game = ultimatumGame(NPLAYERS, PlayerRole.INDEPENDENT, ScaleFree=False)\n",
        "\n",
        "#pValues\n",
        "offersDicInitial = mapValuesCounter.copy()\n",
        "#qValues\n",
        "thresholdDicInitial = mapValuesCounter.copy()\n",
        "\n",
        "offerDic = {}\n",
        "thresholdDic = {}\n",
        "\n",
        "#run episodes\n",
        "for iteration in range(NITERATIONS):\n",
        "  if iteration%(NITERATIONS//20)==0:\n",
        "    print(\"iteration: \"+str(iteration))\n",
        "  offersDicInitial,offerDic,thresholdDicInitial,thresholdDic = game.runEpisode(iteration,offersDicInitial,offerDic,thresholdDicInitial,thresholdDic,stopsForGraphs, NaturalSelection=True, SocialPenalty=False)\n",
        "\n",
        "\n",
        "plt.plot(bargainValues, np.array(list(offerDic[1].values()))/sum(np.array(list(offerDic[1].values()))) , label = \"1\" )\n",
        "plt.plot(bargainValues, np.array(list(offerDic[100].values()))/sum(np.array(list(offerDic[100].values()))) , label = \"100\" )\n",
        "plt.plot(bargainValues, np.array(list(offerDic[500].values()))/sum(np.array(list(offerDic[500].values()))) , label = \"500\" )\n",
        "plt.plot(bargainValues, np.array(list(offerDic[1000].values()))/sum(np.array(list(offerDic[1000].values()))) , label = \"1000\" )\n",
        "plt.plot(bargainValues, np.array(list(offerDic[10000].values()))/sum(np.array(list(offerDic[10000].values()))) , label = \"10000\" )\n",
        "\n",
        "# naming the x axis\n",
        "plt.xlabel('p')\n",
        "# naming the y axis\n",
        "plt.ylabel('d(p)')\n",
        "# show a legend on the plot\n",
        "plt.legend()\n",
        "plt.ylim(bottom=0)\n",
        "plt.ylim(top=1)\n",
        "plt.show()\n",
        "\n",
        "plt.plot(bargainValues, np.array(list(thresholdDic[1].values()))/sum(np.array(list(thresholdDic[1].values()))) , label = \"1\" )\n",
        "plt.plot(bargainValues, np.array(list(thresholdDic[100].values()))/sum(np.array(list(thresholdDic[100].values()))) , label = \"100\" )\n",
        "plt.plot(bargainValues, np.array(list(thresholdDic[500].values()))/sum(np.array(list(thresholdDic[500].values()))) , label = \"500\" )\n",
        "plt.plot(bargainValues, np.array(list(thresholdDic[1000].values()))/sum(np.array(list(thresholdDic[1000].values()))) , label = \"1000\" )\n",
        "plt.plot(bargainValues, np.array(list(thresholdDic[10000].values()))/sum(np.array(list(thresholdDic[10000].values()))) , label = \"10000\" )\n",
        "\n",
        "# naming the x axis\n",
        "# naming the x axis\n",
        "plt.xlabel('q')\n",
        "# naming the y axis\n",
        "plt.ylabel('d(q)')\n",
        "# show a legend on the plot\n",
        "plt.legend()\n",
        "plt.ylim(bottom=0)\n",
        "plt.ylim(top=1)\n",
        "plt.show()\n",
        "\n",
        "\n"
      ],
      "execution_count": null,
      "outputs": []
    },
    {
      "cell_type": "code",
      "metadata": {
        "id": "Xxb2zbVYM-bn"
      },
      "source": [
        "fig, ax = plt.subplots(figsize=(10, 10))\n",
        "ax.scatter(x = [game.Players[playerId].pValue for playerId in game.Players], y = [game.Players[playerId].qValue for playerId in game.Players])\n",
        "plt.xlabel(\"p\")\n",
        "plt.ylabel(\"q\")\n",
        "\n",
        "plt.show()"
      ],
      "execution_count": null,
      "outputs": []
    },
    {
      "cell_type": "markdown",
      "metadata": {
        "id": "po3clXvWNBl-"
      },
      "source": [
        "### Independent Scale Free"
      ]
    },
    {
      "cell_type": "code",
      "metadata": {
        "id": "SXskyk6gNBl_"
      },
      "source": [
        "NPLAYERS =  500\n",
        "NITERATIONS = 10001\n",
        "\n",
        "game = ultimatumGame(NPLAYERS, PlayerRole.INDEPENDENT, ScaleFree=True)\n",
        "\n",
        "#pValues\n",
        "offersDicInitial = mapValuesCounter.copy()\n",
        "#qValues\n",
        "thresholdDicInitial = mapValuesCounter.copy()\n",
        "\n",
        "offerDic = {}\n",
        "thresholdDic = {}\n",
        "\n",
        "#run episodes\n",
        "for iteration in range(NITERATIONS):\n",
        "  if iteration%(NITERATIONS//20)==0:\n",
        "    print(\"iteration: \"+str(iteration))\n",
        "  offersDicInitial,offerDic,thresholdDicInitial,thresholdDic = game.runEpisode(iteration,offersDicInitial,offerDic,thresholdDicInitial,thresholdDic,stopsForGraphs, NaturalSelection=True, SocialPenalty=False)\n",
        "\n",
        "\n",
        "\n",
        "plt.plot(bargainValues, np.array(list(offerDic[1].values()))/sum(np.array(list(offerDic[1].values()))) , label = \"1\" )\n",
        "plt.plot(bargainValues, np.array(list(offerDic[100].values()))/sum(np.array(list(offerDic[100].values()))) , label = \"100\" )\n",
        "plt.plot(bargainValues, np.array(list(offerDic[500].values()))/sum(np.array(list(offerDic[500].values()))) , label = \"500\" )\n",
        "plt.plot(bargainValues, np.array(list(offerDic[1000].values()))/sum(np.array(list(offerDic[1000].values()))) , label = \"1000\" )\n",
        "plt.plot(bargainValues, np.array(list(offerDic[10000].values()))/sum(np.array(list(offerDic[10000].values()))) , label = \"10000\" )\n",
        "\n",
        "# naming the x axis\n",
        "plt.xlabel('p')\n",
        "# naming the y axis\n",
        "plt.ylabel('d(p)')\n",
        "# show a legend on the plot\n",
        "plt.legend()\n",
        "plt.ylim(bottom=0)\n",
        "plt.ylim(top=1)\n",
        "plt.show()\n",
        "\n",
        "plt.plot(bargainValues, np.array(list(thresholdDic[1].values()))/sum(np.array(list(thresholdDic[1].values()))) , label = \"1\" )\n",
        "plt.plot(bargainValues, np.array(list(thresholdDic[100].values()))/sum(np.array(list(thresholdDic[100].values()))) , label = \"100\" )\n",
        "plt.plot(bargainValues, np.array(list(thresholdDic[500].values()))/sum(np.array(list(thresholdDic[500].values()))) , label = \"500\" )\n",
        "plt.plot(bargainValues, np.array(list(thresholdDic[1000].values()))/sum(np.array(list(thresholdDic[1000].values()))) , label = \"1000\" )\n",
        "plt.plot(bargainValues, np.array(list(thresholdDic[10000].values()))/sum(np.array(list(thresholdDic[10000].values()))) , label = \"10000\" )\n",
        "\n",
        "# naming the x axis\n",
        "plt.xlabel('q')\n",
        "# naming the y axis\n",
        "plt.ylabel('d(q)')\n",
        "# show a legend on the plot\n",
        "plt.legend()\n",
        "plt.ylim(bottom=0)\n",
        "plt.ylim(top=1)\n",
        "plt.show()\n",
        "\n",
        "\n"
      ],
      "execution_count": null,
      "outputs": []
    },
    {
      "cell_type": "code",
      "metadata": {
        "id": "NjR5B51TNBl_"
      },
      "source": [
        "fig, ax = plt.subplots(figsize=(10, 10))\n",
        "ax.scatter(x = [game.Players[playerId].pValue for playerId in game.Players], y = [game.Players[playerId].qValue for playerId in game.Players])\n",
        "plt.xlabel(\"p\")\n",
        "plt.ylabel(\"q\")\n",
        "\n",
        "plt.show()"
      ],
      "execution_count": null,
      "outputs": []
    },
    {
      "cell_type": "markdown",
      "metadata": {
        "id": "3ZP77szTTwM6"
      },
      "source": [
        "## Social Penalty"
      ]
    },
    {
      "cell_type": "markdown",
      "metadata": {
        "id": "qMhy0A-cTwNE"
      },
      "source": [
        "### Empathetic Erdos-Renyi"
      ]
    },
    {
      "cell_type": "code",
      "metadata": {
        "id": "u2Y54Z-JTwNE"
      },
      "source": [
        "NPLAYERS =  100\n",
        "NITERATIONS = 1000001\n",
        "\n",
        "game = ultimatumGame(NPLAYERS, PlayerRole.EMPATHETIC, ScaleFree=False)\n",
        "\n",
        "#pValues\n",
        "offersDicInitial = mapValuesCounter.copy()\n",
        "#qValues\n",
        "thresholdDicInitial = mapValuesCounter.copy()\n",
        "\n",
        "offerDic = {}\n",
        "thresholdDic = {}\n",
        "\n",
        "#run episodes\n",
        "for iteration in range(NITERATIONS):\n",
        "  if iteration%(NITERATIONS//50)==0:\n",
        "    print(\"iteration: \"+str(iteration))\n",
        "  offersDicInitial,offerDic,thresholdDicInitial,thresholdDic = game.runEpisode(iteration,offersDicInitial,offerDic,thresholdDicInitial,thresholdDic,stopsForGraphs, NaturalSelection=False, SocialPenalty=True)\n",
        "\n",
        "\n",
        "\n",
        "plt.plot(bargainValues, np.array(list(offerDic[1].values()))/sum(np.array(list(offerDic[1].values()))) , label = \"1\" )\n",
        "plt.plot(bargainValues, np.array(list(offerDic[100].values()))/sum(np.array(list(offerDic[100].values()))) , label = \"100\" )\n",
        "plt.plot(bargainValues, np.array(list(offerDic[500].values()))/sum(np.array(list(offerDic[500].values()))) , label = \"500\" )\n",
        "plt.plot(bargainValues, np.array(list(offerDic[1000].values()))/sum(np.array(list(offerDic[1000].values()))) , label = \"1000\" )\n",
        "plt.plot(bargainValues, np.array(list(offerDic[10000].values()))/sum(np.array(list(offerDic[10000].values()))) , label = \"10000\" )\n",
        "plt.plot(bargainValues, np.array(list(offerDic[100000].values()))/sum(np.array(list(offerDic[100000].values()))) , label = \"100000\" )\n",
        "plt.plot(bargainValues, np.array(list(offerDic[1000000].values()))/sum(np.array(list(offerDic[1000000].values()))) , label = \"1000000\" )\n",
        "\n",
        "# naming the x axis\n",
        "plt.xlabel('p')\n",
        "# naming the y axis\n",
        "plt.ylabel('d(p)')\n",
        "# show a legend on the plot\n",
        "plt.legend()\n",
        "plt.ylim(bottom=0)\n",
        "plt.ylim(top=1)\n",
        "plt.show()\n",
        "\n",
        "plt.plot(bargainValues, np.array(list(thresholdDic[1].values()))/sum(np.array(list(thresholdDic[1].values()))) , label = \"1\" )\n",
        "plt.plot(bargainValues, np.array(list(thresholdDic[100].values()))/sum(np.array(list(thresholdDic[100].values()))) , label = \"100\" )\n",
        "plt.plot(bargainValues, np.array(list(thresholdDic[500].values()))/sum(np.array(list(thresholdDic[500].values()))) , label = \"500\" )\n",
        "plt.plot(bargainValues, np.array(list(thresholdDic[1000].values()))/sum(np.array(list(thresholdDic[1000].values()))) , label = \"1000\" )\n",
        "plt.plot(bargainValues, np.array(list(thresholdDic[10000].values()))/sum(np.array(list(thresholdDic[10000].values()))) , label = \"10000\" )\n",
        "plt.plot(bargainValues, np.array(list(thresholdDic[100000].values()))/sum(np.array(list(thresholdDic[100000].values()))) , label = \"100000\" )\n",
        "plt.plot(bargainValues, np.array(list(thresholdDic[1000000].values()))/sum(np.array(list(thresholdDic[1000000].values()))) , label = \"1000000\" )\n",
        "\n",
        "# naming the x axis\n",
        "plt.xlabel('q')\n",
        "# naming the y axis\n",
        "plt.ylabel('d(q)')\n",
        "# show a legend on the plot\n",
        "plt.legend()\n",
        "plt.ylim(bottom=0)\n",
        "plt.ylim(top=1)\n",
        "plt.show()\n",
        "\n",
        "\n"
      ],
      "execution_count": null,
      "outputs": []
    },
    {
      "cell_type": "code",
      "metadata": {
        "id": "tdUvA9Qe0Q1P"
      },
      "source": [
        "fig, ax = plt.subplots(figsize=(10, 10))\n",
        "ax.scatter(x = [game.Players[playerId].pValue for playerId in game.Players], y = [game.Players[playerId].qValue for playerId in game.Players])\n",
        "plt.xlabel(\"p\")\n",
        "plt.ylabel(\"q\")\n",
        "\n",
        "plt.show()"
      ],
      "execution_count": null,
      "outputs": []
    },
    {
      "cell_type": "markdown",
      "metadata": {
        "id": "WmUxaE3oTwNF"
      },
      "source": [
        "### Empathetic Scale Free"
      ]
    },
    {
      "cell_type": "code",
      "metadata": {
        "id": "BQRO88x1TwNF"
      },
      "source": [
        "NPLAYERS =  100\n",
        "NITERATIONS = 1000001\n",
        "\n",
        "game = ultimatumGame(NPLAYERS, PlayerRole.EMPATHETIC, ScaleFree=True)\n",
        "\n",
        "#pValues\n",
        "offersDicInitial = mapValuesCounter.copy()\n",
        "#qValues\n",
        "thresholdDicInitial = mapValuesCounter.copy()\n",
        "\n",
        "offerDic = {}\n",
        "thresholdDic = {}\n",
        "\n",
        "#run episodes\n",
        "for iteration in range(NITERATIONS):\n",
        "  if iteration%(NITERATIONS//50)==0:\n",
        "    print(\"iteration: \"+str(iteration))\n",
        "  offersDicInitial,offerDic,thresholdDicInitial,thresholdDic = game.runEpisode(iteration,offersDicInitial,offerDic,thresholdDicInitial,thresholdDic,stopsForGraphs, NaturalSelection=False, SocialPenalty=True)\n",
        "\n",
        "\n",
        "\n",
        "plt.plot(bargainValues, np.array(list(offerDic[1].values()))/sum(np.array(list(offerDic[1].values()))) , label = \"1\" )\n",
        "plt.plot(bargainValues, np.array(list(offerDic[100].values()))/sum(np.array(list(offerDic[100].values()))) , label = \"100\" )\n",
        "plt.plot(bargainValues, np.array(list(offerDic[500].values()))/sum(np.array(list(offerDic[500].values()))) , label = \"500\" )\n",
        "plt.plot(bargainValues, np.array(list(offerDic[1000].values()))/sum(np.array(list(offerDic[1000].values()))) , label = \"1000\" )\n",
        "plt.plot(bargainValues, np.array(list(offerDic[10000].values()))/sum(np.array(list(offerDic[10000].values()))) , label = \"10000\" )\n",
        "plt.plot(bargainValues, np.array(list(offerDic[100000].values()))/sum(np.array(list(offerDic[100000].values()))) , label = \"100000\" )\n",
        "plt.plot(bargainValues, np.array(list(offerDic[1000000].values()))/sum(np.array(list(offerDic[1000000].values()))) , label = \"1000000\" )\n",
        "\n",
        "# naming the x axis\n",
        "plt.xlabel('p')\n",
        "# naming the y axis\n",
        "plt.ylabel('d(p)')\n",
        "# show a legend on the plot\n",
        "plt.legend()\n",
        "plt.ylim(bottom=0)\n",
        "plt.ylim(top=1)\n",
        "plt.show()\n",
        "\n",
        "plt.plot(bargainValues, np.array(list(thresholdDic[1].values()))/sum(np.array(list(thresholdDic[1].values()))) , label = \"1\" )\n",
        "plt.plot(bargainValues, np.array(list(thresholdDic[100].values()))/sum(np.array(list(thresholdDic[100].values()))) , label = \"100\" )\n",
        "plt.plot(bargainValues, np.array(list(thresholdDic[500].values()))/sum(np.array(list(thresholdDic[500].values()))) , label = \"500\" )\n",
        "plt.plot(bargainValues, np.array(list(thresholdDic[1000].values()))/sum(np.array(list(thresholdDic[1000].values()))) , label = \"1000\" )\n",
        "plt.plot(bargainValues, np.array(list(thresholdDic[10000].values()))/sum(np.array(list(thresholdDic[10000].values()))) , label = \"10000\" )\n",
        "plt.plot(bargainValues, np.array(list(thresholdDic[100000].values()))/sum(np.array(list(thresholdDic[100000].values()))) , label = \"100000\" )\n",
        "plt.plot(bargainValues, np.array(list(thresholdDic[1000000].values()))/sum(np.array(list(thresholdDic[1000000].values()))) , label = \"1000000\" )\n",
        "\n",
        "# naming the x axis\n",
        "plt.xlabel('q')\n",
        "# naming the y axis\n",
        "plt.ylabel('d(q)')\n",
        "# show a legend on the plot\n",
        "plt.legend()\n",
        "plt.ylim(bottom=0)\n",
        "plt.ylim(top=1)\n",
        "plt.show()\n",
        "\n",
        "\n",
        "\n",
        "\n"
      ],
      "execution_count": null,
      "outputs": []
    },
    {
      "cell_type": "code",
      "metadata": {
        "id": "NVEwJKYO0Z_Q"
      },
      "source": [
        "fig, ax = plt.subplots(figsize=(10, 10))\n",
        "ax.scatter(x = [game.Players[playerId].pValue for playerId in game.Players], y = [game.Players[playerId].qValue for playerId in game.Players])\n",
        "plt.xlabel(\"p\")\n",
        "plt.ylabel(\"q\")\n",
        "\n",
        "plt.show()"
      ],
      "execution_count": null,
      "outputs": []
    },
    {
      "cell_type": "code",
      "metadata": {
        "id": "XRjnaiXC3Lon"
      },
      "source": [
        "NPLAYERS =  100\n",
        "NITERATIONS = 1000001\n",
        "\n",
        "game = ultimatumGame(NPLAYERS, PlayerRole.EMPATHETIC, ScaleFree=True)\n",
        "\n",
        "#pValues\n",
        "offersDicInitial = mapValuesCounter.copy()\n",
        "#qValues\n",
        "thresholdDicInitial = mapValuesCounter.copy()\n",
        "\n",
        "offerDic = {}\n",
        "thresholdDic = {}\n",
        "\n",
        "#run episodes\n",
        "for iteration in range(NITERATIONS):\n",
        "  if iteration%(NITERATIONS//50)==0:\n",
        "    print(\"iteration: \"+str(iteration))\n",
        "  offersDicInitial,offerDic,thresholdDicInitial,thresholdDic = game.runEpisode(iteration,offersDicInitial,offerDic,thresholdDicInitial,thresholdDic,stopsForGraphs, NaturalSelection=False, SocialPenalty=True)\n",
        "\n",
        "\n",
        "\n",
        "plt.plot(bargainValues, np.array(list(offerDic[1].values()))/sum(np.array(list(offerDic[1].values()))) , label = \"1\" )\n",
        "plt.plot(bargainValues, np.array(list(offerDic[100].values()))/sum(np.array(list(offerDic[100].values()))) , label = \"100\" )\n",
        "plt.plot(bargainValues, np.array(list(offerDic[500].values()))/sum(np.array(list(offerDic[500].values()))) , label = \"500\" )\n",
        "plt.plot(bargainValues, np.array(list(offerDic[1000].values()))/sum(np.array(list(offerDic[1000].values()))) , label = \"1000\" )\n",
        "plt.plot(bargainValues, np.array(list(offerDic[10000].values()))/sum(np.array(list(offerDic[10000].values()))) , label = \"10000\" )\n",
        "plt.plot(bargainValues, np.array(list(offerDic[100000].values()))/sum(np.array(list(offerDic[100000].values()))) , label = \"100000\" )\n",
        "plt.plot(bargainValues, np.array(list(offerDic[1000000].values()))/sum(np.array(list(offerDic[1000000].values()))) , label = \"1000000\" )\n",
        "\n",
        "# naming the x axis\n",
        "plt.xlabel('p')\n",
        "# naming the y axis\n",
        "plt.ylabel('d(p)')\n",
        "# show a legend on the plot\n",
        "plt.legend()\n",
        "plt.ylim(bottom=0)\n",
        "plt.ylim(top=1)\n",
        "plt.show()\n",
        "\n",
        "plt.plot(bargainValues, np.array(list(thresholdDic[1].values()))/sum(np.array(list(thresholdDic[1].values()))) , label = \"1\" )\n",
        "plt.plot(bargainValues, np.array(list(thresholdDic[100].values()))/sum(np.array(list(thresholdDic[100].values()))) , label = \"100\" )\n",
        "plt.plot(bargainValues, np.array(list(thresholdDic[500].values()))/sum(np.array(list(thresholdDic[500].values()))) , label = \"500\" )\n",
        "plt.plot(bargainValues, np.array(list(thresholdDic[1000].values()))/sum(np.array(list(thresholdDic[1000].values()))) , label = \"1000\" )\n",
        "plt.plot(bargainValues, np.array(list(thresholdDic[10000].values()))/sum(np.array(list(thresholdDic[10000].values()))) , label = \"10000\" )\n",
        "plt.plot(bargainValues, np.array(list(thresholdDic[100000].values()))/sum(np.array(list(thresholdDic[100000].values()))) , label = \"100000\" )\n",
        "plt.plot(bargainValues, np.array(list(thresholdDic[1000000].values()))/sum(np.array(list(thresholdDic[1000000].values()))) , label = \"1000000\" )\n",
        "\n",
        "# naming the x axis\n",
        "plt.xlabel('q')\n",
        "# naming the y axis\n",
        "plt.ylabel('d(q)')\n",
        "# show a legend on the plot\n",
        "plt.legend()\n",
        "plt.ylim(bottom=0)\n",
        "plt.ylim(top=1)\n",
        "plt.show()\n",
        "\n",
        "\n",
        "\n",
        "\n"
      ],
      "execution_count": null,
      "outputs": []
    },
    {
      "cell_type": "code",
      "metadata": {
        "id": "f5Xde8qf3N1g"
      },
      "source": [
        "fig, ax = plt.subplots(figsize=(10, 10))\n",
        "ax.scatter(x = [game.Players[playerId].pValue for playerId in game.Players], y = [game.Players[playerId].qValue for playerId in game.Players])\n",
        "plt.xlabel(\"p\")\n",
        "plt.ylabel(\"q\")\n",
        "\n",
        "plt.show()"
      ],
      "execution_count": null,
      "outputs": []
    },
    {
      "cell_type": "markdown",
      "metadata": {
        "id": "_FcJUDokTwNF"
      },
      "source": [
        "### Pragmatic Erdos-Renyi"
      ]
    },
    {
      "cell_type": "code",
      "metadata": {
        "id": "WhOa0EPzTwNG"
      },
      "source": [
        "NPLAYERS =  100\n",
        "NITERATIONS = 100001\n",
        "\n",
        "game = ultimatumGame(NPLAYERS, PlayerRole.PRAGMATIC, ScaleFree=False)\n",
        "\n",
        "#pValues\n",
        "offersDicInitial = mapValuesCounter.copy()\n",
        "#qValues\n",
        "thresholdDicInitial = mapValuesCounter.copy()\n",
        "\n",
        "offerDic = {}\n",
        "thresholdDic = {}\n",
        "\n",
        "#run episodes\n",
        "for iteration in range(NITERATIONS):\n",
        "  if iteration%(NITERATIONS//50)==0:\n",
        "    print(\"iteration: \"+str(iteration))\n",
        "  offersDicInitial,offerDic,thresholdDicInitial,thresholdDic = game.runEpisode(iteration,offersDicInitial,offerDic,thresholdDicInitial,thresholdDic,stopsForGraphs, NaturalSelection=False, SocialPenalty=True)\n",
        "\n",
        "\n",
        "\n",
        "plt.plot(bargainValues, np.array(list(offerDic[1].values()))/sum(np.array(list(offerDic[1].values()))) , label = \"1\" )\n",
        "plt.plot(bargainValues, np.array(list(offerDic[100].values()))/sum(np.array(list(offerDic[100].values()))) , label = \"100\" )\n",
        "plt.plot(bargainValues, np.array(list(offerDic[500].values()))/sum(np.array(list(offerDic[500].values()))) , label = \"500\" )\n",
        "plt.plot(bargainValues, np.array(list(offerDic[1000].values()))/sum(np.array(list(offerDic[1000].values()))) , label = \"1000\" )\n",
        "plt.plot(bargainValues, np.array(list(offerDic[10000].values()))/sum(np.array(list(offerDic[10000].values()))) , label = \"10000\" )\n",
        "plt.plot(bargainValues, np.array(list(offerDic[100000].values()))/sum(np.array(list(offerDic[100000].values()))) , label = \"100000\" )\n",
        "\n",
        "# naming the x axis\n",
        "plt.xlabel('p')\n",
        "# naming the y axis\n",
        "plt.ylabel('d(p)')\n",
        "# show a legend on the plot\n",
        "plt.legend()\n",
        "plt.ylim(bottom=0)\n",
        "plt.ylim(top=1)\n",
        "plt.show()\n",
        "\n",
        "plt.plot(bargainValues, np.array(list(thresholdDic[1].values()))/sum(np.array(list(thresholdDic[1].values()))) , label = \"1\" )\n",
        "plt.plot(bargainValues, np.array(list(thresholdDic[100].values()))/sum(np.array(list(thresholdDic[100].values()))) , label = \"100\" )\n",
        "plt.plot(bargainValues, np.array(list(thresholdDic[500].values()))/sum(np.array(list(thresholdDic[500].values()))) , label = \"500\" )\n",
        "plt.plot(bargainValues, np.array(list(thresholdDic[1000].values()))/sum(np.array(list(thresholdDic[1000].values()))) , label = \"1000\" )\n",
        "plt.plot(bargainValues, np.array(list(thresholdDic[10000].values()))/sum(np.array(list(thresholdDic[10000].values()))) , label = \"10000\" )\n",
        "plt.plot(bargainValues, np.array(list(thresholdDic[100000].values()))/sum(np.array(list(thresholdDic[100000].values()))) , label = \"100000\" )\n",
        "\n",
        "# naming the x axis\n",
        "plt.xlabel('q')\n",
        "# naming the y axis\n",
        "plt.ylabel('d(q)')\n",
        "# show a legend on the plot\n",
        "plt.legend()\n",
        "plt.ylim(bottom=0)\n",
        "plt.ylim(top=1)\n",
        "plt.show()\n",
        "\n",
        "\n",
        "\n",
        "\n",
        "\n"
      ],
      "execution_count": null,
      "outputs": []
    },
    {
      "cell_type": "markdown",
      "metadata": {
        "id": "7tZSEjh1TwNG"
      },
      "source": [
        "### Pragmatic Scale Free"
      ]
    },
    {
      "cell_type": "code",
      "metadata": {
        "id": "aZ_-8EQDTwNG"
      },
      "source": [
        "NPLAYERS =  100\n",
        "NITERATIONS = 100001\n",
        "game = ultimatumGame(NPLAYERS, PlayerRole.PRAGMATIC, ScaleFree=True)\n",
        "\n",
        "#pValues\n",
        "offersDicInitial = mapValuesCounter.copy()\n",
        "#qValues\n",
        "thresholdDicInitial = mapValuesCounter.copy()\n",
        "\n",
        "offerDic = {}\n",
        "thresholdDic = {}\n",
        "\n",
        "#run episodes\n",
        "for iteration in range(NITERATIONS):\n",
        "  if iteration%(NITERATIONS//50)==0:\n",
        "    print(\"iteration: \"+str(iteration))\n",
        "  offersDicInitial,offerDic,thresholdDicInitial,thresholdDic = game.runEpisode(iteration,offersDicInitial,offerDic,thresholdDicInitial,thresholdDic,stopsForGraphs, NaturalSelection=False, SocialPenalty=True)\n",
        "\n",
        "\n",
        "\n",
        "plt.plot(bargainValues, np.array(list(offerDic[1].values()))/sum(np.array(list(offerDic[1].values()))) , label = \"1\" )\n",
        "plt.plot(bargainValues, np.array(list(offerDic[100].values()))/sum(np.array(list(offerDic[100].values()))) , label = \"100\" )\n",
        "plt.plot(bargainValues, np.array(list(offerDic[500].values()))/sum(np.array(list(offerDic[500].values()))) , label = \"500\" )\n",
        "plt.plot(bargainValues, np.array(list(offerDic[1000].values()))/sum(np.array(list(offerDic[1000].values()))) , label = \"1000\" )\n",
        "plt.plot(bargainValues, np.array(list(offerDic[10000].values()))/sum(np.array(list(offerDic[10000].values()))) , label = \"10000\" )\n",
        "plt.plot(bargainValues, np.array(list(offerDic[100000].values()))/sum(np.array(list(offerDic[100000].values()))) , label = \"100000\" )\n",
        "\n",
        "# naming the x axis\n",
        "plt.xlabel('p')\n",
        "# naming the y axis\n",
        "plt.ylabel('d(p)')\n",
        "# show a legend on the plot\n",
        "plt.legend()\n",
        "plt.ylim(bottom=0)\n",
        "plt.ylim(top=1)\n",
        "plt.show()\n",
        "\n",
        "plt.plot(bargainValues, np.array(list(thresholdDic[1].values()))/sum(np.array(list(thresholdDic[1].values()))) , label = \"1\" )\n",
        "plt.plot(bargainValues, np.array(list(thresholdDic[100].values()))/sum(np.array(list(thresholdDic[100].values()))) , label = \"100\" )\n",
        "plt.plot(bargainValues, np.array(list(thresholdDic[500].values()))/sum(np.array(list(thresholdDic[500].values()))) , label = \"500\" )\n",
        "plt.plot(bargainValues, np.array(list(thresholdDic[1000].values()))/sum(np.array(list(thresholdDic[1000].values()))) , label = \"1000\" )\n",
        "plt.plot(bargainValues, np.array(list(thresholdDic[10000].values()))/sum(np.array(list(thresholdDic[10000].values()))) , label = \"10000\" )\n",
        "plt.plot(bargainValues, np.array(list(thresholdDic[100000].values()))/sum(np.array(list(thresholdDic[100000].values()))) , label = \"100000\" )\n",
        "\n",
        "# naming the x axis\n",
        "plt.xlabel('q')\n",
        "# naming the y axis\n",
        "plt.ylabel('d(q)')\n",
        "# show a legend on the plot\n",
        "plt.legend()\n",
        "plt.ylim(bottom=0)\n",
        "plt.ylim(top=1)\n",
        "plt.show()\n",
        "\n",
        "\n",
        "\n"
      ],
      "execution_count": null,
      "outputs": []
    },
    {
      "cell_type": "markdown",
      "metadata": {
        "id": "-BKOyYPOTwNG"
      },
      "source": [
        "### Independent Erdos-Renyi"
      ]
    },
    {
      "cell_type": "code",
      "metadata": {
        "id": "PrbvprCoTwNG"
      },
      "source": [
        "NPLAYERS =  100\n",
        "NITERATIONS = 100001\n",
        "game = ultimatumGame(NPLAYERS, PlayerRole.INDEPENDENT, ScaleFree=False)\n",
        "\n",
        "#pValues\n",
        "offersDicInitial = mapValuesCounter.copy()\n",
        "#qValues\n",
        "thresholdDicInitial = mapValuesCounter.copy()\n",
        "\n",
        "offerDic = {}\n",
        "thresholdDic = {}\n",
        "\n",
        "#run episodes\n",
        "for iteration in range(NITERATIONS):\n",
        "  if iteration%(NITERATIONS//50)==0:\n",
        "    print(\"iteration: \"+str(iteration))\n",
        "  offersDicInitial,offerDic,thresholdDicInitial,thresholdDic = game.runEpisode(iteration,offersDicInitial,offerDic,thresholdDicInitial,thresholdDic,stopsForGraphs, NaturalSelection=False, SocialPenalty=True)\n",
        "\n",
        "\n",
        "\n",
        "plt.plot(bargainValues, np.array(list(offerDic[1].values()))/sum(np.array(list(offerDic[1].values()))) , label = \"1\" )\n",
        "plt.plot(bargainValues, np.array(list(offerDic[100].values()))/sum(np.array(list(offerDic[100].values()))) , label = \"100\" )\n",
        "plt.plot(bargainValues, np.array(list(offerDic[500].values()))/sum(np.array(list(offerDic[500].values()))) , label = \"500\" )\n",
        "plt.plot(bargainValues, np.array(list(offerDic[1000].values()))/sum(np.array(list(offerDic[1000].values()))) , label = \"1000\" )\n",
        "plt.plot(bargainValues, np.array(list(offerDic[10000].values()))/sum(np.array(list(offerDic[10000].values()))) , label = \"10000\" )\n",
        "plt.plot(bargainValues, np.array(list(offerDic[100000].values()))/sum(np.array(list(offerDic[100000].values()))) , label = \"100000\" )\n",
        "\n",
        "# naming the x axis\n",
        "plt.xlabel('p')\n",
        "# naming the y axis\n",
        "plt.ylabel('d(p)')\n",
        "# show a legend on the plot\n",
        "plt.legend()\n",
        "plt.ylim(bottom=0)\n",
        "plt.ylim(top=1)\n",
        "plt.show()\n",
        "\n",
        "plt.plot(bargainValues, np.array(list(thresholdDic[1].values()))/sum(np.array(list(thresholdDic[1].values()))) , label = \"1\" )\n",
        "plt.plot(bargainValues, np.array(list(thresholdDic[100].values()))/sum(np.array(list(thresholdDic[100].values()))) , label = \"100\" )\n",
        "plt.plot(bargainValues, np.array(list(thresholdDic[500].values()))/sum(np.array(list(thresholdDic[500].values()))) , label = \"500\" )\n",
        "plt.plot(bargainValues, np.array(list(thresholdDic[1000].values()))/sum(np.array(list(thresholdDic[1000].values()))) , label = \"1000\" )\n",
        "plt.plot(bargainValues, np.array(list(thresholdDic[10000].values()))/sum(np.array(list(thresholdDic[10000].values()))) , label = \"10000\" )\n",
        "plt.plot(bargainValues, np.array(list(thresholdDic[100000].values()))/sum(np.array(list(thresholdDic[100000].values()))) , label = \"100000\" )\n",
        "\n",
        "# naming the x axis\n",
        "plt.xlabel('q')\n",
        "# naming the y axis\n",
        "plt.ylabel('d(q)')\n",
        "# show a legend on the plot\n",
        "plt.legend()\n",
        "plt.ylim(bottom=0)\n",
        "plt.ylim(top=1)\n",
        "plt.show()\n",
        "\n",
        "\n",
        "\n",
        "\n",
        "\n",
        "\n"
      ],
      "execution_count": null,
      "outputs": []
    },
    {
      "cell_type": "code",
      "metadata": {
        "id": "eD4gsAc0TwNI"
      },
      "source": [
        "fig, ax = plt.subplots(figsize=(10, 10))\n",
        "ax.scatter(x = [game.Players[playerId].pValue for playerId in game.Players], y = [game.Players[playerId].qValue for playerId in game.Players])\n",
        "plt.xlabel(\"p\")\n",
        "plt.ylabel(\"q\")\n",
        "\n",
        "plt.show()"
      ],
      "execution_count": null,
      "outputs": []
    },
    {
      "cell_type": "markdown",
      "metadata": {
        "id": "XkeghEVhTwNI"
      },
      "source": [
        "### Independent Scale Free"
      ]
    },
    {
      "cell_type": "code",
      "metadata": {
        "id": "ddyocpIbTwNJ"
      },
      "source": [
        "NPLAYERS =  100\n",
        "NITERATIONS = 100001\n",
        "\n",
        "game = ultimatumGame(NPLAYERS, PlayerRole.INDEPENDENT, ScaleFree=True)\n",
        "\n",
        "#pValues\n",
        "offersDicInitial = mapValuesCounter.copy()\n",
        "#qValues\n",
        "thresholdDicInitial = mapValuesCounter.copy()\n",
        "\n",
        "offerDic = {}\n",
        "thresholdDic = {}\n",
        "\n",
        "#run episodes\n",
        "for iteration in range(NITERATIONS):\n",
        "  if iteration%(NITERATIONS//50)==0:\n",
        "    print(\"iteration: \"+str(iteration))\n",
        "  offersDicInitial,offerDic,thresholdDicInitial,thresholdDic = game.runEpisode(iteration,offersDicInitial,offerDic,thresholdDicInitial,thresholdDic,stopsForGraphs, NaturalSelection=False, SocialPenalty=True)\n",
        "\n",
        "\n",
        "\n",
        "plt.plot(bargainValues, np.array(list(offerDic[1].values()))/sum(np.array(list(offerDic[1].values()))) , label = \"1\" )\n",
        "plt.plot(bargainValues, np.array(list(offerDic[100].values()))/sum(np.array(list(offerDic[100].values()))) , label = \"100\" )\n",
        "plt.plot(bargainValues, np.array(list(offerDic[500].values()))/sum(np.array(list(offerDic[500].values()))) , label = \"500\" )\n",
        "plt.plot(bargainValues, np.array(list(offerDic[1000].values()))/sum(np.array(list(offerDic[1000].values()))) , label = \"1000\" )\n",
        "plt.plot(bargainValues, np.array(list(offerDic[10000].values()))/sum(np.array(list(offerDic[10000].values()))) , label = \"10000\" )\n",
        "plt.plot(bargainValues, np.array(list(offerDic[100000].values()))/sum(np.array(list(offerDic[100000].values()))) , label = \"100000\" )\n",
        "\n",
        "# naming the x axis\n",
        "plt.xlabel('p')\n",
        "# naming the y axis\n",
        "plt.ylabel('d(p)')\n",
        "# show a legend on the plot\n",
        "plt.legend()\n",
        "plt.ylim(bottom=0)\n",
        "plt.ylim(top=1)\n",
        "plt.show()\n",
        "\n",
        "plt.plot(bargainValues, np.array(list(thresholdDic[1].values()))/sum(np.array(list(thresholdDic[1].values()))) , label = \"1\" )\n",
        "plt.plot(bargainValues, np.array(list(thresholdDic[100].values()))/sum(np.array(list(thresholdDic[100].values()))) , label = \"100\" )\n",
        "plt.plot(bargainValues, np.array(list(thresholdDic[500].values()))/sum(np.array(list(thresholdDic[500].values()))) , label = \"500\" )\n",
        "plt.plot(bargainValues, np.array(list(thresholdDic[1000].values()))/sum(np.array(list(thresholdDic[1000].values()))) , label = \"1000\" )\n",
        "plt.plot(bargainValues, np.array(list(thresholdDic[10000].values()))/sum(np.array(list(thresholdDic[10000].values()))) , label = \"10000\" )\n",
        "plt.plot(bargainValues, np.array(list(thresholdDic[100000].values()))/sum(np.array(list(thresholdDic[100000].values()))) , label = \"100000\" )\n",
        "\n",
        "# naming the x axis\n",
        "plt.xlabel('q')\n",
        "# naming the y axis\n",
        "plt.ylabel('d(q)')\n",
        "# show a legend on the plot\n",
        "plt.legend()\n",
        "plt.ylim(bottom=0)\n",
        "plt.ylim(top=1)\n",
        "plt.show()\n",
        "\n",
        "\n",
        "\n",
        "\n",
        "\n",
        "\n"
      ],
      "execution_count": null,
      "outputs": []
    },
    {
      "cell_type": "code",
      "metadata": {
        "id": "DKcrAqjaTwNJ"
      },
      "source": [
        "fig, ax = plt.subplots(figsize=(10, 10))\n",
        "ax.scatter(x = [game.Players[playerId].pValue for playerId in game.Players], y = [game.Players[playerId].qValue for playerId in game.Players])\n",
        "plt.xlabel(\"p\")\n",
        "plt.ylabel(\"q\")\n",
        "\n",
        "plt.show()"
      ],
      "execution_count": null,
      "outputs": []
    },
    {
      "cell_type": "markdown",
      "metadata": {
        "id": "i7pVmlyqULx_"
      },
      "source": [
        "## Natural Selection and Social Penalty\n"
      ]
    },
    {
      "cell_type": "markdown",
      "metadata": {
        "id": "ntwq7vyxULyF"
      },
      "source": [
        "### Empathetic Erdos-Renyi"
      ]
    },
    {
      "cell_type": "code",
      "metadata": {
        "colab": {
          "base_uri": "https://localhost:8080/",
          "height": 1000
        },
        "id": "v01RCTmmULyG",
        "outputId": "3a079d8a-f0fc-4185-d254-927c8c6373b5"
      },
      "source": [
        "NPLAYERS =  1000\n",
        "NITERATIONS = 10001\n",
        "\n",
        "game = ultimatumGame(NPLAYERS, PlayerRole.EMPATHETIC, ScaleFree=False)\n",
        "\n",
        "#pValues\n",
        "offersDicInitial = mapValuesCounter.copy()\n",
        "#qValues\n",
        "thresholdDicInitial = mapValuesCounter.copy()\n",
        "\n",
        "offerDic = {}\n",
        "thresholdDic = {}\n",
        "\n",
        "#run episodes\n",
        "for iteration in range(NITERATIONS):\n",
        "  if iteration%(NITERATIONS//50)==0:\n",
        "    print(\"iteration: \"+str(iteration))\n",
        "  offersDicInitial,offerDic,thresholdDicInitial,thresholdDic = game.runEpisode(iteration,offersDicInitial,offerDic,thresholdDicInitial,thresholdDic,stopsForGraphs, NaturalSelection=True, SocialPenalty=True)\n",
        "\n",
        "\n",
        "\n",
        "plt.plot(bargainValues, np.array(list(offerDic[1].values()))/sum(np.array(list(offerDic[1].values()))) , label = \"1\" )\n",
        "plt.plot(bargainValues, np.array(list(offerDic[100].values()))/sum(np.array(list(offerDic[100].values()))) , label = \"100\" )\n",
        "plt.plot(bargainValues, np.array(list(offerDic[1000].values()))/sum(np.array(list(offerDic[1000].values()))) , label = \"1000\" )\n",
        "plt.plot(bargainValues, np.array(list(offerDic[10000].values()))/sum(np.array(list(offerDic[10000].values()))) , label = \"10000\" )\n",
        "\n",
        "# naming the x axis\n",
        "plt.xlabel('p')\n",
        "# naming the y axis\n",
        "plt.ylabel('d(p)')\n",
        "# show a legend on the plot\n",
        "plt.legend()\n",
        "plt.ylim(bottom=0)\n",
        "plt.ylim(top=1)\n",
        "plt.show()\n",
        "\n",
        "plt.plot(bargainValues, np.array(list(thresholdDic[1].values()))/sum(np.array(list(thresholdDic[1].values()))) , label = \"1\" )\n",
        "plt.plot(bargainValues, np.array(list(thresholdDic[100].values()))/sum(np.array(list(thresholdDic[100].values()))) , label = \"100\" )\n",
        "plt.plot(bargainValues, np.array(list(thresholdDic[1000].values()))/sum(np.array(list(thresholdDic[1000].values()))) , label = \"1000\" )\n",
        "plt.plot(bargainValues, np.array(list(thresholdDic[10000].values()))/sum(np.array(list(thresholdDic[10000].values()))) , label = \"10000\" )\n",
        "\n",
        "# naming the x axis\n",
        "plt.xlabel('q')\n",
        "# naming the y axis\n",
        "plt.ylabel('d(q)')\n",
        "# show a legend on the plot\n",
        "plt.legend()\n",
        "plt.ylim(bottom=0)\n",
        "plt.ylim(top=1)\n",
        "plt.show()\n",
        "\n",
        "\n"
      ],
      "execution_count": null,
      "outputs": [
        {
          "output_type": "stream",
          "name": "stdout",
          "text": [
            "Network created\n",
            "iteration: 0\n",
            "iteration: 200\n",
            "iteration: 400\n",
            "iteration: 600\n",
            "iteration: 800\n",
            "iteration: 1000\n",
            "iteration: 1200\n",
            "iteration: 1400\n",
            "iteration: 1600\n",
            "iteration: 1800\n",
            "iteration: 2000\n",
            "iteration: 2200\n",
            "iteration: 2400\n",
            "iteration: 2600\n",
            "iteration: 2800\n",
            "iteration: 3000\n",
            "iteration: 3200\n",
            "iteration: 3400\n",
            "iteration: 3600\n",
            "iteration: 3800\n",
            "iteration: 4000\n",
            "iteration: 4200\n",
            "iteration: 4400\n",
            "iteration: 4600\n",
            "iteration: 4800\n",
            "iteration: 5000\n",
            "iteration: 5200\n",
            "iteration: 5400\n",
            "iteration: 5600\n",
            "iteration: 5800\n",
            "iteration: 6000\n",
            "iteration: 6200\n",
            "iteration: 6400\n",
            "iteration: 6600\n",
            "iteration: 6800\n",
            "iteration: 7000\n",
            "iteration: 7200\n",
            "iteration: 7400\n",
            "iteration: 7600\n",
            "iteration: 7800\n",
            "iteration: 8000\n",
            "iteration: 8200\n",
            "iteration: 8400\n",
            "iteration: 8600\n",
            "iteration: 8800\n",
            "iteration: 9000\n",
            "iteration: 9200\n",
            "iteration: 9400\n",
            "iteration: 9600\n",
            "iteration: 9800\n",
            "iteration: 10000\n"
          ]
        },
        {
          "output_type": "display_data",
          "data": {
            "image/png": "[encoded data removed]",
            "text/plain": [
              "<Figure size 432x288 with 1 Axes>"
            ]
          },
          "metadata": {
            "needs_background": "light"
          }
        },
        {
          "output_type": "display_data",
          "data": {
            "image/png": "[encoded data removed]",
            "text/plain": [
              "<Figure size 432x288 with 1 Axes>"
            ]
          },
          "metadata": {
            "needs_background": "light"
          }
        }
      ]
    },
    {
      "cell_type": "markdown",
      "metadata": {
        "id": "GMFeQPEJULyH"
      },
      "source": [
        "### Empathetic Scale Free"
      ]
    },
    {
      "cell_type": "code",
      "metadata": {
        "id": "3muk97B7ULyH"
      },
      "source": [
        "NPLAYERS =  500\n",
        "NITERATIONS = 1001\n",
        "\n",
        "game = ultimatumGame(NPLAYERS, PlayerRole.EMPATHETIC, ScaleFree=True)\n",
        "\n",
        "#pValues\n",
        "offersDicInitial = mapValuesCounter.copy()\n",
        "#qValues\n",
        "thresholdDicInitial = mapValuesCounter.copy()\n",
        "\n",
        "offerDic = {}\n",
        "thresholdDic = {}\n",
        "\n",
        "#run episodes\n",
        "for iteration in range(NITERATIONS):\n",
        "  if iteration%(NITERATIONS//20)==0:\n",
        "    print(\"iteration: \"+str(iteration))\n",
        "  offersDicInitial,offerDic,thresholdDicInitial,thresholdDic = game.runEpisode(iteration,offersDicInitial,offerDic,thresholdDicInitial,thresholdDic,stopsForGraphs, NaturalSelection=True, SocialPenalty=True)\n",
        "\n",
        "\n",
        "\n",
        "plt.plot(bargainValues, np.array(list(offerDic[1].values()))/sum(np.array(list(offerDic[1].values()))) , label = \"1\" )\n",
        "plt.plot(bargainValues, np.array(list(offerDic[100].values()))/sum(np.array(list(offerDic[100].values()))) , label = \"100\" )\n",
        "plt.plot(bargainValues, np.array(list(offerDic[1000].values()))/sum(np.array(list(offerDic[1000].values()))) , label = \"1000\" )\n",
        "\n",
        "# naming the x axis\n",
        "plt.xlabel('p')\n",
        "# naming the y axis\n",
        "plt.ylabel('d(p)')\n",
        "# show a legend on the plot\n",
        "plt.legend()\n",
        "plt.ylim(bottom=0)\n",
        "plt.ylim(top=1)\n",
        "plt.show()\n",
        "\n",
        "plt.plot(bargainValues, np.array(list(thresholdDic[1].values()))/sum(np.array(list(thresholdDic[1].values()))) , label = \"1\" )\n",
        "plt.plot(bargainValues, np.array(list(thresholdDic[100].values()))/sum(np.array(list(thresholdDic[100].values()))) , label = \"100\" )\n",
        "plt.plot(bargainValues, np.array(list(thresholdDic[1000].values()))/sum(np.array(list(thresholdDic[1000].values()))) , label = \"1000\" )\n",
        "\n",
        "# naming the x axis\n",
        "plt.xlabel('q')\n",
        "# naming the y axis\n",
        "plt.ylabel('d(q)')\n",
        "# show a legend on the plot\n",
        "plt.legend()\n",
        "plt.ylim(bottom=0)\n",
        "plt.ylim(top=1)\n",
        "plt.show()\n",
        "\n",
        "\n"
      ],
      "execution_count": null,
      "outputs": []
    },
    {
      "cell_type": "markdown",
      "metadata": {
        "id": "Qg0XMX6nULyH"
      },
      "source": [
        "### Pragmatic Erdos-Renyi"
      ]
    },
    {
      "cell_type": "code",
      "metadata": {
        "id": "cVz69zBMULyI"
      },
      "source": [
        "NPLAYERS =  1000\n",
        "NITERATIONS = 10001\n",
        "\n",
        "game = ultimatumGame(NPLAYERS, PlayerRole.PRAGMATIC, ScaleFree=False)\n",
        "\n",
        "#pValues\n",
        "offersDicInitial = mapValuesCounter.copy()\n",
        "#qValues\n",
        "thresholdDicInitial = mapValuesCounter.copy()\n",
        "\n",
        "offerDic = {}\n",
        "thresholdDic = {}\n",
        "\n",
        "#run episodes\n",
        "for iteration in range(NITERATIONS):\n",
        "  if iteration%(NITERATIONS//20)==0:\n",
        "    print(\"iteration: \"+str(iteration))\n",
        "  offersDicInitial,offerDic,thresholdDicInitial,thresholdDic = game.runEpisode(iteration,offersDicInitial,offerDic,thresholdDicInitial,thresholdDic,stopsForGraphs, NaturalSelection=True, SocialPenalty=True)\n",
        "\n",
        "\n",
        "\n",
        "plt.plot(bargainValues, np.array(list(offerDic[1].values()))/sum(np.array(list(offerDic[1].values()))) , label = \"1\" )\n",
        "plt.plot(bargainValues, np.array(list(offerDic[100].values()))/sum(np.array(list(offerDic[100].values()))) , label = \"100\" )\n",
        "plt.plot(bargainValues, np.array(list(offerDic[1000].values()))/sum(np.array(list(offerDic[1000].values()))) , label = \"1000\" )\n",
        "plt.plot(bargainValues, np.array(list(offerDic[10000].values()))/sum(np.array(list(offerDic[10000].values()))) , label = \"10000\" )\n",
        "\n",
        "# naming the x axis\n",
        "plt.xlabel('p')\n",
        "# naming the y axis\n",
        "plt.ylabel('d(p)')\n",
        "# show a legend on the plot\n",
        "plt.legend()\n",
        "plt.ylim(bottom=0)\n",
        "plt.ylim(top=1)\n",
        "plt.show()\n",
        "\n",
        "plt.plot(bargainValues, np.array(list(thresholdDic[1].values()))/sum(np.array(list(thresholdDic[1].values()))) , label = \"1\" )\n",
        "plt.plot(bargainValues, np.array(list(thresholdDic[100].values()))/sum(np.array(list(thresholdDic[100].values()))) , label = \"100\" )\n",
        "plt.plot(bargainValues, np.array(list(thresholdDic[1000].values()))/sum(np.array(list(thresholdDic[1000].values()))) , label = \"1000\" )\n",
        "plt.plot(bargainValues, np.array(list(thresholdDic[10000].values()))/sum(np.array(list(thresholdDic[10000].values()))) , label = \"10000\" )\n",
        "\n",
        "# naming the x axis\n",
        "plt.xlabel('q')\n",
        "# naming the y axis\n",
        "plt.ylabel('d(q)')\n",
        "# show a legend on the plot\n",
        "plt.legend()\n",
        "plt.ylim(bottom=0)\n",
        "plt.ylim(top=1)\n",
        "plt.show()\n",
        "\n",
        "\n"
      ],
      "execution_count": null,
      "outputs": []
    },
    {
      "cell_type": "markdown",
      "metadata": {
        "id": "Cbq6MKVJULyI"
      },
      "source": [
        "### Pragmatic Scale Free"
      ]
    },
    {
      "cell_type": "code",
      "metadata": {
        "id": "aQ0769a2ULyJ"
      },
      "source": [
        "NPLAYERS =  1000\n",
        "NITERATIONS = 10001\n",
        "game = ultimatumGame(NPLAYERS, PlayerRole.PRAGMATIC, ScaleFree=True)\n",
        "\n",
        "#pValues\n",
        "offersDicInitial = mapValuesCounter.copy()\n",
        "#qValues\n",
        "thresholdDicInitial = mapValuesCounter.copy()\n",
        "\n",
        "offerDic = {}\n",
        "thresholdDic = {}\n",
        "\n",
        "#run episodes\n",
        "for iteration in range(NITERATIONS):\n",
        "  if iteration%(NITERATIONS//20)==0:\n",
        "    print(\"iteration: \"+str(iteration))\n",
        "  offersDicInitial,offerDic,thresholdDicInitial,thresholdDic = game.runEpisode(iteration,offersDicInitial,offerDic,thresholdDicInitial,thresholdDic,stopsForGraphs, NaturalSelection=True, SocialPenalty=True)\n",
        "\n",
        "\n",
        "\n",
        "plt.plot(bargainValues, np.array(list(offerDic[1].values()))/sum(np.array(list(offerDic[1].values()))) , label = \"1\" )\n",
        "plt.plot(bargainValues, np.array(list(offerDic[100].values()))/sum(np.array(list(offerDic[100].values()))) , label = \"100\" )\n",
        "plt.plot(bargainValues, np.array(list(offerDic[1000].values()))/sum(np.array(list(offerDic[1000].values()))) , label = \"1000\" )\n",
        "plt.plot(bargainValues, np.array(list(offerDic[10000].values()))/sum(np.array(list(offerDic[10000].values()))) , label = \"10000\" )\n",
        "\n",
        "# naming the x axis\n",
        "plt.xlabel('p')\n",
        "# naming the y axis\n",
        "plt.ylabel('d(p)')\n",
        "# show a legend on the plot\n",
        "plt.legend()\n",
        "plt.ylim(bottom=0)\n",
        "plt.ylim(top=1)\n",
        "plt.show()\n",
        "\n",
        "plt.plot(bargainValues, np.array(list(thresholdDic[1].values()))/sum(np.array(list(thresholdDic[1].values()))) , label = \"1\" )\n",
        "plt.plot(bargainValues, np.array(list(thresholdDic[100].values()))/sum(np.array(list(thresholdDic[100].values()))) , label = \"100\" )\n",
        "plt.plot(bargainValues, np.array(list(thresholdDic[1000].values()))/sum(np.array(list(thresholdDic[1000].values()))) , label = \"1000\" )\n",
        "plt.plot(bargainValues, np.array(list(thresholdDic[10000].values()))/sum(np.array(list(thresholdDic[10000].values()))) , label = \"10000\" )\n",
        "\n",
        "# naming the x axis\n",
        "plt.xlabel('q')\n",
        "# naming the y axis\n",
        "plt.ylabel('d(q)')\n",
        "# show a legend on the plot\n",
        "plt.legend()\n",
        "plt.ylim(bottom=0)\n",
        "plt.ylim(top=1)\n",
        "plt.show()\n",
        "\n",
        "\n"
      ],
      "execution_count": null,
      "outputs": []
    },
    {
      "cell_type": "markdown",
      "metadata": {
        "id": "m-bcKW2GULyJ"
      },
      "source": [
        "### Independent Erdos-Renyi"
      ]
    },
    {
      "cell_type": "code",
      "metadata": {
        "id": "qGuiNHUNULyJ"
      },
      "source": [
        "NPLAYERS =  1000\n",
        "NITERATIONS = 10001\n",
        "game = ultimatumGame(NPLAYERS, PlayerRole.INDEPENDENT, ScaleFree=False)\n",
        "\n",
        "#pValues\n",
        "offersDicInitial = mapValuesCounter.copy()\n",
        "#qValues\n",
        "thresholdDicInitial = mapValuesCounter.copy()\n",
        "\n",
        "offerDic = {}\n",
        "thresholdDic = {}\n",
        "\n",
        "#run episodes\n",
        "for iteration in range(NITERATIONS):\n",
        "  if iteration%(NITERATIONS//20)==0:\n",
        "    print(\"iteration: \"+str(iteration))\n",
        "  offersDicInitial,offerDic,thresholdDicInitial,thresholdDic = game.runEpisode(iteration,offersDicInitial,offerDic,thresholdDicInitial,thresholdDic,stopsForGraphs, NaturalSelection=True, SocialPenalty=True)\n",
        "\n",
        "\n",
        "\n",
        "plt.plot(bargainValues, np.array(list(offerDic[1].values()))/sum(np.array(list(offerDic[1].values()))) , label = \"1\" )\n",
        "plt.plot(bargainValues, np.array(list(offerDic[100].values()))/sum(np.array(list(offerDic[100].values()))) , label = \"100\" )\n",
        "plt.plot(bargainValues, np.array(list(offerDic[1000].values()))/sum(np.array(list(offerDic[1000].values()))) , label = \"1000\" )\n",
        "plt.plot(bargainValues, np.array(list(offerDic[10000].values()))/sum(np.array(list(offerDic[10000].values()))) , label = \"10000\" )\n",
        "\n",
        "# naming the x axis\n",
        "plt.xlabel('p')\n",
        "# naming the y axis\n",
        "plt.ylabel('d(p)')\n",
        "# show a legend on the plot\n",
        "plt.legend()\n",
        "plt.ylim(bottom=0)\n",
        "plt.ylim(top=1)\n",
        "plt.show()\n",
        "\n",
        "plt.plot(bargainValues, np.array(list(thresholdDic[1].values()))/sum(np.array(list(thresholdDic[1].values()))) , label = \"1\" )\n",
        "plt.plot(bargainValues, np.array(list(thresholdDic[100].values()))/sum(np.array(list(thresholdDic[100].values()))) , label = \"100\" )\n",
        "plt.plot(bargainValues, np.array(list(thresholdDic[1000].values()))/sum(np.array(list(thresholdDic[1000].values()))) , label = \"1000\" )\n",
        "plt.plot(bargainValues, np.array(list(thresholdDic[10000].values()))/sum(np.array(list(thresholdDic[10000].values()))) , label = \"10000\" )\n",
        "\n",
        "# naming the x axis\n",
        "plt.xlabel('q')\n",
        "# naming the y axis\n",
        "plt.ylabel('d(q)')\n",
        "# show a legend on the plot\n",
        "plt.legend()\n",
        "plt.ylim(bottom=0)\n",
        "plt.ylim(top=1)\n",
        "plt.show()\n",
        "\n",
        "\n"
      ],
      "execution_count": null,
      "outputs": []
    },
    {
      "cell_type": "code",
      "metadata": {
        "colab": {
          "base_uri": "https://localhost:8080/",
          "height": 606
        },
        "id": "yp4DEMsmULyJ",
        "outputId": "43db496f-ce29-4371-8245-dc7ed15167b3"
      },
      "source": [
        "fig, ax = plt.subplots(figsize=(10, 10))\n",
        "ax.scatter(x = [game.Players[playerId].pValue for playerId in game.Players], y = [game.Players[playerId].qValue for playerId in game.Players])\n",
        "plt.xlabel(\"p\")\n",
        "plt.ylabel(\"q\")\n",
        "\n",
        "plt.show()"
      ],
      "execution_count": null,
      "outputs": [
        {
          "data": {
            "image/png": "[encoded data removed]",
            "text/plain": [
              "<Figure size 720x720 with 1 Axes>"
            ]
          },
          "metadata": {},
          "output_type": "display_data"
        }
      ]
    },
    {
      "cell_type": "markdown",
      "metadata": {
        "id": "bn4efv3GULyK"
      },
      "source": [
        "### Independent Scale Free"
      ]
    },
    {
      "cell_type": "code",
      "metadata": {
        "id": "EnTRupawULyK"
      },
      "source": [
        "NPLAYERS =  1000\n",
        "NITERATIONS = 10001\n",
        "\n",
        "game = ultimatumGame(NPLAYERS, PlayerRole.INDEPENDENT, ScaleFree=True)\n",
        "\n",
        "#pValues\n",
        "offersDicInitial = mapValuesCounter.copy()\n",
        "#qValues\n",
        "thresholdDicInitial = mapValuesCounter.copy()\n",
        "\n",
        "offerDic = {}\n",
        "thresholdDic = {}\n",
        "\n",
        "#run episodes\n",
        "for iteration in range(NITERATIONS):\n",
        "  if iteration%(NITERATIONS//20)==0:\n",
        "    print(\"iteration: \"+str(iteration))\n",
        "  offersDicInitial,offerDic,thresholdDicInitial,thresholdDic = game.runEpisode(iteration,offersDicInitial,offerDic,thresholdDicInitial,thresholdDic,stopsForGraphs, NaturalSelection=True, SocialPenalty=True)\n",
        "\n",
        "\n",
        "\n",
        "plt.plot(bargainValues, np.array(list(offerDic[1].values()))/sum(np.array(list(offerDic[1].values()))) , label = \"1\" )\n",
        "plt.plot(bargainValues, np.array(list(offerDic[100].values()))/sum(np.array(list(offerDic[100].values()))) , label = \"100\" )\n",
        "plt.plot(bargainValues, np.array(list(offerDic[1000].values()))/sum(np.array(list(offerDic[1000].values()))) , label = \"1000\" )\n",
        "plt.plot(bargainValues, np.array(list(offerDic[10000].values()))/sum(np.array(list(offerDic[10000].values()))) , label = \"10000\" )\n",
        "\n",
        "# naming the x axis\n",
        "plt.xlabel('p')\n",
        "# naming the y axis\n",
        "plt.ylabel('d(p)')\n",
        "# show a legend on the plot\n",
        "plt.legend()\n",
        "plt.ylim(bottom=0)\n",
        "plt.ylim(top=1)\n",
        "plt.show()\n",
        "\n",
        "plt.plot(bargainValues, np.array(list(thresholdDic[1].values()))/sum(np.array(list(thresholdDic[1].values()))) , label = \"1\" )\n",
        "plt.plot(bargainValues, np.array(list(thresholdDic[100].values()))/sum(np.array(list(thresholdDic[100].values()))) , label = \"100\" )\n",
        "plt.plot(bargainValues, np.array(list(thresholdDic[1000].values()))/sum(np.array(list(thresholdDic[1000].values()))) , label = \"1000\" )\n",
        "plt.plot(bargainValues, np.array(list(thresholdDic[10000].values()))/sum(np.array(list(thresholdDic[10000].values()))) , label = \"10000\" )\n",
        "\n",
        "# naming the x axis\n",
        "plt.xlabel('q')\n",
        "# naming the y axis\n",
        "plt.ylabel('d(q)')\n",
        "# show a legend on the plot\n",
        "plt.legend()\n",
        "plt.ylim(bottom=0)\n",
        "plt.ylim(top=1)\n",
        "plt.show()\n",
        "\n",
        "\n"
      ],
      "execution_count": null,
      "outputs": []
    },
    {
      "cell_type": "code",
      "metadata": {
        "colab": {
          "base_uri": "https://localhost:8080/",
          "height": 606
        },
        "id": "m-pZ5afBULyK",
        "outputId": "a64f995a-3773-4d68-cae3-41732d5a42a1"
      },
      "source": [
        "fig, ax = plt.subplots(figsize=(10, 10))\n",
        "ax.scatter(x = [game.Players[playerId].pValue for playerId in game.Players], y = [game.Players[playerId].qValue for playerId in game.Players])\n",
        "plt.xlabel(\"p\")\n",
        "plt.ylabel(\"q\")\n",
        "\n",
        "plt.show()"
      ],
      "execution_count": null,
      "outputs": [
        {
          "data": {
            "image/png": "[encoded data removed]",
            "text/plain": [
              "<Figure size 720x720 with 1 Axes>"
            ]
          },
          "metadata": {},
          "output_type": "display_data"
        }
      ]
    },
    {
      "cell_type": "markdown",
      "metadata": {
        "id": "Nfd72tIW1qYR"
      },
      "source": [
        "# Future Works: Different Types of Players\n",
        "\n"
      ]
    },
    {
      "cell_type": "markdown",
      "metadata": {
        "id": "0RanfFSFL_J-"
      },
      "source": [
        "## Extra"
      ]
    },
    {
      "cell_type": "code",
      "metadata": {
        "id": "NXR-xhgxv0FX",
        "colab": {
          "base_uri": "https://localhost:8080/",
          "height": 271
        },
        "outputId": "b7455364-65d9-417d-c159-d19aec7d5337"
      },
      "source": [
        "degree_sequence = sorted(], reverse=True)\n",
        "dmax = max(degree_sequence)\n",
        "\n",
        "fig = plt.figure(\"Degree of a random graph\", figsize=(8, 8))\n",
        "axgrid = fig.add_gridspec(5, 4)\n",
        "\n",
        "ax2 = fig.add_subplot(axgrid[3:, 2:])\n",
        "ax2.plot(*np.unique(degree_sequence, return_counts=True))\n",
        "ax2.set_title(\"Degree histogram\")\n",
        "ax2.set_xlabel(\"Degree\")\n",
        "ax2.set_ylabel(\"# of Nodes\")\n",
        "\n",
        "fig.tight_layout()\n",
        "plt.show()"
      ],
      "execution_count": null,
      "outputs": [
        {
          "output_type": "display_data",
          "data": {
            "image/png": "[encoded data removed]",
            "text/plain": [
              "<Figure size 576x576 with 1 Axes>"
            ]
          },
          "metadata": {
            "needs_background": "light"
          }
        }
      ]
    },
    {
      "cell_type": "markdown",
      "metadata": {
        "id": "jYLe2BvD16JF"
      },
      "source": [
        "## Ultimatum Game Class For multiple Player Types"
      ]
    },
    {
      "cell_type": "code",
      "metadata": {
        "id": "Gt0IYDI116JG"
      },
      "source": [
        "import networkx as nx\n",
        "import matplotlib.pyplot as plt\n",
        "from networkx.algorithms import community\n",
        "\n",
        "stopsForGraphs = [1,100,500,1000,10000,20000,50000,100000,1000000]\n",
        "\n",
        "class ultimatumGame_V2:\n",
        "  \n",
        "    def __init__(self, Nplayers, ScaleFree=False) -> None:\n",
        "        \n",
        "        if ScaleFree:\n",
        "          #Scale-Free\n",
        "          #self.graph = nx.complete_graph(Nplayers)\n",
        "          #ver aqui o argumento n\n",
        "          self.graph = nx.barabasi_albert_graph(Nplayers, 2)\n",
        "        else:\n",
        "          #Erdos-Renyi\n",
        "          self.graph = nx.erdos_renyi_graph(Nplayers, 0.4)\n",
        "\n",
        "        self.Players = {}\n",
        "        \n",
        "        #uniforms distributions i gueess TODO\n",
        "        pValuesForAll = random.choices (bargainValues,k=Nplayers)\n",
        "        #if needed\n",
        "        qValuesForAll = random.choices (bargainValues,k=Nplayers)\n",
        "\n",
        "        #create all players\n",
        "        for i in range(Nplayers):\n",
        "            playerRole = rnd.choice([PlayerRole.EMPATHETIC, PlayerRole.PRAGMATIC, PlayerRole.INDEPENDENT], p = [1/3, 1/3, 1/3])\n",
        "            player = Player(i, playerRole)\n",
        "            player.neighbours = list(self.graph.adj[i])\n",
        "\n",
        "            if playerRole == PlayerRole.EMPATHETIC :\n",
        "              player.pValue = pValuesForAll[i]\n",
        "              player.qValue = player.pValue\n",
        "            elif playerRole == PlayerRole.PRAGMATIC :\n",
        "              player.pValue = pValuesForAll[i]\n",
        "              player.qValue = bargainValues[-(mapValuesIndex[player.pValue]+1)]\n",
        "            elif playerRole == PlayerRole.INDEPENDENT :\n",
        "              player.pValue = pValuesForAll[i]\n",
        "              player.qValue = qValuesForAll[i]\n",
        "            self.Players[i]=player\n",
        "        print(\"Network created\")  \n",
        "\n",
        "\n",
        "\n",
        "    def printGraph(self):\n",
        "        #nx.draw_shell(self.graph, with_labels = True)\n",
        "        #nx.draw(self.graph, with_labels = True)\n",
        "        \n",
        "        fig = plt.figure(figsize=(40, 40)) \n",
        "        nx.draw(self.graph, node_size=150, with_labels = True) \n",
        "        plt.axis('equal') \n",
        "        plt.show() \n",
        "        plt.show()\n",
        "\n",
        "    def runEpisode(self, actualIteration,offersDicInitial,offerDic,thresholdDicInitial,thresholdDic,stopsForGraphs,NaturalSelection=True,SocialPenalty=True, ChangingBelieves=False):\n",
        "      for playerId in range(len(self.Players)):\n",
        "        if NaturalSelection:\n",
        "          #natural selection -> see if there is a better policy in a random j neighbour and define a probability to use j's strategy \n",
        "          player = self.Players[playerId]\n",
        "          if player.neighbours!=[]:\n",
        "            #see if my random neighbour has a better startegy\n",
        "            randomNeighbourIndex = rnd.choice(len(player.neighbours))\n",
        "            randomNeighbour = self.Players[player.neighbours[randomNeighbourIndex]]\n",
        "            if randomNeighbour.ComulativePayoff > player.ComulativePayoff and actualIteration != 1:\n",
        "              higherDegree=np.max([len(player.neighbours),len(randomNeighbour.neighbours)])\n",
        "\n",
        "              probUsingNeighbourStategy = round(((randomNeighbour.ComulativePayoff-player.ComulativePayoff) / (2*higherDegree)),3)\n",
        "              prob = probUsingNeighbourStategy\n",
        "              usingExternalPolicy = rnd.choice([0, 1], p = [1-prob, prob])\n",
        "\n",
        "              if usingExternalPolicy:\n",
        "                #if the player is willing to change its PlayerRole or not\n",
        "                if ChangingBelieves:\n",
        "                  player.PlayerRole = randomNeighbour.PlayerRole\n",
        "                  player.pValue = randomNeighbour.qValue\n",
        "                  player.qValue = randomNeighbour.pValue\n",
        "                else:\n",
        "                  if player.PlayerRole == PlayerRole.EMPATHETIC :\n",
        "                    player.pValue = randomNeighbour.qValue\n",
        "                    player.qValue = player.pValue\n",
        "                  elif player.PlayerRole == PlayerRole.PRAGMATIC :\n",
        "                    player.pValue = randomNeighbour.qValue\n",
        "                    player.qValue = bargainValues[-(mapValuesIndex[player.pValue]+1)]\n",
        "                  elif player.PlayerRole == PlayerRole.INDEPENDENT :\n",
        "                    player.pValue = randomNeighbour.qValue\n",
        "                    player.qValue = randomNeighbour.pValue\n",
        "\n",
        "        #episode itself   -> play the game  \n",
        "        for neighbourId in self.Players[playerId].neighbours:\n",
        "          player = self.Players[playerId]\n",
        "          neighbour = self.Players[neighbourId]\n",
        "          \n",
        "          playerBargainIndex=player.makeOffer()\n",
        "          rewardAcceptedOrNot = neighbour.bargainDecision(playerBargainIndex)\n",
        "          \n",
        "          playerReward = bargainValues[-(playerBargainIndex+1)]\n",
        "          neighbourReward = bargainValues[playerBargainIndex]\n",
        "          \n",
        "          #add payoffs to player  \n",
        "          player.ComulativePayoff+=rewardAcceptedOrNot*playerReward\n",
        "          neighbour.ComulativePayoff+=rewardAcceptedOrNot*neighbourReward\n",
        "          \n",
        "          player.gamesPlayed += 1\n",
        "          neighbour.gamesPlayed += 1\n",
        "\n",
        "        #save info for graphics\n",
        "        if actualIteration in stopsForGraphs:\n",
        "          offersDicInitial[player.pValue]+=1\n",
        "          thresholdDicInitial[player.qValue]+=1\n",
        "      \n",
        "\n",
        "      #save data for graphs\n",
        "      if actualIteration in stopsForGraphs:\n",
        "        offerDic[actualIteration]=offersDicInitial.copy()\n",
        "        offersDicInitial.update({}.fromkeys(offersDicInitial,0))\n",
        "        thresholdDic[actualIteration]=thresholdDicInitial.copy()\n",
        "        thresholdDicInitial.update({}.fromkeys(thresholdDicInitial,0))\n",
        "      \n",
        "\n",
        "      #get the comulative payoffs after a round-robin round\n",
        "      lowerPayoff = len(self.Players) #just a awful large number\n",
        "      lowerPayoffId = 0\n",
        "      for playerId in range(len(self.Players)):\n",
        "        player = self.Players[playerId]\n",
        "        if player.neighbours!=[]:\n",
        "          \n",
        "          player.AvgPayoff = player.ComulativePayoff/player.gamesPlayed\n",
        "\n",
        "          #updating lowerPayoff if necessary\n",
        "          if player.ComulativePayoff<lowerPayoff:\n",
        "            lowerPayoff=player.ComulativePayoff\n",
        "            lowerPayoffId=player.id\n",
        "\n",
        "          #reseting payoffs of that round\n",
        "          player.ComulativePayoff = 0\n",
        "          player.gamesPlayed = 0 \n",
        "        \n",
        "      #Social penalty\n",
        "      #see neigbours policy->comunidaades\n",
        "      if SocialPenalty:\n",
        "        playerToBeRemoved = self.Players[lowerPayoffId]\n",
        "        #handle its neighbours\n",
        "        for i in playerToBeRemoved.neighbours:\n",
        "          #update its q and p values     \n",
        "          self.Players[i].attributeStrategy()\n",
        "\n",
        "        #update q and p Values\n",
        "        playerToBeRemoved.attributeStrategy()\n",
        "\n",
        "\n",
        "      return offersDicInitial,offerDic,thresholdDicInitial,thresholdDic\n",
        "          "
      ],
      "execution_count": 15,
      "outputs": []
    },
    {
      "cell_type": "markdown",
      "metadata": {
        "id": "YgS76L-23B6x"
      },
      "source": [
        "### Changing Values but not PlayerRole w/ Natural Selection ER"
      ]
    },
    {
      "cell_type": "code",
      "metadata": {
        "colab": {
          "base_uri": "https://localhost:8080/",
          "height": 753
        },
        "id": "6zm9mo0d3Bd0",
        "outputId": "4f029592-777d-47da-a720-05952a9a37e5"
      },
      "source": [
        "NPLAYERS =  500\n",
        "NITERATIONS = 1001\n",
        "\n",
        "game = ultimatumGame_V2(NPLAYERS, ScaleFree=False)\n",
        "\n",
        "#pValues\n",
        "offersDicInitial = mapValuesCounter.copy()\n",
        "#qValues\n",
        "thresholdDicInitial = mapValuesCounter.copy()\n",
        "\n",
        "offerDic = {}\n",
        "thresholdDic = {}\n",
        "\n",
        "#run episodes\n",
        "for iteration in range(NITERATIONS):\n",
        "  if iteration%(NITERATIONS//10)==0:\n",
        "    print(\"iteration: \"+str(iteration))\n",
        "  offersDicInitial,offerDic,thresholdDicInitial,thresholdDic = game.runEpisode(iteration,offersDicInitial,offerDic,thresholdDicInitial,thresholdDic,stopsForGraphs, NaturalSelection=True, SocialPenalty=False, ChangingBelieves=False)\n",
        "\n",
        "\n",
        "plt.plot(bargainValues, np.array(list(offerDic[1].values()))/sum(np.array(list(offerDic[1].values()))) , label = \"1\" )\n",
        "plt.plot(bargainValues, np.array(list(offerDic[100].values()))/sum(np.array(list(offerDic[100].values()))) , label = \"100\" )\n",
        "plt.plot(bargainValues, np.array(list(offerDic[500].values()))/sum(np.array(list(offerDic[500].values()))) , label = \"500\" )\n",
        "plt.plot(bargainValues, np.array(list(offerDic[1000].values()))/sum(np.array(list(offerDic[1000].values()))) , label = \"1000\" )\n",
        "#plt.plot(bargainValues, np.array(list(offerDic[10000].values()))/sum(np.array(list(offerDic[10000].values()))) , label = \"10000\" )\n",
        "\n",
        "# naming the x axis\n",
        "plt.xlabel('p')\n",
        "# naming the y axis\n",
        "plt.ylabel('d(p)')\n",
        "# show a legend on the plot\n",
        "plt.legend()\n",
        "plt.ylim(bottom=0)\n",
        "plt.ylim(top=1)\n",
        "plt.show()\n",
        "\n",
        "plt.plot(bargainValues, np.array(list(thresholdDic[1].values()))/sum(np.array(list(thresholdDic[1].values()))) , label = \"1\" )\n",
        "plt.plot(bargainValues, np.array(list(thresholdDic[100].values()))/sum(np.array(list(thresholdDic[100].values()))) , label = \"100\" )\n",
        "plt.plot(bargainValues, np.array(list(thresholdDic[500].values()))/sum(np.array(list(thresholdDic[500].values()))) , label = \"500\" )\n",
        "plt.plot(bargainValues, np.array(list(thresholdDic[1000].values()))/sum(np.array(list(thresholdDic[1000].values()))) , label = \"1000\" )\n",
        "#plt.plot(bargainValues, np.array(list(thresholdDic[10000].values()))/sum(np.array(list(thresholdDic[1000].values()))) , label = \"10000\" )\n",
        "\n",
        "# naming the x axis\n",
        "\n",
        "# naming the x axis\n",
        "plt.xlabel('q')\n",
        "# naming the y axis\n",
        "plt.ylabel('d(q)')\n",
        "# show a legend on the plot\n",
        "plt.legend()\n",
        "plt.ylim(bottom=0)\n",
        "plt.ylim(top=1)\n",
        "plt.show()\n",
        "\n",
        "\n"
      ],
      "execution_count": 27,
      "outputs": [
        {
          "output_type": "stream",
          "name": "stdout",
          "text": [
            "Network created\n",
            "iteration: 0\n",
            "iteration: 100\n",
            "iteration: 200\n",
            "iteration: 300\n",
            "iteration: 400\n",
            "iteration: 500\n",
            "iteration: 600\n",
            "iteration: 700\n",
            "iteration: 800\n",
            "iteration: 900\n",
            "iteration: 1000\n"
          ]
        },
        {
          "output_type": "display_data",
          "data": {
            "image/png": "[encoded data removed]",
            "text/plain": [
              "<Figure size 432x288 with 1 Axes>"
            ]
          },
          "metadata": {
            "needs_background": "light"
          }
        },
        {
          "output_type": "display_data",
          "data": {
            "image/png": "[encoded data removed]",
            "text/plain": [
              "<Figure size 432x288 with 1 Axes>"
            ]
          },
          "metadata": {
            "needs_background": "light"
          }
        }
      ]
    },
    {
      "cell_type": "code",
      "metadata": {
        "colab": {
          "base_uri": "https://localhost:8080/",
          "height": 573
        },
        "id": "YZW2Q4Og4NDs",
        "outputId": "c104fa12-7718-4d8e-9bca-6f5e934c43d6"
      },
      "source": [
        "import collections\n",
        "EmpatheticPlayerQValues  = collections.Counter(np.array([game.Players[playerId].qValue for playerId in game.Players if game.Players[playerId].PlayerRole == PlayerRole.EMPATHETIC]))\n",
        "PragmaticPlayerQValues   = collections.Counter(np.array([game.Players[playerId].qValue for playerId in game.Players if game.Players[playerId].PlayerRole == PlayerRole.PRAGMATIC]))\n",
        "IndependentPlayerQValues = collections.Counter(np.array([game.Players[playerId].qValue for playerId in game.Players if game.Players[playerId].PlayerRole == PlayerRole.INDEPENDENT]))\n",
        "EmpatheticPlayerPValues  = collections.Counter(np.array([game.Players[playerId].pValue for playerId in game.Players if game.Players[playerId].PlayerRole == PlayerRole.EMPATHETIC]))\n",
        "PragmaticPlayerPValues   = collections.Counter(np.array([game.Players[playerId].pValue for playerId in game.Players if game.Players[playerId].PlayerRole == PlayerRole.PRAGMATIC]))\n",
        "IndependentPlayerPValues = collections.Counter(np.array([game.Players[playerId].pValue for playerId in game.Players if game.Players[playerId].PlayerRole == PlayerRole.INDEPENDENT]))\n",
        "\n",
        "EmpatheticPlayerQValuesDic  = mapValuesCounter.copy()\n",
        "PragmaticPlayerQValuesDic   = mapValuesCounter.copy()\n",
        "IndependentPlayerQValuesDic = mapValuesCounter.copy()\n",
        "EmpatheticPlayerPValuesDic  = mapValuesCounter.copy()\n",
        "PragmaticPlayerPValuesDic   = mapValuesCounter.copy()\n",
        "IndependentPlayerPValuesDic = mapValuesCounter.copy()\n",
        "\n",
        "\n",
        "for i in EmpatheticPlayerQValues:\n",
        "  EmpatheticPlayerQValuesDic[round(i,3)]+=EmpatheticPlayerQValues[i]\n",
        "  \n",
        "for i in PragmaticPlayerQValues:\n",
        "  PragmaticPlayerQValuesDic[round(i,3)]+=PragmaticPlayerQValues[i]\n",
        "   \n",
        "for i in IndependentPlayerQValues:\n",
        "  IndependentPlayerQValuesDic[round(i,3)]+=IndependentPlayerQValues[i]\n",
        "\n",
        "for i in EmpatheticPlayerPValues:\n",
        "  EmpatheticPlayerPValuesDic[round(i,3)]+=EmpatheticPlayerPValues[i]\n",
        "  \n",
        "for i in PragmaticPlayerPValues:\n",
        "  PragmaticPlayerPValuesDic[round(i,3)]+=PragmaticPlayerPValues[i]\n",
        "   \n",
        "for i in IndependentPlayerPValues:\n",
        "  IndependentPlayerPValuesDic[round(i,3)]+=IndependentPlayerPValues[i]\n",
        "  \n",
        "\n",
        "plt.plot(bargainValues, np.array(list(EmpatheticPlayerPValuesDic.values()))/sum(np.array(list(EmpatheticPlayerPValuesDic.values()))) , label = \"Emphatetic Players\" )\n",
        "plt.plot(bargainValues, np.array(list(PragmaticPlayerPValuesDic.values()))/sum(np.array(list(PragmaticPlayerPValuesDic.values()))) , label = \"Pragmatic Players\" )\n",
        "plt.plot(bargainValues, np.array(list(IndependentPlayerPValuesDic.values()))/sum(np.array(list(IndependentPlayerPValuesDic.values()))) , label = \"Independent Players\" )\n",
        "\n",
        "# naming the x axis\n",
        "\n",
        "plt.title('D(p) After 1000 rounds')\n",
        "# naming the x axis\n",
        "plt.xlabel('p')\n",
        "# naming the y axis\n",
        "plt.ylabel('d(p)')\n",
        "# show a legend on the plot\n",
        "plt.legend()\n",
        "plt.ylim(bottom=0)\n",
        "plt.ylim(top=1)\n",
        "plt.show()\n",
        "\n",
        "plt.plot(bargainValues, np.array(list(EmpatheticPlayerQValuesDic.values()))/sum(np.array(list(EmpatheticPlayerQValuesDic.values()))) , label = \"Emphatetic Players\" )\n",
        "plt.plot(bargainValues, np.array(list(PragmaticPlayerQValuesDic.values()))/sum(np.array(list(PragmaticPlayerQValuesDic.values()))) , label = \"Pragmatic Players\" )\n",
        "plt.plot(bargainValues, np.array(list(IndependentPlayerQValuesDic.values()))/sum(np.array(list(IndependentPlayerQValuesDic.values()))) , label = \"Independent Players\" )\n",
        "\n",
        "# naming the x axis\n",
        "\n",
        "plt.title('D(q) After 1000 rounds')\n",
        "# naming the x axis\n",
        "plt.xlabel('q')\n",
        "# naming the y axis\n",
        "plt.ylabel('d(q)')\n",
        "# show a legend on the plot\n",
        "plt.legend()\n",
        "plt.ylim(bottom=0)\n",
        "plt.ylim(top=1)\n",
        "plt.show()"
      ],
      "execution_count": 28,
      "outputs": [
        {
          "output_type": "display_data",
          "data": {
            "image/png": "[encoded data removed]",
            "text/plain": [
              "<Figure size 432x288 with 1 Axes>"
            ]
          },
          "metadata": {
            "needs_background": "light"
          }
        },
        {
          "output_type": "display_data",
          "data": {
            "image/png": "[encoded data removed]",
            "text/plain": [
              "<Figure size 432x288 with 1 Axes>"
            ]
          },
          "metadata": {
            "needs_background": "light"
          }
        }
      ]
    },
    {
      "cell_type": "markdown",
      "metadata": {
        "id": "hnlH_0aZs7s7"
      },
      "source": [
        "### Changing Values but not PlayerRole w/ Natural Selection SF"
      ]
    },
    {
      "cell_type": "code",
      "metadata": {
        "colab": {
          "base_uri": "https://localhost:8080/",
          "height": 753
        },
        "id": "wwXi5rSPs7tC",
        "outputId": "8862075d-9e8e-4a7c-85a1-a49d2d08ee38"
      },
      "source": [
        "NPLAYERS =  500\n",
        "NITERATIONS = 1001\n",
        "\n",
        "game = ultimatumGame_V2(NPLAYERS, ScaleFree=True)\n",
        "\n",
        "#pValues\n",
        "offersDicInitial = mapValuesCounter.copy()\n",
        "#qValues\n",
        "thresholdDicInitial = mapValuesCounter.copy()\n",
        "\n",
        "offerDic = {}\n",
        "thresholdDic = {}\n",
        "\n",
        "#run episodes\n",
        "for iteration in range(NITERATIONS):\n",
        "  if iteration%(NITERATIONS//10)==0:\n",
        "    print(\"iteration: \"+str(iteration))\n",
        "  offersDicInitial,offerDic,thresholdDicInitial,thresholdDic = game.runEpisode(iteration,offersDicInitial,offerDic,thresholdDicInitial,thresholdDic,stopsForGraphs, NaturalSelection=True, SocialPenalty=False, ChangingBelieves=False)\n",
        "\n",
        "\n",
        "plt.plot(bargainValues, np.array(list(offerDic[1].values()))/sum(np.array(list(offerDic[1].values()))) , label = \"1\" )\n",
        "plt.plot(bargainValues, np.array(list(offerDic[100].values()))/sum(np.array(list(offerDic[100].values()))) , label = \"100\" )\n",
        "plt.plot(bargainValues, np.array(list(offerDic[500].values()))/sum(np.array(list(offerDic[500].values()))) , label = \"500\" )\n",
        "plt.plot(bargainValues, np.array(list(offerDic[1000].values()))/sum(np.array(list(offerDic[1000].values()))) , label = \"1000\" )\n",
        "#plt.plot(bargainValues, np.array(list(offerDic[10000].values()))/sum(np.array(list(offerDic[10000].values()))) , label = \"10000\" )\n",
        "\n",
        "# naming the x axis\n",
        "plt.xlabel('p')\n",
        "# naming the y axis\n",
        "plt.ylabel('d(p)')\n",
        "# show a legend on the plot\n",
        "plt.legend()\n",
        "plt.ylim(bottom=0)\n",
        "plt.ylim(top=1)\n",
        "plt.show()\n",
        "\n",
        "plt.plot(bargainValues, np.array(list(thresholdDic[1].values()))/sum(np.array(list(thresholdDic[1].values()))) , label = \"1\" )\n",
        "plt.plot(bargainValues, np.array(list(thresholdDic[100].values()))/sum(np.array(list(thresholdDic[100].values()))) , label = \"100\" )\n",
        "plt.plot(bargainValues, np.array(list(thresholdDic[500].values()))/sum(np.array(list(thresholdDic[500].values()))) , label = \"500\" )\n",
        "plt.plot(bargainValues, np.array(list(thresholdDic[1000].values()))/sum(np.array(list(thresholdDic[1000].values()))) , label = \"1000\" )\n",
        "#plt.plot(bargainValues, np.array(list(thresholdDic[10000].values()))/sum(np.array(list(thresholdDic[1000].values()))) , label = \"10000\" )\n",
        "\n",
        "# naming the x axis\n",
        "\n",
        "# naming the x axis\n",
        "plt.xlabel('q')\n",
        "# naming the y axis\n",
        "plt.ylabel('d(q)')\n",
        "# show a legend on the plot\n",
        "plt.legend()\n",
        "plt.ylim(bottom=0)\n",
        "plt.ylim(top=1)\n",
        "plt.show()\n",
        "\n",
        "\n"
      ],
      "execution_count": 48,
      "outputs": [
        {
          "output_type": "stream",
          "name": "stdout",
          "text": [
            "Network created\n",
            "iteration: 0\n",
            "iteration: 100\n",
            "iteration: 200\n",
            "iteration: 300\n",
            "iteration: 400\n",
            "iteration: 500\n",
            "iteration: 600\n",
            "iteration: 700\n",
            "iteration: 800\n",
            "iteration: 900\n",
            "iteration: 1000\n"
          ]
        },
        {
          "output_type": "display_data",
          "data": {
            "image/png": "[encoded data removed]",
            "text/plain": [
              "<Figure size 432x288 with 1 Axes>"
            ]
          },
          "metadata": {
            "needs_background": "light"
          }
        },
        {
          "output_type": "display_data",
          "data": {
            "image/png": "[encoded data removed]",
            "text/plain": [
              "<Figure size 432x288 with 1 Axes>"
            ]
          },
          "metadata": {
            "needs_background": "light"
          }
        }
      ]
    },
    {
      "cell_type": "code",
      "metadata": {
        "colab": {
          "base_uri": "https://localhost:8080/",
          "height": 573
        },
        "id": "WeEIrn-Us7tC",
        "outputId": "d04bb42a-a9c9-4157-b7e4-4a6a85020f6e"
      },
      "source": [
        "import collections\n",
        "EmpatheticPlayerQValues  = collections.Counter(np.array([game.Players[playerId].qValue for playerId in game.Players if game.Players[playerId].PlayerRole == PlayerRole.EMPATHETIC]))\n",
        "PragmaticPlayerQValues   = collections.Counter(np.array([game.Players[playerId].qValue for playerId in game.Players if game.Players[playerId].PlayerRole == PlayerRole.PRAGMATIC]))\n",
        "IndependentPlayerQValues = collections.Counter(np.array([game.Players[playerId].qValue for playerId in game.Players if game.Players[playerId].PlayerRole == PlayerRole.INDEPENDENT]))\n",
        "EmpatheticPlayerPValues  = collections.Counter(np.array([game.Players[playerId].pValue for playerId in game.Players if game.Players[playerId].PlayerRole == PlayerRole.EMPATHETIC]))\n",
        "PragmaticPlayerPValues   = collections.Counter(np.array([game.Players[playerId].pValue for playerId in game.Players if game.Players[playerId].PlayerRole == PlayerRole.PRAGMATIC]))\n",
        "IndependentPlayerPValues = collections.Counter(np.array([game.Players[playerId].pValue for playerId in game.Players if game.Players[playerId].PlayerRole == PlayerRole.INDEPENDENT]))\n",
        "\n",
        "EmpatheticPlayerQValuesDic  = mapValuesCounter.copy()\n",
        "PragmaticPlayerQValuesDic   = mapValuesCounter.copy()\n",
        "IndependentPlayerQValuesDic = mapValuesCounter.copy()\n",
        "EmpatheticPlayerPValuesDic  = mapValuesCounter.copy()\n",
        "PragmaticPlayerPValuesDic   = mapValuesCounter.copy()\n",
        "IndependentPlayerPValuesDic = mapValuesCounter.copy()\n",
        "\n",
        "\n",
        "for i in EmpatheticPlayerQValues:\n",
        "  EmpatheticPlayerQValuesDic[round(i,3)]+=EmpatheticPlayerQValues[i]\n",
        "  \n",
        "for i in PragmaticPlayerQValues:\n",
        "  PragmaticPlayerQValuesDic[round(i,3)]+=PragmaticPlayerQValues[i]\n",
        "   \n",
        "for i in IndependentPlayerQValues:\n",
        "  IndependentPlayerQValuesDic[round(i,3)]+=IndependentPlayerQValues[i]\n",
        "\n",
        "for i in EmpatheticPlayerPValues:\n",
        "  EmpatheticPlayerPValuesDic[round(i,3)]+=EmpatheticPlayerPValues[i]\n",
        "  \n",
        "for i in PragmaticPlayerPValues:\n",
        "  PragmaticPlayerPValuesDic[round(i,3)]+=PragmaticPlayerPValues[i]\n",
        "   \n",
        "for i in IndependentPlayerPValues:\n",
        "  IndependentPlayerPValuesDic[round(i,3)]+=IndependentPlayerPValues[i]\n",
        "  \n",
        "\n",
        "plt.plot(bargainValues, np.array(list(EmpatheticPlayerPValuesDic.values()))/sum(np.array(list(EmpatheticPlayerPValuesDic.values()))) , label = \"Emphatetic Players\" )\n",
        "plt.plot(bargainValues, np.array(list(PragmaticPlayerPValuesDic.values()))/sum(np.array(list(PragmaticPlayerPValuesDic.values()))) , label = \"Pragmatic Players\" )\n",
        "plt.plot(bargainValues, np.array(list(IndependentPlayerPValuesDic.values()))/sum(np.array(list(IndependentPlayerPValuesDic.values()))) , label = \"Independent Players\" )\n",
        "\n",
        "# naming the x axis\n",
        "\n",
        "plt.title('D(p) After 1000 rounds')\n",
        "# naming the x axis\n",
        "plt.xlabel('p')\n",
        "# naming the y axis\n",
        "plt.ylabel('d(p)')\n",
        "# show a legend on the plot\n",
        "plt.legend()\n",
        "plt.ylim(bottom=0)\n",
        "plt.ylim(top=1)\n",
        "plt.show()\n",
        "\n",
        "plt.plot(bargainValues, np.array(list(EmpatheticPlayerQValuesDic.values()))/sum(np.array(list(EmpatheticPlayerQValuesDic.values()))) , label = \"Emphatetic Players\" )\n",
        "plt.plot(bargainValues, np.array(list(PragmaticPlayerQValuesDic.values()))/sum(np.array(list(PragmaticPlayerQValuesDic.values()))) , label = \"Pragmatic Players\" )\n",
        "plt.plot(bargainValues, np.array(list(IndependentPlayerQValuesDic.values()))/sum(np.array(list(IndependentPlayerQValuesDic.values()))) , label = \"Independent Players\" )\n",
        "\n",
        "# naming the x axis\n",
        "\n",
        "plt.title('D(q) After 1000 rounds')\n",
        "# naming the x axis\n",
        "plt.xlabel('q')\n",
        "# naming the y axis\n",
        "plt.ylabel('d(q)')\n",
        "# show a legend on the plot\n",
        "plt.legend()\n",
        "plt.ylim(bottom=0)\n",
        "plt.ylim(top=1)\n",
        "plt.show()"
      ],
      "execution_count": 49,
      "outputs": [
        {
          "output_type": "display_data",
          "data": {
            "image/png": "[encoded data removed]",
            "text/plain": [
              "<Figure size 432x288 with 1 Axes>"
            ]
          },
          "metadata": {
            "needs_background": "light"
          }
        },
        {
          "output_type": "display_data",
          "data": {
            "image/png": "[encoded data removed]",
            "text/plain": [
              "<Figure size 432x288 with 1 Axes>"
            ]
          },
          "metadata": {
            "needs_background": "light"
          }
        }
      ]
    },
    {
      "cell_type": "markdown",
      "metadata": {
        "id": "j8MdLVJ7C86G"
      },
      "source": [
        "### Changing Values and PlayerRole w/ Natural Selection ER"
      ]
    },
    {
      "cell_type": "code",
      "metadata": {
        "colab": {
          "base_uri": "https://localhost:8080/"
        },
        "id": "r79u7Q9jC86G",
        "outputId": "df26e389-12fc-4a84-c28f-0af74fbce046"
      },
      "source": [
        "NPLAYERS =  1000\n",
        "NITERATIONS = 10001\n",
        "\n",
        "game = ultimatumGame_V2(NPLAYERS, ScaleFree=False)\n",
        "\n",
        "#pValues\n",
        "offersDicInitial = mapValuesCounter.copy()\n",
        "#qValues\n",
        "thresholdDicInitial = mapValuesCounter.copy()\n",
        "\n",
        "offerDic = {}\n",
        "thresholdDic = {}\n",
        "\n",
        "#run episodes\n",
        "for iteration in range(NITERATIONS):\n",
        "  if iteration%(NITERATIONS//10)==0:\n",
        "    print(\"iteration: \"+str(iteration))\n",
        "  offersDicInitial,offerDic,thresholdDicInitial,thresholdDic = game.runEpisode(iteration,offersDicInitial,offerDic,thresholdDicInitial,thresholdDic,stopsForGraphs, NaturalSelection=True, SocialPenalty=False, ChangingBelieves=True)\n",
        "\n",
        "\n",
        "plt.plot(bargainValues, np.array(list(offerDic[1].values()))/sum(np.array(list(offerDic[1].values()))) , label = \"1\" )\n",
        "plt.plot(bargainValues, np.array(list(offerDic[100].values()))/sum(np.array(list(offerDic[100].values()))) , label = \"100\" )\n",
        "plt.plot(bargainValues, np.array(list(offerDic[500].values()))/sum(np.array(list(offerDic[500].values()))) , label = \"500\" )\n",
        "plt.plot(bargainValues, np.array(list(offerDic[1000].values()))/sum(np.array(list(offerDic[1000].values()))) , label = \"1000\" )\n",
        "plt.plot(bargainValues, np.array(list(offerDic[10000].values()))/sum(np.array(list(offerDic[10000].values()))) , label = \"10000\" )\n",
        "\n",
        "# naming the x axis\n",
        "plt.xlabel('p')\n",
        "# naming the y axis\n",
        "plt.ylabel('d(p)')\n",
        "# show a legend on the plot\n",
        "plt.legend()\n",
        "plt.ylim(bottom=0)\n",
        "plt.ylim(top=1)\n",
        "plt.show()\n",
        "\n",
        "plt.plot(bargainValues, np.array(list(thresholdDic[1].values()))/sum(np.array(list(thresholdDic[1].values()))) , label = \"1\" )\n",
        "plt.plot(bargainValues, np.array(list(thresholdDic[100].values()))/sum(np.array(list(thresholdDic[100].values()))) , label = \"100\" )\n",
        "plt.plot(bargainValues, np.array(list(thresholdDic[500].values()))/sum(np.array(list(thresholdDic[500].values()))) , label = \"500\" )\n",
        "plt.plot(bargainValues, np.array(list(thresholdDic[1000].values()))/sum(np.array(list(thresholdDic[1000].values()))) , label = \"1000\" )\n",
        "plt.plot(bargainValues, np.array(list(thresholdDic[10000].values()))/sum(np.array(list(thresholdDic[10000].values()))) , label = \"10000\" )\n",
        "\n",
        "# naming the x axis\n",
        "\n",
        "# naming the x axis\n",
        "plt.xlabel('q')\n",
        "# naming the y axis\n",
        "plt.ylabel('d(q)')\n",
        "# show a legend on the plot\n",
        "plt.legend()\n",
        "plt.ylim(bottom=0)\n",
        "plt.ylim(top=1)\n",
        "plt.show()\n",
        "\n",
        "\n"
      ],
      "execution_count": null,
      "outputs": [
        {
          "output_type": "stream",
          "name": "stdout",
          "text": [
            "Network created\n",
            "iteration: 0\n",
            "iteration: 1000\n",
            "iteration: 2000\n",
            "iteration: 3000\n",
            "iteration: 4000\n",
            "iteration: 5000\n",
            "iteration: 6000\n"
          ]
        }
      ]
    },
    {
      "cell_type": "code",
      "metadata": {
        "colab": {
          "base_uri": "https://localhost:8080/",
          "height": 573
        },
        "id": "5HeqTHECC86G",
        "outputId": "5491332f-0b25-4b94-ebf1-54fe5d1da132"
      },
      "source": [
        "import collections\n",
        "EmpatheticPlayerQValues  = collections.Counter(np.array([game.Players[playerId].qValue for playerId in game.Players if game.Players[playerId].PlayerRole == PlayerRole.EMPATHETIC]))\n",
        "PragmaticPlayerQValues   = collections.Counter(np.array([game.Players[playerId].qValue for playerId in game.Players if game.Players[playerId].PlayerRole == PlayerRole.PRAGMATIC]))\n",
        "IndependentPlayerQValues = collections.Counter(np.array([game.Players[playerId].qValue for playerId in game.Players if game.Players[playerId].PlayerRole == PlayerRole.INDEPENDENT]))\n",
        "EmpatheticPlayerPValues  = collections.Counter(np.array([game.Players[playerId].pValue for playerId in game.Players if game.Players[playerId].PlayerRole == PlayerRole.EMPATHETIC]))\n",
        "PragmaticPlayerPValues   = collections.Counter(np.array([game.Players[playerId].pValue for playerId in game.Players if game.Players[playerId].PlayerRole == PlayerRole.PRAGMATIC]))\n",
        "IndependentPlayerPValues = collections.Counter(np.array([game.Players[playerId].pValue for playerId in game.Players if game.Players[playerId].PlayerRole == PlayerRole.INDEPENDENT]))\n",
        "\n",
        "EmpatheticPlayerQValuesDic  = mapValuesCounter.copy()\n",
        "PragmaticPlayerQValuesDic   = mapValuesCounter.copy()\n",
        "IndependentPlayerQValuesDic = mapValuesCounter.copy()\n",
        "EmpatheticPlayerPValuesDic  = mapValuesCounter.copy()\n",
        "PragmaticPlayerPValuesDic   = mapValuesCounter.copy()\n",
        "IndependentPlayerPValuesDic = mapValuesCounter.copy()\n",
        "\n",
        "\n",
        "for i in EmpatheticPlayerQValues:\n",
        "  EmpatheticPlayerQValuesDic[round(i,3)]+=EmpatheticPlayerQValues[i]\n",
        "  \n",
        "for i in PragmaticPlayerQValues:\n",
        "  PragmaticPlayerQValuesDic[round(i,3)]+=PragmaticPlayerQValues[i]\n",
        "   \n",
        "for i in IndependentPlayerQValues:\n",
        "  IndependentPlayerQValuesDic[round(i,3)]+=IndependentPlayerQValues[i]\n",
        "\n",
        "for i in EmpatheticPlayerPValues:\n",
        "  EmpatheticPlayerPValuesDic[round(i,3)]+=EmpatheticPlayerPValues[i]\n",
        "  \n",
        "for i in PragmaticPlayerPValues:\n",
        "  PragmaticPlayerPValuesDic[round(i,3)]+=PragmaticPlayerPValues[i]\n",
        "   \n",
        "for i in IndependentPlayerPValues:\n",
        "  IndependentPlayerPValuesDic[round(i,3)]+=IndependentPlayerPValues[i]\n",
        "  \n",
        "NumberOfEmpatheticPlayers = len([game.Players[playerId].qValue for playerId in game.Players if game.Players[playerId].PlayerRole == PlayerRole.EMPATHETIC])\n",
        "NumberOfPragmaticPlayers = len([game.Players[playerId].qValue for playerId in game.Players if game.Players[playerId].PlayerRole == PlayerRole.PRAGMATIC])\n",
        "NumberOfIndependentPlayers = len([game.Players[playerId].qValue for playerId in game.Players if game.Players[playerId].PlayerRole == PlayerRole.INDEPENDENT])\n",
        "NumberOfPlayers = len(game.Players)\n",
        "\n",
        "plt.plot(bargainValues, np.array(list(EmpatheticPlayerPValuesDic.values()))/sum(np.array(list(EmpatheticPlayerPValuesDic.values()))) , label = \"Emphatetic Players (\"+str(NumberOfEmpatheticPlayers*100/NumberOfPlayers)+\"%)\" )\n",
        "plt.plot(bargainValues, np.array(list(PragmaticPlayerPValuesDic.values()))/sum(np.array(list(PragmaticPlayerPValuesDic.values()))) , label = \"Pragmatic Players (\"+str(NumberOfPragmaticPlayers*100/NumberOfPlayers)+\"%)\" )\n",
        "plt.plot(bargainValues, np.array(list(IndependentPlayerPValuesDic.values()))/sum(np.array(list(IndependentPlayerPValuesDic.values()))) , label = \"Independent Players (\"+str(NumberOfIndependentPlayers*100/NumberOfPlayers)+\"%)\" )\n",
        "\n",
        "# naming the x axis\n",
        "\n",
        "plt.title('D(p) After 1000 rounds')\n",
        "# naming the x axis\n",
        "plt.xlabel('p')\n",
        "# naming the y axis\n",
        "plt.ylabel('d(p)')\n",
        "# show a legend on the plot\n",
        "plt.legend()\n",
        "plt.ylim(bottom=0)\n",
        "plt.ylim(top=1)\n",
        "plt.show()\n",
        "\n",
        "plt.plot(bargainValues, np.array(list(EmpatheticPlayerQValuesDic.values()))/sum(np.array(list(EmpatheticPlayerQValuesDic.values()))) , label = \"Emphatetic Players (\"+str(NumberOfEmpatheticPlayers*100/NumberOfPlayers)+\"%)\" )\n",
        "plt.plot(bargainValues, np.array(list(PragmaticPlayerQValuesDic.values()))/sum(np.array(list(PragmaticPlayerQValuesDic.values()))) , label = \"Pragmatic Players (\"+str(NumberOfPragmaticPlayers*100/NumberOfPlayers)+\"%)\" )\n",
        "plt.plot(bargainValues, np.array(list(IndependentPlayerQValuesDic.values()))/sum(np.array(list(IndependentPlayerQValuesDic.values()))) , label = \"Independent Players (\"+str(NumberOfIndependentPlayers*100/NumberOfPlayers)+\"%)\" )\n",
        "\n",
        "# naming the x axis\n",
        "\n",
        "plt.title('D(q) After 1000 rounds')\n",
        "# naming the x axis\n",
        "plt.xlabel('q')\n",
        "# naming the y axis\n",
        "plt.ylabel('d(q)')\n",
        "# show a legend on the plot\n",
        "plt.legend()\n",
        "plt.ylim(bottom=0)\n",
        "plt.ylim(top=1)\n",
        "plt.show()"
      ],
      "execution_count": 45,
      "outputs": [
        {
          "output_type": "display_data",
          "data": {
            "image/png": "[encoded data removed]",
            "text/plain": [
              "<Figure size 432x288 with 1 Axes>"
            ]
          },
          "metadata": {
            "needs_background": "light"
          }
        },
        {
          "output_type": "display_data",
          "data": {
            "image/png": "[encoded data removed]",
            "text/plain": [
              "<Figure size 432x288 with 1 Axes>"
            ]
          },
          "metadata": {
            "needs_background": "light"
          }
        }
      ]
    },
    {
      "cell_type": "markdown",
      "metadata": {
        "id": "VCARtPfAs7tD"
      },
      "source": [
        "### Changing Values and PlayerRole w/ Natural Selection SF"
      ]
    },
    {
      "cell_type": "code",
      "metadata": {
        "colab": {
          "base_uri": "https://localhost:8080/",
          "height": 753
        },
        "id": "PoK5xkDns7tE",
        "outputId": "667f76ac-5444-443d-dc6a-c9cb2123c6aa"
      },
      "source": [
        "NPLAYERS =  1000\n",
        "NITERATIONS = 10001\n",
        "\n",
        "game = ultimatumGame_V2(NPLAYERS, ScaleFree=True)\n",
        "\n",
        "#pValues\n",
        "offersDicInitial = mapValuesCounter.copy()\n",
        "#qValues\n",
        "thresholdDicInitial = mapValuesCounter.copy()\n",
        "\n",
        "offerDic = {}\n",
        "thresholdDic = {}\n",
        "\n",
        "#run episodes\n",
        "for iteration in range(NITERATIONS):\n",
        "  if iteration%(NITERATIONS//10)==0:\n",
        "    print(\"iteration: \"+str(iteration))\n",
        "  offersDicInitial,offerDic,thresholdDicInitial,thresholdDic = game.runEpisode(iteration,offersDicInitial,offerDic,thresholdDicInitial,thresholdDic,stopsForGraphs, NaturalSelection=True, SocialPenalty=False, ChangingBelieves=True)\n",
        "\n",
        "\n",
        "plt.plot(bargainValues, np.array(list(offerDic[1].values()))/sum(np.array(list(offerDic[1].values()))) , label = \"1\" )\n",
        "plt.plot(bargainValues, np.array(list(offerDic[100].values()))/sum(np.array(list(offerDic[100].values()))) , label = \"100\" )\n",
        "plt.plot(bargainValues, np.array(list(offerDic[500].values()))/sum(np.array(list(offerDic[500].values()))) , label = \"500\" )\n",
        "plt.plot(bargainValues, np.array(list(offerDic[1000].values()))/sum(np.array(list(offerDic[1000].values()))) , label = \"1000\" )\n",
        "plt.plot(bargainValues, np.array(list(offerDic[10000].values()))/sum(np.array(list(offerDic[10000].values()))) , label = \"10000\" )\n",
        "\n",
        "# naming the x axis\n",
        "plt.xlabel('p')\n",
        "# naming the y axis\n",
        "plt.ylabel('d(p)')\n",
        "# show a legend on the plot\n",
        "plt.legend()\n",
        "plt.ylim(bottom=0)\n",
        "plt.ylim(top=1)\n",
        "plt.show()\n",
        "\n",
        "plt.plot(bargainValues, np.array(list(thresholdDic[1].values()))/sum(np.array(list(thresholdDic[1].values()))) , label = \"1\" )\n",
        "plt.plot(bargainValues, np.array(list(thresholdDic[100].values()))/sum(np.array(list(thresholdDic[100].values()))) , label = \"100\" )\n",
        "plt.plot(bargainValues, np.array(list(thresholdDic[500].values()))/sum(np.array(list(thresholdDic[500].values()))) , label = \"500\" )\n",
        "plt.plot(bargainValues, np.array(list(thresholdDic[1000].values()))/sum(np.array(list(thresholdDic[1000].values()))) , label = \"1000\" )\n",
        "plt.plot(bargainValues, np.array(list(thresholdDic[10000].values()))/sum(np.array(list(thresholdDic[10000].values()))) , label = \"10000\" )\n",
        "\n",
        "# naming the x axis\n",
        "\n",
        "# naming the x axis\n",
        "plt.xlabel('q')\n",
        "# naming the y axis\n",
        "plt.ylabel('d(q)')\n",
        "# show a legend on the plot\n",
        "plt.legend()\n",
        "plt.ylim(bottom=0)\n",
        "plt.ylim(top=1)\n",
        "plt.show()\n",
        "\n",
        "\n"
      ],
      "execution_count": 56,
      "outputs": [
        {
          "output_type": "stream",
          "name": "stdout",
          "text": [
            "Network created\n",
            "iteration: 0\n",
            "iteration: 100\n",
            "iteration: 200\n",
            "iteration: 300\n",
            "iteration: 400\n",
            "iteration: 500\n",
            "iteration: 600\n",
            "iteration: 700\n",
            "iteration: 800\n",
            "iteration: 900\n",
            "iteration: 1000\n"
          ]
        },
        {
          "output_type": "display_data",
          "data": {
            "image/png": "[encoded data removed]",
            "text/plain": [
              "<Figure size 432x288 with 1 Axes>"
            ]
          },
          "metadata": {
            "needs_background": "light"
          }
        },
        {
          "output_type": "display_data",
          "data": {
            "image/png": "[encoded data removed]",
            "text/plain": [
              "<Figure size 432x288 with 1 Axes>"
            ]
          },
          "metadata": {
            "needs_background": "light"
          }
        }
      ]
    },
    {
      "cell_type": "code",
      "metadata": {
        "colab": {
          "base_uri": "https://localhost:8080/",
          "height": 641
        },
        "id": "3-xwOmOYs7tE",
        "outputId": "42b28700-97e7-43e3-9cca-ca36363ad0ef"
      },
      "source": [
        "import collections\n",
        "EmpatheticPlayerQValues  = collections.Counter(np.array([game.Players[playerId].qValue for playerId in game.Players if game.Players[playerId].PlayerRole == PlayerRole.EMPATHETIC]))\n",
        "PragmaticPlayerQValues   = collections.Counter(np.array([game.Players[playerId].qValue for playerId in game.Players if game.Players[playerId].PlayerRole == PlayerRole.PRAGMATIC]))\n",
        "IndependentPlayerQValues = collections.Counter(np.array([game.Players[playerId].qValue for playerId in game.Players if game.Players[playerId].PlayerRole == PlayerRole.INDEPENDENT]))\n",
        "EmpatheticPlayerPValues  = collections.Counter(np.array([game.Players[playerId].pValue for playerId in game.Players if game.Players[playerId].PlayerRole == PlayerRole.EMPATHETIC]))\n",
        "PragmaticPlayerPValues   = collections.Counter(np.array([game.Players[playerId].pValue for playerId in game.Players if game.Players[playerId].PlayerRole == PlayerRole.PRAGMATIC]))\n",
        "IndependentPlayerPValues = collections.Counter(np.array([game.Players[playerId].pValue for playerId in game.Players if game.Players[playerId].PlayerRole == PlayerRole.INDEPENDENT]))\n",
        "\n",
        "EmpatheticPlayerQValuesDic  = mapValuesCounter.copy()\n",
        "PragmaticPlayerQValuesDic   = mapValuesCounter.copy()\n",
        "IndependentPlayerQValuesDic = mapValuesCounter.copy()\n",
        "EmpatheticPlayerPValuesDic  = mapValuesCounter.copy()\n",
        "PragmaticPlayerPValuesDic   = mapValuesCounter.copy()\n",
        "IndependentPlayerPValuesDic = mapValuesCounter.copy()\n",
        "\n",
        "\n",
        "for i in EmpatheticPlayerQValues:\n",
        "  EmpatheticPlayerQValuesDic[round(i,3)]+=EmpatheticPlayerQValues[i]\n",
        "  \n",
        "for i in PragmaticPlayerQValues:\n",
        "  PragmaticPlayerQValuesDic[round(i,3)]+=PragmaticPlayerQValues[i]\n",
        "   \n",
        "for i in IndependentPlayerQValues:\n",
        "  IndependentPlayerQValuesDic[round(i,3)]+=IndependentPlayerQValues[i]\n",
        "\n",
        "for i in EmpatheticPlayerPValues:\n",
        "  EmpatheticPlayerPValuesDic[round(i,3)]+=EmpatheticPlayerPValues[i]\n",
        "  \n",
        "for i in PragmaticPlayerPValues:\n",
        "  PragmaticPlayerPValuesDic[round(i,3)]+=PragmaticPlayerPValues[i]\n",
        "   \n",
        "for i in IndependentPlayerPValues:\n",
        "  IndependentPlayerPValuesDic[round(i,3)]+=IndependentPlayerPValues[i]\n",
        "  \n",
        "NumberOfEmpatheticPlayers = len([game.Players[playerId].qValue for playerId in game.Players if game.Players[playerId].PlayerRole == PlayerRole.EMPATHETIC])\n",
        "NumberOfPragmaticPlayers = len([game.Players[playerId].qValue for playerId in game.Players if game.Players[playerId].PlayerRole == PlayerRole.PRAGMATIC])\n",
        "NumberOfIndependentPlayers = len([game.Players[playerId].qValue for playerId in game.Players if game.Players[playerId].PlayerRole == PlayerRole.INDEPENDENT])\n",
        "NumberOfPlayers = len(game.Players)\n",
        "\n",
        "plt.plot(bargainValues, np.array(list(EmpatheticPlayerPValuesDic.values()))/sum(np.array(list(EmpatheticPlayerPValuesDic.values()))) , label = \"Emphatetic Players (\"+str(NumberOfEmpatheticPlayers*100/NumberOfPlayers)+\"%)\" )\n",
        "plt.plot(bargainValues, np.array(list(PragmaticPlayerPValuesDic.values()))/sum(np.array(list(PragmaticPlayerPValuesDic.values()))) , label = \"Pragmatic Players (\"+str(NumberOfPragmaticPlayers*100/NumberOfPlayers)+\"%)\" )\n",
        "plt.plot(bargainValues, np.array(list(IndependentPlayerPValuesDic.values()))/sum(np.array(list(IndependentPlayerPValuesDic.values()))) , label = \"Independent Players (\"+str(NumberOfIndependentPlayers*100/NumberOfPlayers)+\"%)\" )\n",
        "\n",
        "# naming the x axis\n",
        "\n",
        "plt.title('D(p) After 1000 rounds')\n",
        "# naming the x axis\n",
        "plt.xlabel('p')\n",
        "# naming the y axis\n",
        "plt.ylabel('d(p)')\n",
        "# show a legend on the plot\n",
        "plt.legend()\n",
        "plt.ylim(bottom=0)\n",
        "plt.ylim(top=1)\n",
        "plt.show()\n",
        "\n",
        "plt.plot(bargainValues, np.array(list(EmpatheticPlayerQValuesDic.values()))/sum(np.array(list(EmpatheticPlayerQValuesDic.values()))) , label = \"Emphatetic Players (\"+str(NumberOfEmpatheticPlayers*100/NumberOfPlayers)+\"%)\" )\n",
        "plt.plot(bargainValues, np.array(list(PragmaticPlayerQValuesDic.values()))/sum(np.array(list(PragmaticPlayerQValuesDic.values()))) , label = \"Pragmatic Players (\"+str(NumberOfPragmaticPlayers*100/NumberOfPlayers)+\"%)\" )\n",
        "plt.plot(bargainValues, np.array(list(IndependentPlayerQValuesDic.values()))/sum(np.array(list(IndependentPlayerQValuesDic.values()))) , label = \"Independent Players (\"+str(NumberOfIndependentPlayers*100/NumberOfPlayers)+\"%)\" )\n",
        "\n",
        "# naming the x axis\n",
        "\n",
        "plt.title('D(q) After 1000 rounds')\n",
        "# naming the x axis\n",
        "plt.xlabel('q')\n",
        "# naming the y axis\n",
        "plt.ylabel('d(q)')\n",
        "# show a legend on the plot\n",
        "plt.legend()\n",
        "plt.ylim(bottom=0)\n",
        "plt.ylim(top=1)\n",
        "plt.show()"
      ],
      "execution_count": 57,
      "outputs": [
        {
          "output_type": "stream",
          "name": "stderr",
          "text": [
            "/usr/local/lib/python3.7/dist-packages/ipykernel_launcher.py:40: RuntimeWarning: invalid value encountered in true_divide\n",
            "/usr/local/lib/python3.7/dist-packages/ipykernel_launcher.py:41: RuntimeWarning: invalid value encountered in true_divide\n"
          ]
        },
        {
          "output_type": "display_data",
          "data": {
            "image/png": "[encoded data removed]",
            "text/plain": [
              "<Figure size 432x288 with 1 Axes>"
            ]
          },
          "metadata": {
            "needs_background": "light"
          }
        },
        {
          "output_type": "stream",
          "name": "stderr",
          "text": [
            "/usr/local/lib/python3.7/dist-packages/ipykernel_launcher.py:57: RuntimeWarning: invalid value encountered in true_divide\n",
            "/usr/local/lib/python3.7/dist-packages/ipykernel_launcher.py:58: RuntimeWarning: invalid value encountered in true_divide\n"
          ]
        },
        {
          "output_type": "display_data",
          "data": {
            "image/png": "[encoded data removed]",
            "text/plain": [
              "<Figure size 432x288 with 1 Axes>"
            ]
          },
          "metadata": {
            "needs_background": "light"
          }
        }
      ]
    }
  ]
}