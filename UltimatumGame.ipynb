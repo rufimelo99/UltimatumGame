{
  "nbformat": 4,
  "nbformat_minor": 0,
  "metadata": {
    "colab": {
      "name": "UltimatumGame.ipynb",
      "provenance": [],
      "collapsed_sections": [],
      "authorship_tag": "ABX9TyOv2aXsaWbfsjUY7FNBRY6a",
      "include_colab_link": true
    },
    "kernelspec": {
      "name": "python3",
      "display_name": "Python 3"
    },
    "language_info": {
      "name": "python"
    }
  },
  "cells": [
    {
      "cell_type": "markdown",
      "metadata": {
        "id": "view-in-github",
        "colab_type": "text"
      },
      "source": [
        "<a href=\"https://colab.research.google.com/github/rufimelo99/UltimatumGame/blob/main/UltimatumGame.ipynb\" target=\"_parent\"><img src=\"https://colab.research.google.com/assets/colab-badge.svg\" alt=\"Open In Colab\"/></a>"
      ]
    },
    {
      "cell_type": "markdown",
      "metadata": {
        "id": "s3-6wDuzSLsp"
      },
      "source": [
        "#Classes"
      ]
    },
    {
      "cell_type": "markdown",
      "metadata": {
        "id": "l_361YcDR8EP"
      },
      "source": [
        "## Player Class"
      ]
    },
    {
      "cell_type": "code",
      "metadata": {
        "id": "VdfOGMUVCPxi"
      },
      "source": [
        "import random\n",
        "import numpy as np\n",
        "import numpy.random as rnd\n",
        "import math\n",
        "from enum import Enum\n",
        "bargainValues = [0,0.1,0.2,0.3,0.4,0.5,0.6,0.7,0.8,0.9,1.0]\n",
        "mapValuesIndex = {0: 0, 0.1: 1, 0.2: 2, 0.3: 3, 0.4:4, 0.5: 5, 0.6: 6, 0.7: 7, 0.8: 8, 0.9: 9, 1: 10}\n",
        "mapIndexValues = {0: 0, 1: 0.1, 2: 0.2, 3: 0.3, 4:0.4, 5: 0.5, 6: 0.6, 7: 0.7, 8: 0.8, 9: 0.9, 10: 1}\n",
        "\n",
        "class PlayerRole(Enum):\n",
        "    EMPATHIC = 1\n",
        "    PRAGMATIC = 2\n",
        "    INDEPENDENT = 3\n",
        "\n",
        "class Player:\n",
        "    def __init__(self, id, PlayerRole) -> None:\n",
        "        self.id=id\n",
        "        self.neighbours = []\n",
        "        self.ComulativePayoff = 0\n",
        "        self.gamesPlayed = 0\n",
        "\n",
        "        self.pValue=0\n",
        "        self.qValue=0\n",
        "        self.PlayerRole=PlayerRole\n",
        "\n",
        "        self.probUsingNeighbourStategy=0\n",
        "        self.usingNeighbourStategy = False\n",
        "        self.NeighbourPValue = 0\n",
        "        self.NeighbourQValue = 0\n",
        "\n",
        "    def attributeStrategy(self):\n",
        "      if self.PlayerRole == PlayerRole.EMPATHIC :\n",
        "        self.pValue = random.choice(bargainValues)\n",
        "        self.qValue = self.pValue\n",
        "      elif self.PlayerRole == PlayerRole.PRAGMATIC :\n",
        "        self.pValue = random.choice(bargainValues)\n",
        "        self.qValue = 1-self.pValue\n",
        "      elif self.PlayerRole == PlayerRole.INDEPENDENT :\n",
        "        self.pValue = random.choice(bargainValues)\n",
        "        self.qValue = random.choice(bargainValues)\n",
        "\n",
        "\n",
        "\n",
        "    def makeOffer(self):\n",
        "        #returns index of bargain proposal \n",
        "        #offer from Proposer\n",
        "        if self.usingNeighbourStategy:\n",
        "\n",
        "          prob = self.probUsingNeighbourStategy\n",
        "          usingExternalPolicy = rnd.choice([0, 1], p = [1-prob, prob])\n",
        "          \n",
        "          if usingExternalPolicy:\n",
        "            return mapValuesIndex[self.NeighbourPValue]\n",
        "          else:\n",
        "            return mapValuesIndex[self.pValue]\n",
        "        else:\n",
        "          return mapValuesIndex[self.pValue]\n",
        "\n",
        "    def bargainDecision(self, bargainValueIndex):\n",
        "        if self.usingNeighbourStategy:\n",
        "          prob = self.probUsingNeighbourStategy\n",
        "          usingExternalPolicy = rnd.choice([0, 1], p = [1-prob, prob])\n",
        "          if usingExternalPolicy:\n",
        "            if mapIndexValues[bargainValueIndex]>=self.NeighbourQValue:\n",
        "              return 1\n",
        "            else:\n",
        "              return 0\n",
        "        else:\n",
        "          if mapIndexValues[bargainValueIndex]>=self.qValue:\n",
        "            return 1\n",
        "          else:\n",
        "            return 0\n",
        "        if mapIndexValues[bargainValueIndex]>=self.qValue:\n",
        "          return 1\n",
        "        else:\n",
        "          return 0 \n"
      ],
      "execution_count": 132,
      "outputs": []
    },
    {
      "cell_type": "markdown",
      "metadata": {
        "id": "roC5WK7ISDhd"
      },
      "source": [
        "## Ultimaum Game Class"
      ]
    },
    {
      "cell_type": "code",
      "metadata": {
        "id": "EKuFQuV2CRgC"
      },
      "source": [
        "import networkx as nx\n",
        "import matplotlib.pyplot as plt\n",
        "\n",
        "stopsForGraphs = [1,10,100,1000,10000, 20000]\n",
        "\n",
        "class ultimatumGame:\n",
        "  \n",
        "    def __init__(self, Nplayers, PlayerRole, ScaleFree=False) -> None:\n",
        "        \n",
        "        if ScaleFree:\n",
        "          #Scale-Free\n",
        "          #nooo\n",
        "          #self.graph = nx.complete_graph(Nplayers)\n",
        "          self.graph = nx.scale_free_graph(Nplayers)\n",
        "          #self.graph = random_powerlaw_tree_sequence(Nplayers)\n",
        "        else:\n",
        "          #Erdos-Renyi\n",
        "          self.graph = nx.erdos_renyi_graph(Nplayers, 0.15)\n",
        "\n",
        "        self.Players = {}\n",
        "        \n",
        "        #uniforms distributions i gueess TODO\n",
        "        pValuesForAll = random.choices (bargainValues,k=Nplayers)\n",
        "        #if needed\n",
        "        qValuesForAll = random.choices (bargainValues,k=Nplayers)\n",
        "\n",
        "        #create all players\n",
        "        for i in range(Nplayers):\n",
        "            player = Player(i, PlayerRole)\n",
        "            player.neighbours = list(self.graph.adj[i])\n",
        "\n",
        "            if PlayerRole == PlayerRole.EMPATHIC :\n",
        "              player.pValue = pValuesForAll[i]\n",
        "              player.qValue = player.pValue\n",
        "            elif PlayerRole == PlayerRole.PRAGMATIC :\n",
        "              player.pValue = pValuesForAll[i]\n",
        "              player.qValue = 1-player.pValue\n",
        "            elif PlayerRole == PlayerRole.INDEPENDENT :\n",
        "              player.pValue = pValuesForAll[i]\n",
        "              player.qValue = qValuesForAll[i]\n",
        "\n",
        "\n",
        "            self.Players[i]=player\n",
        "\n",
        "    def printGraph(self):\n",
        "        #nx.draw_shell(self.graph, with_labels = True)\n",
        "        #nx.draw(self.graph, with_labels = True)\n",
        "        \n",
        "        fig = plt.figure(figsize=(40, 40)) \n",
        "        nx.draw(self.graph, node_size=150, with_labels = True) \n",
        "        plt.axis('equal') \n",
        "        plt.show() \n",
        "        plt.show()\n",
        "\n",
        "    def runEpisode(self, actualIteration,offersDicInitial,offerDic,stopsForGraphs, SocialPenalty=True):\n",
        "      for playerId in range(len(self.Players)):\n",
        "        #natural selection -> see if there is a better policy\n",
        "        player = self.Players[playerId]\n",
        "        if player.neighbours!=[]:\n",
        "          #see if my random neighbour has a better startegy\n",
        "          randomNeighbourIndex = rnd.choice(len(player.neighbours))\n",
        "          randomNeighbourId = player.neighbours[randomNeighbourIndex]\n",
        "          randomNeighbour = self.Players[randomNeighbourId]\n",
        "          if randomNeighbour.ComulativePayoff > player.ComulativePayoff and actualIteration != 1:\n",
        "            #see here\n",
        "            if len(player.neighbours)>len(randomNeighbour.neighbours):\n",
        "              higherDegree=len(player.neighbours)\n",
        "            else:\n",
        "              higherDegree=len(randomNeighbour.neighbours)\n",
        "\n",
        "            probUsingNeighbourStategy = round(((randomNeighbour.ComulativePayoff-player.ComulativePayoff)/ (2*higherDegree)),3)\n",
        "              \n",
        "            player.usingNeighbourStategy = True\n",
        "            player.probUsingNeighbourStategy = probUsingNeighbourStategy\n",
        "            player.NeighbourQValue = randomNeighbour.qValue\n",
        "            player.NeighbourPValue = randomNeighbour.pValue\n",
        "\n",
        "        #episode itself    \n",
        "        for neighbourId in self.Players[playerId].neighbours:\n",
        "          player = self.Players[playerId]\n",
        "          neighbour = self.Players[neighbourId]\n",
        "          \n",
        "          playerBargainIndex=player.makeOffer()\n",
        "          rewardAcceptedOrNot = neighbour.bargainDecision(playerBargainIndex)\n",
        "          \n",
        "          playerReward = bargainValues[-(playerBargainIndex+1)]\n",
        "          neighbourReward = bargainValues[playerBargainIndex]\n",
        "          \n",
        "          #add payoffs to player  \n",
        "          player.ComulativePayoff+=rewardAcceptedOrNot*playerReward\n",
        "          neighbour.ComulativePayoff+=rewardAcceptedOrNot*neighbourReward\n",
        "          player.gamesPlayed += 1\n",
        "          neighbour.gamesPlayed += 1\n",
        "\n",
        "                  \n",
        "          #TODO might be wrong.. must be.. jesus\n",
        "          offersDicInitial[bargainValues[playerBargainIndex]]+=1\n",
        "      \n",
        "\n",
        "      #save data for graphs\n",
        "      if actualIteration in stopsForGraphs:\n",
        "        offerDic[actualIteration]=offersDicInitial.copy()\n",
        "        offersDicInitial.update({}.fromkeys(offersDicInitial,0))\n",
        "      \n",
        "\n",
        "      #get the comulative payoffs after a round-robin round\n",
        "      lowerPayoff = 1.0\n",
        "      lowerPayoffId = 0\n",
        "      for playerId in range(len(self.Players)):\n",
        "        player = self.Players[playerId]\n",
        "        if player.neighbours!=[]:\n",
        "          \n",
        "          #reseting payoffs of that round\n",
        "          player.ComulativePayoff = 0\n",
        "          player.gamesPlayed = 0\n",
        "          #updating lowerPayoff if necessary\n",
        "          if player.ComulativePayoff<lowerPayoff:\n",
        "            lowerPayoff=player.ComulativePayoff\n",
        "            lowerPayoffId=player.id\n",
        "            \n",
        "        \n",
        "        #reset natural Selection\n",
        "        player.usingNeighbourStategy = False\n",
        "        \n",
        "      #Social penalty\n",
        "      #TODO\n",
        "      #see neigbours policy->comunidaades\n",
        "      if SocialPenalty:\n",
        "        playerToBeRemoved = self.Players[lowerPayoffId]\n",
        "        #handle its neighbours\n",
        "        for i in playerToBeRemoved.neighbours:\n",
        "          #update its q and p values     \n",
        "          self.Players[i].attributeStrategy()\n",
        "\n",
        "        #update q and p Values\n",
        "        playerToBeRemoved.attributeStrategy()\n",
        "\n",
        "\n",
        "      return offersDicInitial,offerDic\n",
        "          "
      ],
      "execution_count": 141,
      "outputs": []
    },
    {
      "cell_type": "markdown",
      "metadata": {
        "id": "SkFDGZVjSPdD"
      },
      "source": [
        "# Execution"
      ]
    },
    {
      "cell_type": "markdown",
      "metadata": {
        "id": "QeYsT1lVVAuk"
      },
      "source": [
        "## Game Creation\n"
      ]
    },
    {
      "cell_type": "markdown",
      "metadata": {
        "id": "sQjjDkm8VGiV"
      },
      "source": [
        "## Running Game"
      ]
    },
    {
      "cell_type": "markdown",
      "metadata": {
        "id": "Bn4k1_H_TiwI"
      },
      "source": [
        "### Test"
      ]
    },
    {
      "cell_type": "code",
      "metadata": {
        "colab": {
          "base_uri": "https://localhost:8080/",
          "height": 1000
        },
        "id": "JMrIWUSpLVeC",
        "outputId": "eac3f791-88c2-4609-88b1-2076d451d319"
      },
      "source": [
        "NPLAYERS =  101\n",
        "NITERATIONS = 1001\n",
        "\n",
        "game = ultimatumGame(NPLAYERS, PlayerRole.PRAGMATIC, ScaleFree=False)\n",
        "\n",
        "\n",
        "offersDicInitial={0:0, 0.1:0, 0.2:0, 0.3:0, 0.4:0, 0.5:0, 0.6:0, 0.7:0, 0.8:0, 0.9:0, 1:0}\n",
        "offerDic = {}\n",
        "stopsForGraphs = [1,10,100,1000,10000,20000]\n",
        "\n",
        "#run episodes\n",
        "for iteration in range(NITERATIONS):\n",
        "  if iteration%10==0:\n",
        "    print(\"iteration: \"+str(iteration))\n",
        "  offersDicInitial,offerDic = game.runEpisode(iteration,offersDicInitial,offerDic,stopsForGraphs, SocialPenalty=False)\n",
        "\n",
        "plt.plot([0,0.1,0.2,0.3,0.4,0.5,0.6,0.7,0.8,0.9,1.0], np.array(list(offerDic[1].values())) /sum(np.array(list(offerDic[1].values()))) , label = \"1\" ) \n",
        "plt.plot([0,0.1,0.2,0.3,0.4,0.5,0.6,0.7,0.8,0.9,1.0], np.array(list(offerDic[10].values()))/sum(np.array(list(offerDic[10].values()))), label = \"10\")\n",
        "plt.plot([0,0.1,0.2,0.3,0.4,0.5,0.6,0.7,0.8,0.9,1.0], np.array(list(offerDic[100].values()))/sum(np.array(list(offerDic[100].values()))), label = \"100\")\n",
        "plt.plot([0,0.1,0.2,0.3,0.4,0.5,0.6,0.7,0.8,0.9,1.0], np.array(list(offerDic[1000].values()))/sum(np.array(list(offerDic[1000].values()))), label = \"1000\")\n",
        "#plt.plot([0,0.1,0.2,0.3,0.4,0.5,0.6,0.7,0.8,0.9,1.0], np.array(list(offerDic[10000].values()))/sum(np.array(list(offerDic[10000].values()))), label = \"10000\")\n",
        "#plt.plot([0,0.1,0.2,0.3,0.4,0.5,0.6,0.7,0.8,0.9,1.0], np.array(list(offerDic[20000].values()))/sum(np.array(list(offerDic[20000].values()))), label = \"20000\")\n",
        "\n",
        "\n",
        "# naming the x axis\n",
        "plt.xlabel('p')\n",
        "# naming the y axis\n",
        "plt.ylabel('d(p)')\n",
        "# show a legend on the plot\n",
        "plt.legend()\n",
        "plt.ylim(bottom=0)\n",
        "plt.ylim(top=1)\n",
        "plt.show()\n",
        "\n"
      ],
      "execution_count": 146,
      "outputs": [
        {
          "output_type": "stream",
          "name": "stdout",
          "text": [
            "iteration: 0\n",
            "iteration: 10\n",
            "iteration: 20\n",
            "iteration: 30\n",
            "iteration: 40\n",
            "iteration: 50\n",
            "iteration: 60\n",
            "iteration: 70\n",
            "iteration: 80\n",
            "iteration: 90\n",
            "iteration: 100\n",
            "iteration: 110\n",
            "iteration: 120\n",
            "iteration: 130\n",
            "iteration: 140\n",
            "iteration: 150\n",
            "iteration: 160\n",
            "iteration: 170\n",
            "iteration: 180\n",
            "iteration: 190\n",
            "iteration: 200\n",
            "iteration: 210\n",
            "iteration: 220\n",
            "iteration: 230\n",
            "iteration: 240\n",
            "iteration: 250\n",
            "iteration: 260\n",
            "iteration: 270\n",
            "iteration: 280\n",
            "iteration: 290\n",
            "iteration: 300\n",
            "iteration: 310\n",
            "iteration: 320\n",
            "iteration: 330\n",
            "iteration: 340\n",
            "iteration: 350\n",
            "iteration: 360\n",
            "iteration: 370\n",
            "iteration: 380\n",
            "iteration: 390\n",
            "iteration: 400\n",
            "iteration: 410\n",
            "iteration: 420\n",
            "iteration: 430\n",
            "iteration: 440\n",
            "iteration: 450\n",
            "iteration: 460\n",
            "iteration: 470\n",
            "iteration: 480\n",
            "iteration: 490\n",
            "iteration: 500\n",
            "iteration: 510\n",
            "iteration: 520\n",
            "iteration: 530\n",
            "iteration: 540\n",
            "iteration: 550\n",
            "iteration: 560\n",
            "iteration: 570\n",
            "iteration: 580\n",
            "iteration: 590\n",
            "iteration: 600\n",
            "iteration: 610\n",
            "iteration: 620\n",
            "iteration: 630\n",
            "iteration: 640\n",
            "iteration: 650\n",
            "iteration: 660\n",
            "iteration: 670\n",
            "iteration: 680\n",
            "iteration: 690\n",
            "iteration: 700\n",
            "iteration: 710\n",
            "iteration: 720\n",
            "iteration: 730\n",
            "iteration: 740\n",
            "iteration: 750\n",
            "iteration: 760\n",
            "iteration: 770\n",
            "iteration: 780\n",
            "iteration: 790\n",
            "iteration: 800\n",
            "iteration: 810\n",
            "iteration: 820\n",
            "iteration: 830\n",
            "iteration: 840\n",
            "iteration: 850\n",
            "iteration: 860\n",
            "iteration: 870\n",
            "iteration: 880\n",
            "iteration: 890\n",
            "iteration: 900\n",
            "iteration: 910\n",
            "iteration: 920\n",
            "iteration: 930\n",
            "iteration: 940\n",
            "iteration: 950\n",
            "iteration: 960\n",
            "iteration: 970\n",
            "iteration: 980\n",
            "iteration: 990\n",
            "iteration: 1000\n"
          ]
        },
        {
          "output_type": "display_data",
          "data": {
            "image/png": "[encoded data removed]",
            "text/plain": [
              "<Figure size 432x288 with 1 Axes>"
            ]
          },
          "metadata": {
            "needs_background": "light"
          }
        }
      ]
    },
    {
      "cell_type": "markdown",
      "metadata": {
        "id": "Wjx8hs1kRSBK"
      },
      "source": [
        "# extra"
      ]
    },
    {
      "cell_type": "code",
      "metadata": {
        "colab": {
          "base_uri": "https://localhost:8080/"
        },
        "id": "WSpu3yeZQI_4",
        "outputId": "752a1cd6-c8f4-43fa-8e51-92a3a90f9acb"
      },
      "source": [
        "print(np.array(list(offerDic[1].values())))\n",
        "print(np.array(list(offerDic[1].values())) /sum(np.array(list(offerDic[1].values()))))\n",
        "print(np.array(list(offerDic[10].values())))\n",
        "print(np.array(list(offerDic[10].values())) /sum(np.array(list(offerDic[10].values()))))\n",
        "print(np.array(list(offerDic[100].values())))\n",
        "print(np.array(list(offerDic[100].values())) /sum(np.array(list(offerDic[100].values()))))\n",
        "#print(np.array(list(offerDic[100].values())))\n",
        "#print(np.array(list(offerDic[100].values())) /sum(np.array(list(offerDic[100].values()))))"
      ],
      "execution_count": 147,
      "outputs": [
        {
          "output_type": "stream",
          "name": "stdout",
          "text": [
            "[285 217 301  80 247 239 203 405 330 394 403]\n",
            "[0.09181701 0.06990979 0.09697165 0.0257732  0.07957474 0.07699742\n",
            " 0.06539948 0.1304768  0.10631443 0.12693299 0.12983247]\n",
            "[1148  995 1371  330 1124 1025  914 1931 1478 1815 1837]\n",
            "[0.08218786 0.07123425 0.09815292 0.02362543 0.08046964 0.07338202\n",
            " 0.06543528 0.13824456 0.10581329 0.12993986 0.13151489]\n",
            "[11498  9676 13446  3264 11191 10769  9150 19277 15147 17960 18302]\n",
            "[0.08231672 0.06927262 0.09626289 0.0233677  0.08011884 0.07709765\n",
            " 0.06550687 0.1380083  0.10844072 0.12857961 0.13102806]\n"
          ]
        }
      ]
    },
    {
      "cell_type": "code",
      "metadata": {
        "colab": {
          "base_uri": "https://localhost:8080/",
          "height": 271
        },
        "id": "NXR-xhgxv0FX",
        "outputId": "ad92b160-7b09-4036-e5ef-30e3c49a49e7"
      },
      "source": [
        "degree_sequence = sorted([d for n, d in game.graph.degree()], reverse=True)\n",
        "dmax = max(degree_sequence)\n",
        "\n",
        "fig = plt.figure(\"Degree of a random graph\", figsize=(8, 8))\n",
        "axgrid = fig.add_gridspec(5, 4)\n",
        "\n",
        "ax2 = fig.add_subplot(axgrid[3:, 2:])\n",
        "ax2.bar(*np.unique(degree_sequence, return_counts=True))\n",
        "ax2.set_title(\"Degree histogram\")\n",
        "ax2.set_xlabel(\"Degree\")\n",
        "ax2.set_ylabel(\"# of Nodes\")\n",
        "\n",
        "fig.tight_layout()\n",
        "plt.show()"
      ],
      "execution_count": null,
      "outputs": [
        {
          "output_type": "display_data",
          "data": {
            "image/png": "[encoded data removed]",
            "text/plain": [
              "<Figure size 576x576 with 1 Axes>"
            ]
          },
          "metadata": {
            "needs_background": "light"
          }
        }
      ]
    },
    {
      "cell_type": "code",
      "metadata": {
        "id": "wXYSeWZZStnh"
      },
      "source": [
        "for playerId in range(len(game.Players)):\n",
        "  player = game.Players[playerId]\n",
        "  print(\"player id: \"+str(player.id))\n",
        "  print(\"qinitProposer\")\n",
        "  print(player.qinitProposer)\n",
        "  print(\"qinitCorrespondent\")\n",
        "  print(player.qinitCorrespondent)\n",
        "\n",
        "print(list(offerDic[1].values()))"
      ],
      "execution_count": null,
      "outputs": []
    },
    {
      "cell_type": "code",
      "metadata": {
        "colab": {
          "base_uri": "https://localhost:8080/",
          "height": 513
        },
        "id": "SVK_8DX5xXEb",
        "outputId": "d952f734-3953-4e9d-83e3-0cc5984ea439"
      },
      "source": [
        "s = np.random.uniform(0,1,1000)\n",
        "ola = [round(i,1) for i in list(s) ]\n",
        "count, bins, ignored = plt.hist(ola, 15, density=True)\n",
        "plt.plot(bins, np.ones_like(bins), linewidth=2, color='r')\n",
        "plt.show()\n",
        "\n",
        "count, bins, ignored = plt.hist(s, 15, density=True)\n",
        "plt.plot(bins, np.ones_like(bins), linewidth=2, color='r')\n",
        "plt.show()"
      ],
      "execution_count": null,
      "outputs": [
        {
          "output_type": "display_data",
          "data": {
            "image/png": "[encoded data removed]",
            "text/plain": [
              "<Figure size 432x288 with 1 Axes>"
            ]
          },
          "metadata": {
            "needs_background": "light"
          }
        },
        {
          "output_type": "display_data",
          "data": {
            "image/png": "[encoded data removed]",
            "text/plain": [
              "<Figure size 432x288 with 1 Axes>"
            ]
          },
          "metadata": {
            "needs_background": "light"
          }
        }
      ]
    },
    {
      "cell_type": "code",
      "metadata": {
        "colab": {
          "base_uri": "https://localhost:8080/",
          "height": 305
        },
        "id": "h9--kWWC0ZKA",
        "outputId": "55531103-e52b-457d-c259-1a7553219283"
      },
      "source": [
        "from collections import Counter\n",
        "import pandas\n",
        "ran = random.choices (bargainValues,k=1000)\n",
        "count = Counter(ran)\n",
        "print(count)\n",
        "df = pandas.DataFrame.from_dict(count, orient='index')\n",
        "df.plot(kind='bar')"
      ],
      "execution_count": null,
      "outputs": [
        {
          "output_type": "stream",
          "name": "stdout",
          "text": [
            "Counter({0.3: 110, 0.5: 103, 0: 97, 0.6: 94, 1.0: 91, 0.9: 90, 0.1: 89, 0.7: 87, 0.8: 86, 0.4: 79, 0.2: 74})\n"
          ]
        },
        {
          "output_type": "execute_result",
          "data": {
            "text/plain": [
              "<matplotlib.axes._subplots.AxesSubplot at 0x7f3b058377d0>"
            ]
          },
          "metadata": {},
          "execution_count": 259
        },
        {
          "output_type": "display_data",
          "data": {
            "image/png": "[encoded data removed]",
            "text/plain": [
              "<Figure size 432x288 with 1 Axes>"
            ]
          },
          "metadata": {
            "needs_background": "light"
          }
        }
      ]
    },
    {
      "cell_type": "markdown",
      "metadata": {
        "id": "h48xGQO8ziQM"
      },
      "source": [
        "Ver se natural selection ]e com base no avg payoff ou global\n",
        "se na formula os k sao os graus dos nos *a.ka. vizinhos_\n",
        "ver scale free undirected\n",
        "perceber o que é o d(p)"
      ]
    }
  ]
}